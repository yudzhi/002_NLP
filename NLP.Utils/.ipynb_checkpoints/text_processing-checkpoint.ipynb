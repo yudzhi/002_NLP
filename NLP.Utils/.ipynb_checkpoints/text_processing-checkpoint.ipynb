{
 "cells": [
  {
   "cell_type": "markdown",
   "metadata": {},
   "source": [
    "# Text Processing\n",
    "\n",
    "## Capturing Text Data\n",
    "\n",
    "### Plain Text"
   ]
  },
  {
   "cell_type": "code",
   "execution_count": 1,
   "metadata": {},
   "outputs": [
    {
     "name": "stdout",
     "output_type": "stream",
     "text": [
      "Hieroglyphic writing dates from c. 3000 BC, and is composed of hundreds of symbols. A hieroglyph can represent a word, a sound, or a silent determinative; and the same symbol can serve different purposes in different contexts. Hieroglyphs were a formal script, used on stone monuments and in tombs, that could be as detailed as individual works of art.\n",
      "\n"
     ]
    }
   ],
   "source": [
    "import os\n",
    "\n",
    "# Read in a plain text file\n",
    "with open(os.path.join(\"data\", \"hieroglyph.txt\"), \"r\") as f:\n",
    "    text = f.read()\n",
    "    print(text)"
   ]
  },
  {
   "cell_type": "markdown",
   "metadata": {},
   "source": [
    "### Tabular Data"
   ]
  },
  {
   "cell_type": "code",
   "execution_count": 2,
   "metadata": {
    "scrolled": true
   },
   "outputs": [
    {
     "data": {
      "text/html": [
       "<div>\n",
       "<style scoped>\n",
       "    .dataframe tbody tr th:only-of-type {\n",
       "        vertical-align: middle;\n",
       "    }\n",
       "\n",
       "    .dataframe tbody tr th {\n",
       "        vertical-align: top;\n",
       "    }\n",
       "\n",
       "    .dataframe thead th {\n",
       "        text-align: right;\n",
       "    }\n",
       "</style>\n",
       "<table border=\"1\" class=\"dataframe\">\n",
       "  <thead>\n",
       "    <tr style=\"text-align: right;\">\n",
       "      <th></th>\n",
       "      <th>publisher</th>\n",
       "      <th>title</th>\n",
       "    </tr>\n",
       "  </thead>\n",
       "  <tbody>\n",
       "    <tr>\n",
       "      <th>0</th>\n",
       "      <td>Livemint</td>\n",
       "      <td>fed's charles plosser sees high bar for change...</td>\n",
       "    </tr>\n",
       "    <tr>\n",
       "      <th>1</th>\n",
       "      <td>IFA Magazine</td>\n",
       "      <td>us open: stocks fall after fed official hints ...</td>\n",
       "    </tr>\n",
       "    <tr>\n",
       "      <th>2</th>\n",
       "      <td>IFA Magazine</td>\n",
       "      <td>fed risks falling 'behind the curve', charles ...</td>\n",
       "    </tr>\n",
       "    <tr>\n",
       "      <th>3</th>\n",
       "      <td>Moneynews</td>\n",
       "      <td>fed's plosser: nasty weather has curbed job gr...</td>\n",
       "    </tr>\n",
       "    <tr>\n",
       "      <th>4</th>\n",
       "      <td>NASDAQ</td>\n",
       "      <td>plosser: fed may have to accelerate tapering pace</td>\n",
       "    </tr>\n",
       "  </tbody>\n",
       "</table>\n",
       "</div>"
      ],
      "text/plain": [
       "      publisher                                              title\n",
       "0      Livemint  fed's charles plosser sees high bar for change...\n",
       "1  IFA Magazine  us open: stocks fall after fed official hints ...\n",
       "2  IFA Magazine  fed risks falling 'behind the curve', charles ...\n",
       "3     Moneynews  fed's plosser: nasty weather has curbed job gr...\n",
       "4        NASDAQ  plosser: fed may have to accelerate tapering pace"
      ]
     },
     "execution_count": 2,
     "metadata": {},
     "output_type": "execute_result"
    }
   ],
   "source": [
    "import pandas as pd\n",
    "\n",
    "# Extract text column from a dataframe\n",
    "df = pd.read_csv(os.path.join(\"data\", \"news.csv\"))\n",
    "df.head()[['publisher', 'title']]\n",
    "\n",
    "# Convert text column to lowercase\n",
    "df['title'] = df['title'].str.lower()\n",
    "df.head()[['publisher', 'title']]"
   ]
  },
  {
   "cell_type": "markdown",
   "metadata": {},
   "source": [
    "### Online Resource"
   ]
  },
  {
   "cell_type": "code",
   "execution_count": 5,
   "metadata": {
    "scrolled": true
   },
   "outputs": [
    {
     "name": "stdout",
     "output_type": "stream",
     "text": [
      "{\n",
      "    \"success\": {\n",
      "        \"total\": 1\n",
      "    },\n",
      "    \"contents\": {\n",
      "        \"quotes\": [\n",
      "            {\n",
      "                \"quote\": \"Great ambition is the passion of a great character.  Those endowed with it may perform very good or very bad acts.  All depends on the principals which direct them.\",\n",
      "                \"length\": \"164\",\n",
      "                \"author\": \"Napoleon Bonaparte\",\n",
      "                \"tags\": [\n",
      "                    \"ambition\",\n",
      "                    \"inspire\",\n",
      "                    \"passion\"\n",
      "                ],\n",
      "                \"category\": \"inspire\",\n",
      "                \"date\": \"2018-12-17\",\n",
      "                \"permalink\": \"https://theysaidso.com/quote/X8juAoTtvxSEdgA0sGbYeQeF/napoleon-bonaparte-great-ambition-is-the-passion-of-a-great-character-those-endo\",\n",
      "                \"title\": \"Inspiring Quote of the day\",\n",
      "                \"background\": \"https://theysaidso.com/img/bgs/man_on_the_mountain.jpg\",\n",
      "                \"id\": \"X8juAoTtvxSEdgA0sGbYeQeF\"\n",
      "            }\n",
      "        ],\n",
      "        \"copyright\": \"2017-19 theysaidso.com\"\n",
      "    }\n",
      "}\n",
      "Great ambition is the passion of a great character.  Those endowed with it may perform very good or very bad acts.  All depends on the principals which direct them. \n",
      "-- Napoleon Bonaparte\n"
     ]
    }
   ],
   "source": [
    "import requests\n",
    "import json\n",
    "\n",
    "# Fetch data from a REST API\n",
    "r = requests.get(\n",
    "    \"https://quotes.rest/qod.json\")\n",
    "res = r.json()\n",
    "print(json.dumps(res, indent=4))\n",
    "\n",
    "# Extract relevant object and field\n",
    "q = res[\"contents\"][\"quotes\"][0]\n",
    "print(q[\"quote\"], \"\\n--\", q[\"author\"])"
   ]
  },
  {
   "cell_type": "markdown",
   "metadata": {},
   "source": [
    "## Cleaning"
   ]
  },
  {
   "cell_type": "code",
   "execution_count": 6,
   "metadata": {
    "scrolled": true
   },
   "outputs": [
    {
     "name": "stdout",
     "output_type": "stream",
     "text": [
      "<html op=\"news\"><head><meta name=\"referrer\" content=\"origin\"><meta name=\"viewport\" content=\"width=device-width, initial-scale=1.0\"><link rel=\"stylesheet\" type=\"text/css\" href=\"news.css?i3QZFyQGGgTNEupNTrnX\">\n",
      "            <link rel=\"shortcut icon\" href=\"favicon.ico\">\n",
      "          <link rel=\"alternate\" type=\"application/rss+xml\" title=\"RSS\" href=\"rss\">\n",
      "        <title>Hacker News</title></head><body><center><table id=\"hnmain\" border=\"0\" cellpadding=\"0\" cellspacing=\"0\" width=\"85%\" bgcolor=\"#f6f6ef\">\n",
      "        <tr><td bgcolor=\"#ff6600\"><table border=\"0\" cellpadding=\"0\" cellspacing=\"0\" width=\"100%\" style=\"padding:2px\"><tr><td style=\"width:18px;padding-right:4px\"><a href=\"https://news.ycombinator.com\"><img src=\"y18.gif\" width=\"18\" height=\"18\" style=\"border:1px white solid;\"></a></td>\n",
      "                  <td style=\"line-height:12pt; height:10px;\"><span class=\"pagetop\"><b class=\"hnname\"><a href=\"news\">Hacker News</a></b>\n",
      "              <a href=\"newest\">new</a> | <a href=\"newcomments\">comments</a> | <a href=\"show\">show</a> | <a href=\"ask\">ask</a> | <a href=\"jobs\">jobs</a> | <a href=\"submit\">submit</a>            </span></td><td style=\"text-align:right;padding-right:4px;\"><span class=\"pagetop\">\n",
      "                              <a href=\"login?goto=news\">login</a>\n",
      "                          </span></td>\n",
      "              </tr></table></td></tr>\n",
      "<tr style=\"height:10px\"></tr><tr><td><table border=\"0\" cellpadding=\"0\" cellspacing=\"0\" class=\"itemlist\">\n",
      "              <tr class='athing' id='18695721'>\n",
      "      <td align=\"right\" valign=\"top\" class=\"title\"><span class=\"rank\">1.</span></td>      <td valign=\"top\" class=\"votelinks\"><center><a id='up_18695721' href='vote?id=18695721&amp;how=up&amp;goto=news'><div class='votearrow' title='upvote'></div></a></center></td><td class=\"title\"><a href=\"https://hbr.org/2018/09/why-design-thinking-works\" class=\"storylink\">Why Design Thinking Works</a><span class=\"sitebit comhead\"> (<a href=\"from?site=hbr.org\"><span class=\"sitestr\">hbr.org</span></a>)</span></td></tr><tr><td colspan=\"2\"></td><td class=\"subtext\">\n",
      "        <span class=\"score\" id=\"score_18695721\">37 points</span> by <a href=\"user?id=helloworld\" class=\"hnuser\">helloworld</a> <span class=\"age\"><a href=\"item?id=18695721\">1 hour ago</a></span> <span id=\"unv_18695721\"></span> | <a href=\"hide?id=18695721&amp;goto=news\">hide</a> | <a href=\"item?id=18695721\">11&nbsp;comments</a>              </td></tr>\n",
      "      <tr class=\"spacer\" style=\"height:5px\"></tr>\n",
      "                <tr class='athing' id='18695564'>\n",
      "      <td align=\"right\" valign=\"top\" class=\"title\"><span class=\"rank\">2.</span></td>      <td valign=\"top\" class=\"votelinks\"><center><a id='up_18695564' href='vote?id=18695564&amp;how=up&amp;goto=news'><div class='votearrow' title='upvote'></div></a></center></td><td class=\"title\"><a href=\"https://www.wsj.com/articles/amazon-targets-unprofitable-items-with-a-sharper-focus-on-the-bottom-line-11544965201\" class=\"storylink\">Amazon Targets Unprofitable Items, with a Sharper Focus on the Bottom Line</a><span class=\"sitebit comhead\"> (<a href=\"from?site=wsj.com\"><span class=\"sitestr\">wsj.com</span></a>)</span></td></tr><tr><td colspan=\"2\"></td><td class=\"subtext\">\n",
      "        <span class=\"score\" id=\"score_18695564\">29 points</span> by <a href=\"user?id=JumpCrisscross\" class=\"hnuser\">JumpCrisscross</a> <span class=\"age\"><a href=\"item?id=18695564\">2 hours ago</a></span> <span id=\"unv_18695564\"></span> | <a href=\"hide?id=18695564&amp;goto=news\">hide</a> | <a href=\"item?id=18695564\">23&nbsp;comments</a>              </td></tr>\n",
      "      <tr class=\"spacer\" style=\"height:5px\"></tr>\n",
      "                <tr class='athing' id='18694006'>\n",
      "      <td align=\"right\" valign=\"top\" class=\"title\"><span class=\"rank\">3.</span></td>      <td valign=\"top\" class=\"votelinks\"><center><a id='up_18694006' href='vote?id=18694006&amp;how=up&amp;goto=news'><div class='votearrow' title='upvote'></div></a></center></td><td class=\"title\"><a href=\"https://www.kjmagnetics.com/blog.asp?p=pogo-stick-spring\" class=\"storylink\">Can Repelling Magnets Replace the Spring in a Pogo Stick?</a><span class=\"sitebit comhead\"> (<a href=\"from?site=kjmagnetics.com\"><span class=\"sitestr\">kjmagnetics.com</span></a>)</span></td></tr><tr><td colspan=\"2\"></td><td class=\"subtext\">\n",
      "        <span class=\"score\" id=\"score_18694006\">213 points</span> by <a href=\"user?id=mhb\" class=\"hnuser\">mhb</a> <span class=\"age\"><a href=\"item?id=18694006\">6 hours ago</a></span> <span id=\"unv_18694006\"></span> | <a href=\"hide?id=18694006&amp;goto=news\">hide</a> | <a href=\"item?id=18694006\">115&nbsp;comments</a>              </td></tr>\n",
      "      <tr class=\"spacer\" style=\"height:5px\"></tr>\n",
      "                <tr class='athing' id='18692136'>\n",
      "      <td align=\"right\" valign=\"top\" class=\"title\"><span class=\"rank\">4.</span></td>      <td valign=\"top\" class=\"votelinks\"><center><a id='up_18692136' href='vote?id=18692136&amp;how=up&amp;goto=news'><div class='votearrow' title='upvote'></div></a></center></td><td class=\"title\"><a href=\"https://www.wbur.org/onlyagame/2018/12/14/lin-wang-charles-barkley\" class=\"storylink\">My Dad's Friendship with Charles Barkley</a><span class=\"sitebit comhead\"> (<a href=\"from?site=wbur.org\"><span class=\"sitestr\">wbur.org</span></a>)</span></td></tr><tr><td colspan=\"2\"></td><td class=\"subtext\">\n",
      "        <span class=\"score\" id=\"score_18692136\">256 points</span> by <a href=\"user?id=weitingliu\" class=\"hnuser\">weitingliu</a> <span class=\"age\"><a href=\"item?id=18692136\">6 hours ago</a></span> <span id=\"unv_18692136\"></span> | <a href=\"hide?id=18692136&amp;goto=news\">hide</a> | <a href=\"item?id=18692136\">26&nbsp;comments</a>              </td></tr>\n",
      "      <tr class=\"spacer\" style=\"height:5px\"></tr>\n",
      "                <tr class='athing' id='18694351'>\n",
      "      <td align=\"right\" valign=\"top\" class=\"title\"><span class=\"rank\">5.</span></td>      <td valign=\"top\" class=\"votelinks\"><center><a id='up_18694351' href='vote?id=18694351&amp;how=up&amp;goto=news'><div class='votearrow' title='upvote'></div></a></center></td><td class=\"title\"><a href=\"https://www.peterme.com/2007/08/27/thoughts-on-and-pics-of-the-original-macintosh-user-manual/\" class=\"storylink\">Thoughts on, and pictures of, the original Macintosh User Manual</a><span class=\"sitebit comhead\"> (<a href=\"from?site=peterme.com\"><span class=\"sitestr\">peterme.com</span></a>)</span></td></tr><tr><td colspan=\"2\"></td><td class=\"subtext\">\n",
      "        <span class=\"score\" id=\"score_18694351\">110 points</span> by <a href=\"user?id=tosh\" class=\"hnuser\">tosh</a> <span class=\"age\"><a href=\"item?id=18694351\">5 hours ago</a></span> <span id=\"unv_18694351\"></span> | <a href=\"hide?id=18694351&amp;goto=news\">hide</a> | <a href=\"item?id=18694351\">40&nbsp;comments</a>              </td></tr>\n",
      "      <tr class=\"spacer\" style=\"height:5px\"></tr>\n",
      "                <tr class='athing' id='18695128'>\n",
      "      <td align=\"right\" valign=\"top\" class=\"title\"><span class=\"rank\">6.</span></td>      <td valign=\"top\" class=\"votelinks\"><center><a id='up_18695128' href='vote?id=18695128&amp;how=up&amp;goto=news'><div class='votearrow' title='upvote'></div></a></center></td><td class=\"title\"><a href=\"https://github.com/tinfoilboy/CTML\" class=\"storylink\">Show HN: Single-header C++11 HTML document constructor</a><span class=\"sitebit comhead\"> (<a href=\"from?site=github.com\"><span class=\"sitestr\">github.com</span></a>)</span></td></tr><tr><td colspan=\"2\"></td><td class=\"subtext\">\n",
      "        <span class=\"score\" id=\"score_18695128\">43 points</span> by <a href=\"user?id=tinfoilboy\" class=\"hnuser\">tinfoilboy</a> <span class=\"age\"><a href=\"item?id=18695128\">3 hours ago</a></span> <span id=\"unv_18695128\"></span> | <a href=\"hide?id=18695128&amp;goto=news\">hide</a> | <a href=\"item?id=18695128\">6&nbsp;comments</a>              </td></tr>\n",
      "      <tr class=\"spacer\" style=\"height:5px\"></tr>\n",
      "                <tr class='athing' id='18693068'>\n",
      "      <td align=\"right\" valign=\"top\" class=\"title\"><span class=\"rank\">7.</span></td>      <td valign=\"top\" class=\"votelinks\"><center><a id='up_18693068' href='vote?id=18693068&amp;how=up&amp;goto=news'><div class='votearrow' title='upvote'></div></a></center></td><td class=\"title\"><a href=\"https://www.bbc.co.uk/news/world-middle-east-46580264\" class=\"storylink\">4,400 year old Egyptian tomb discovered in the Saqqara pyramid complex</a><span class=\"sitebit comhead\"> (<a href=\"from?site=bbc.co.uk\"><span class=\"sitestr\">bbc.co.uk</span></a>)</span></td></tr><tr><td colspan=\"2\"></td><td class=\"subtext\">\n",
      "        <span class=\"score\" id=\"score_18693068\">217 points</span> by <a href=\"user?id=open-source-ux\" class=\"hnuser\">open-source-ux</a> <span class=\"age\"><a href=\"item?id=18693068\">10 hours ago</a></span> <span id=\"unv_18693068\"></span> | <a href=\"hide?id=18693068&amp;goto=news\">hide</a> | <a href=\"item?id=18693068\">39&nbsp;comments</a>              </td></tr>\n",
      "      <tr class=\"spacer\" style=\"height:5px\"></tr>\n",
      "                <tr class='athing' id='18695501'>\n",
      "      <td align=\"right\" valign=\"top\" class=\"title\"><span class=\"rank\">8.</span></td>      <td valign=\"top\" class=\"votelinks\"><center><a id='up_18695501' href='vote?id=18695501&amp;how=up&amp;goto=news'><div class='votearrow' title='upvote'></div></a></center></td><td class=\"title\"><a href=\"https://www.failory.com/mistakes/liveagent\" class=\"storylink\">LiveAgent: Making +$250K/month with a Spin-Off Project</a><span class=\"sitebit comhead\"> (<a href=\"from?site=failory.com\"><span class=\"sitestr\">failory.com</span></a>)</span></td></tr><tr><td colspan=\"2\"></td><td class=\"subtext\">\n",
      "        <span class=\"score\" id=\"score_18695501\">19 points</span> by <a href=\"user?id=nicoserdeir\" class=\"hnuser\">nicoserdeir</a> <span class=\"age\"><a href=\"item?id=18695501\">2 hours ago</a></span> <span id=\"unv_18695501\"></span> | <a href=\"hide?id=18695501&amp;goto=news\">hide</a> | <a href=\"item?id=18695501\">discuss</a>              </td></tr>\n",
      "      <tr class=\"spacer\" style=\"height:5px\"></tr>\n",
      "                <tr class='athing' id='18695451'>\n",
      "      <td align=\"right\" valign=\"top\" class=\"title\"><span class=\"rank\">9.</span></td>      <td valign=\"top\" class=\"votelinks\"><center><a id='up_18695451' href='vote?id=18695451&amp;how=up&amp;goto=news'><div class='votearrow' title='upvote'></div></a></center></td><td class=\"title\"><a href=\"https://blog.ycombinator.com/leonard-susskind-on-richard-feynman-the-holographic-principle-and-unanswered-questions-in-physics/\" class=\"storylink\">Leonard Susskind on Feynman, the Holographic Principle, and Unanswered Physics</a><span class=\"sitebit comhead\"> (<a href=\"from?site=ycombinator.com\"><span class=\"sitestr\">ycombinator.com</span></a>)</span></td></tr><tr><td colspan=\"2\"></td><td class=\"subtext\">\n",
      "        <span class=\"score\" id=\"score_18695451\">18 points</span> by <a href=\"user?id=4ad\" class=\"hnuser\">4ad</a> <span class=\"age\"><a href=\"item?id=18695451\">2 hours ago</a></span> <span id=\"unv_18695451\"></span> | <a href=\"hide?id=18695451&amp;goto=news\">hide</a> | <a href=\"item?id=18695451\">1&nbsp;comment</a>              </td></tr>\n",
      "      <tr class=\"spacer\" style=\"height:5px\"></tr>\n",
      "                <tr class='athing' id='18694253'>\n",
      "      <td align=\"right\" valign=\"top\" class=\"title\"><span class=\"rank\">10.</span></td>      <td valign=\"top\" class=\"votelinks\"><center><a id='up_18694253' href='vote?id=18694253&amp;how=up&amp;goto=news'><div class='votearrow' title='upvote'></div></a></center></td><td class=\"title\"><a href=\"https://boats.gitlab.io/blog/post/rust-2019/\" class=\"storylink\">Organizational Debt</a><span class=\"sitebit comhead\"> (<a href=\"from?site=boats.gitlab.io\"><span class=\"sitestr\">boats.gitlab.io</span></a>)</span></td></tr><tr><td colspan=\"2\"></td><td class=\"subtext\">\n",
      "        <span class=\"score\" id=\"score_18694253\">84 points</span> by <a href=\"user?id=ingve\" class=\"hnuser\">ingve</a> <span class=\"age\"><a href=\"item?id=18694253\">5 hours ago</a></span> <span id=\"unv_18694253\"></span> | <a href=\"hide?id=18694253&amp;goto=news\">hide</a> | <a href=\"item?id=18694253\">16&nbsp;comments</a>              </td></tr>\n",
      "      <tr class=\"spacer\" style=\"height:5px\"></tr>\n",
      "                <tr class='athing' id='18692853'>\n",
      "      <td align=\"right\" valign=\"top\" class=\"title\"><span class=\"rank\">11.</span></td>      <td valign=\"top\" class=\"votelinks\"><center><a id='up_18692853' href='vote?id=18692853&amp;how=up&amp;goto=news'><div class='votearrow' title='upvote'></div></a></center></td><td class=\"title\"><a href=\"https://kinsta.com/blog/disable-google-amp/\" class=\"storylink\">Google AMP case study: leads dropped by 59%</a><span class=\"sitebit comhead\"> (<a href=\"from?site=kinsta.com\"><span class=\"sitestr\">kinsta.com</span></a>)</span></td></tr><tr><td colspan=\"2\"></td><td class=\"subtext\">\n",
      "        <span class=\"score\" id=\"score_18692853\">238 points</span> by <a href=\"user?id=krn\" class=\"hnuser\">krn</a> <span class=\"age\"><a href=\"item?id=18692853\">11 hours ago</a></span> <span id=\"unv_18692853\"></span> | <a href=\"hide?id=18692853&amp;goto=news\">hide</a> | <a href=\"item?id=18692853\">119&nbsp;comments</a>              </td></tr>\n",
      "      <tr class=\"spacer\" style=\"height:5px\"></tr>\n",
      "                <tr class='athing' id='18693044'>\n",
      "      <td align=\"right\" valign=\"top\" class=\"title\"><span class=\"rank\">12.</span></td>      <td valign=\"top\" class=\"votelinks\"><center><a id='up_18693044' href='vote?id=18693044&amp;how=up&amp;goto=news'><div class='votearrow' title='upvote'></div></a></center></td><td class=\"title\"><a href=\"https://fascinatingmaps.com/strange-german-exclaves-in-belgium-vennbahn/\" class=\"storylink\">German exclaves in Belgium separated by a bicycle path from the rest of Germany</a><span class=\"sitebit comhead\"> (<a href=\"from?site=fascinatingmaps.com\"><span class=\"sitestr\">fascinatingmaps.com</span></a>)</span></td></tr><tr><td colspan=\"2\"></td><td class=\"subtext\">\n",
      "        <span class=\"score\" id=\"score_18693044\">213 points</span> by <a href=\"user?id=rwmj\" class=\"hnuser\">rwmj</a> <span class=\"age\"><a href=\"item?id=18693044\">10 hours ago</a></span> <span id=\"unv_18693044\"></span> | <a href=\"hide?id=18693044&amp;goto=news\">hide</a> | <a href=\"item?id=18693044\">137&nbsp;comments</a>              </td></tr>\n",
      "      <tr class=\"spacer\" style=\"height:5px\"></tr>\n",
      "                <tr class='athing' id='18692455'>\n",
      "      <td align=\"right\" valign=\"top\" class=\"title\"><span class=\"rank\">13.</span></td>      <td valign=\"top\" class=\"votelinks\"><center><a id='up_18692455' href='vote?id=18692455&amp;how=up&amp;goto=news'><div class='votearrow' title='upvote'></div></a></center></td><td class=\"title\"><a href=\"https://blog.socialcops.com/inside-sc/announcements/flyio-r-package-interact-data-cloud/\" class=\"storylink\">Announcing flyio, an R package to interact with data in the cloud</a><span class=\"sitebit comhead\"> (<a href=\"from?site=socialcops.com\"><span class=\"sitestr\">socialcops.com</span></a>)</span></td></tr><tr><td colspan=\"2\"></td><td class=\"subtext\">\n",
      "        <span class=\"score\" id=\"score_18692455\">7 points</span> by <a href=\"user?id=akashtndn\" class=\"hnuser\">akashtndn</a> <span class=\"age\"><a href=\"item?id=18692455\">1 hour ago</a></span> <span id=\"unv_18692455\"></span> | <a href=\"hide?id=18692455&amp;goto=news\">hide</a> | <a href=\"item?id=18692455\">discuss</a>              </td></tr>\n",
      "      <tr class=\"spacer\" style=\"height:5px\"></tr>\n",
      "                <tr class='athing' id='18692918'>\n",
      "      <td align=\"right\" valign=\"top\" class=\"title\"><span class=\"rank\">14.</span></td>      <td valign=\"top\" class=\"votelinks\"><center><a id='up_18692918' href='vote?id=18692918&amp;how=up&amp;goto=news'><div class='votearrow' title='upvote'></div></a></center></td><td class=\"title\"><a href=\"https://www.geek.com/news/commodore-amiga-computer-has-been-running-the-acheat-in-19-schools-for-30-years-1625147/\" class=\"storylink\">1980s Amiga has been running the AC and heat in 19 schools for 30 years</a><span class=\"sitebit comhead\"> (<a href=\"from?site=geek.com\"><span class=\"sitestr\">geek.com</span></a>)</span></td></tr><tr><td colspan=\"2\"></td><td class=\"subtext\">\n",
      "        <span class=\"score\" id=\"score_18692918\">172 points</span> by <a href=\"user?id=flippyhead\" class=\"hnuser\">flippyhead</a> <span class=\"age\"><a href=\"item?id=18692918\">11 hours ago</a></span> <span id=\"unv_18692918\"></span> | <a href=\"hide?id=18692918&amp;goto=news\">hide</a> | <a href=\"item?id=18692918\">124&nbsp;comments</a>              </td></tr>\n",
      "      <tr class=\"spacer\" style=\"height:5px\"></tr>\n",
      "                <tr class='athing' id='18690447'>\n",
      "      <td align=\"right\" valign=\"top\" class=\"title\"><span class=\"rank\">15.</span></td>      <td valign=\"top\" class=\"votelinks\"><center><a id='up_18690447' href='vote?id=18690447&amp;how=up&amp;goto=news'><div class='votearrow' title='upvote'></div></a></center></td><td class=\"title\"><a href=\"https://gizmodo.com/two-stalagmites-found-in-chinese-cave-are-a-holy-grail-1831074289\" class=\"storylink\">Two Chinese Stalagmites Are a 'Holy Grail' for Accurate Radiocarbon Dating</a><span class=\"sitebit comhead\"> (<a href=\"from?site=gizmodo.com\"><span class=\"sitestr\">gizmodo.com</span></a>)</span></td></tr><tr><td colspan=\"2\"></td><td class=\"subtext\">\n",
      "        <span class=\"score\" id=\"score_18690447\">65 points</span> by <a href=\"user?id=curtis\" class=\"hnuser\">curtis</a> <span class=\"age\"><a href=\"item?id=18690447\">7 hours ago</a></span> <span id=\"unv_18690447\"></span> | <a href=\"hide?id=18690447&amp;goto=news\">hide</a> | <a href=\"item?id=18690447\">18&nbsp;comments</a>              </td></tr>\n",
      "      <tr class=\"spacer\" style=\"height:5px\"></tr>\n",
      "                <tr class='athing' id='18695241'>\n",
      "      <td align=\"right\" valign=\"top\" class=\"title\"><span class=\"rank\">16.</span></td>      <td valign=\"top\" class=\"votelinks\"><center><a id='up_18695241' href='vote?id=18695241&amp;how=up&amp;goto=news'><div class='votearrow' title='upvote'></div></a></center></td><td class=\"title\"><a href=\"https://www.bbc.com/news/world-us-canada-46585537\" class=\"storylink\">Owner who demolished famed San Francisco house must build replica</a><span class=\"sitebit comhead\"> (<a href=\"from?site=bbc.com\"><span class=\"sitestr\">bbc.com</span></a>)</span></td></tr><tr><td colspan=\"2\"></td><td class=\"subtext\">\n",
      "        <span class=\"score\" id=\"score_18695241\">19 points</span> by <a href=\"user?id=skookum\" class=\"hnuser\">skookum</a> <span class=\"age\"><a href=\"item?id=18695241\">3 hours ago</a></span> <span id=\"unv_18695241\"></span> | <a href=\"hide?id=18695241&amp;goto=news\">hide</a> | <a href=\"item?id=18695241\">4&nbsp;comments</a>              </td></tr>\n",
      "      <tr class=\"spacer\" style=\"height:5px\"></tr>\n",
      "                <tr class='athing' id='18692551'>\n",
      "      <td align=\"right\" valign=\"top\" class=\"title\"><span class=\"rank\">17.</span></td>      <td valign=\"top\" class=\"votelinks\"><center><a id='up_18692551' href='vote?id=18692551&amp;how=up&amp;goto=news'><div class='votearrow' title='upvote'></div></a></center></td><td class=\"title\"><a href=\"http://moralmachine.mit.edu/\" class=\"storylink\">Moral Machine</a><span class=\"sitebit comhead\"> (<a href=\"from?site=mit.edu\"><span class=\"sitestr\">mit.edu</span></a>)</span></td></tr><tr><td colspan=\"2\"></td><td class=\"subtext\">\n",
      "        <span class=\"score\" id=\"score_18692551\">11 points</span> by <a href=\"user?id=based2\" class=\"hnuser\">based2</a> <span class=\"age\"><a href=\"item?id=18692551\">2 hours ago</a></span> <span id=\"unv_18692551\"></span> | <a href=\"hide?id=18692551&amp;goto=news\">hide</a> | <a href=\"item?id=18692551\">4&nbsp;comments</a>              </td></tr>\n",
      "      <tr class=\"spacer\" style=\"height:5px\"></tr>\n",
      "                <tr class='athing' id='18691605'>\n",
      "      <td align=\"right\" valign=\"top\" class=\"title\"><span class=\"rank\">18.</span></td>      <td valign=\"top\" class=\"votelinks\"><center><a id='up_18691605' href='vote?id=18691605&amp;how=up&amp;goto=news'><div class='votearrow' title='upvote'></div></a></center></td><td class=\"title\"><a href=\"https://somethingaboutmaps.wordpress.com/2018/11/26/typewriter-cartography/\" class=\"storylink\">Typewriter Cartography</a><span class=\"sitebit comhead\"> (<a href=\"from?site=somethingaboutmaps.wordpress.com\"><span class=\"sitestr\">somethingaboutmaps.wordpress.com</span></a>)</span></td></tr><tr><td colspan=\"2\"></td><td class=\"subtext\">\n",
      "        <span class=\"score\" id=\"score_18691605\">21 points</span> by <a href=\"user?id=Jureko\" class=\"hnuser\">Jureko</a> <span class=\"age\"><a href=\"item?id=18691605\">3 hours ago</a></span> <span id=\"unv_18691605\"></span> | <a href=\"hide?id=18691605&amp;goto=news\">hide</a> | <a href=\"item?id=18691605\">2&nbsp;comments</a>              </td></tr>\n",
      "      <tr class=\"spacer\" style=\"height:5px\"></tr>\n",
      "                <tr class='athing' id='18693738'>\n",
      "      <td align=\"right\" valign=\"top\" class=\"title\"><span class=\"rank\">19.</span></td>      <td valign=\"top\" class=\"votelinks\"><center><a id='up_18693738' href='vote?id=18693738&amp;how=up&amp;goto=news'><div class='votearrow' title='upvote'></div></a></center></td><td class=\"title\"><a href=\"https://www.forbes.com/sites/thomasbrewster/2018/12/13/we-broke-into-a-bunch-of-android-phones-with-a-3d-printed-head/#305e5c2f1330\" class=\"storylink\">Breaking Into Android Phones with a 3D-Printed Head</a><span class=\"sitebit comhead\"> (<a href=\"from?site=forbes.com\"><span class=\"sitestr\">forbes.com</span></a>)</span></td></tr><tr><td colspan=\"2\"></td><td class=\"subtext\">\n",
      "        <span class=\"score\" id=\"score_18693738\">55 points</span> by <a href=\"user?id=rexbee\" class=\"hnuser\">rexbee</a> <span class=\"age\"><a href=\"item?id=18693738\">7 hours ago</a></span> <span id=\"unv_18693738\"></span> | <a href=\"hide?id=18693738&amp;goto=news\">hide</a> | <a href=\"item?id=18693738\">48&nbsp;comments</a>              </td></tr>\n",
      "      <tr class=\"spacer\" style=\"height:5px\"></tr>\n",
      "                <tr class='athing' id='18692376'>\n",
      "      <td align=\"right\" valign=\"top\" class=\"title\"><span class=\"rank\">20.</span></td>      <td valign=\"top\" class=\"votelinks\"><center><a id='up_18692376' href='vote?id=18692376&amp;how=up&amp;goto=news'><div class='votearrow' title='upvote'></div></a></center></td><td class=\"title\"><a href=\"http://git.kernel.dk/cgit/linux-block/commit/?h=aio-poll&amp;id=5aeaa1ad235c708e31ad930d1ff6ba6fd39bee91\" class=\"storylink\">Linux: IO without entering the kernel</a><span class=\"sitebit comhead\"> (<a href=\"from?site=kernel.dk\"><span class=\"sitestr\">kernel.dk</span></a>)</span></td></tr><tr><td colspan=\"2\"></td><td class=\"subtext\">\n",
      "        <span class=\"score\" id=\"score_18692376\">184 points</span> by <a href=\"user?id=pplonski86\" class=\"hnuser\">pplonski86</a> <span class=\"age\"><a href=\"item?id=18692376\">14 hours ago</a></span> <span id=\"unv_18692376\"></span> | <a href=\"hide?id=18692376&amp;goto=news\">hide</a> | <a href=\"item?id=18692376\">70&nbsp;comments</a>              </td></tr>\n",
      "      <tr class=\"spacer\" style=\"height:5px\"></tr>\n",
      "                <tr class='athing' id='18693965'>\n",
      "      <td align=\"right\" valign=\"top\" class=\"title\"><span class=\"rank\">21.</span></td>      <td valign=\"top\" class=\"votelinks\"><center><a id='up_18693965' href='vote?id=18693965&amp;how=up&amp;goto=news'><div class='votearrow' title='upvote'></div></a></center></td><td class=\"title\"><a href=\"https://www.pubilling.io\" class=\"storylink\">Show HN: PuBilling – Embeddable billing portal for your SaaS app</a><span class=\"sitebit comhead\"> (<a href=\"from?site=pubilling.io\"><span class=\"sitestr\">pubilling.io</span></a>)</span></td></tr><tr><td colspan=\"2\"></td><td class=\"subtext\">\n",
      "        <span class=\"score\" id=\"score_18693965\">47 points</span> by <a href=\"user?id=raphaelcosta\" class=\"hnuser\">raphaelcosta</a> <span class=\"age\"><a href=\"item?id=18693965\">6 hours ago</a></span> <span id=\"unv_18693965\"></span> | <a href=\"hide?id=18693965&amp;goto=news\">hide</a> | <a href=\"item?id=18693965\">39&nbsp;comments</a>              </td></tr>\n",
      "      <tr class=\"spacer\" style=\"height:5px\"></tr>\n",
      "                <tr class='athing' id='18692923'>\n",
      "      <td align=\"right\" valign=\"top\" class=\"title\"><span class=\"rank\">22.</span></td>      <td valign=\"top\" class=\"votelinks\"><center><a id='up_18692923' href='vote?id=18692923&amp;how=up&amp;goto=news'><div class='votearrow' title='upvote'></div></a></center></td><td class=\"title\"><a href=\"https://www.engadget.com/2018/12/12/nvidia-jetson-agx-xavier-robot-processor-available/\" class=\"storylink\">Nvidia's $1,100 AI brain for robots goes on sale</a><span class=\"sitebit comhead\"> (<a href=\"from?site=engadget.com\"><span class=\"sitestr\">engadget.com</span></a>)</span></td></tr><tr><td colspan=\"2\"></td><td class=\"subtext\">\n",
      "        <span class=\"score\" id=\"score_18692923\">111 points</span> by <a href=\"user?id=elorant\" class=\"hnuser\">elorant</a> <span class=\"age\"><a href=\"item?id=18692923\">10 hours ago</a></span> <span id=\"unv_18692923\"></span> | <a href=\"hide?id=18692923&amp;goto=news\">hide</a> | <a href=\"item?id=18692923\">75&nbsp;comments</a>              </td></tr>\n",
      "      <tr class=\"spacer\" style=\"height:5px\"></tr>\n",
      "                <tr class='athing' id='18692447'>\n",
      "      <td align=\"right\" valign=\"top\" class=\"title\"><span class=\"rank\">23.</span></td>      <td valign=\"top\" class=\"votelinks\"><center><a id='up_18692447' href='vote?id=18692447&amp;how=up&amp;goto=news'><div class='votearrow' title='upvote'></div></a></center></td><td class=\"title\"><a href=\"http://illustratedtheoryofnumbers.com/\" class=\"storylink\">An Illustrated Theory of Numbers (2017)</a><span class=\"sitebit comhead\"> (<a href=\"from?site=illustratedtheoryofnumbers.com\"><span class=\"sitestr\">illustratedtheoryofnumbers.com</span></a>)</span></td></tr><tr><td colspan=\"2\"></td><td class=\"subtext\">\n",
      "        <span class=\"score\" id=\"score_18692447\">139 points</span> by <a href=\"user?id=earthicus\" class=\"hnuser\">earthicus</a> <span class=\"age\"><a href=\"item?id=18692447\">14 hours ago</a></span> <span id=\"unv_18692447\"></span> | <a href=\"hide?id=18692447&amp;goto=news\">hide</a> | <a href=\"item?id=18692447\">33&nbsp;comments</a>              </td></tr>\n",
      "      <tr class=\"spacer\" style=\"height:5px\"></tr>\n",
      "                <tr class='athing' id='18692470'>\n",
      "      <td align=\"right\" valign=\"top\" class=\"title\"><span class=\"rank\">24.</span></td>      <td valign=\"top\" class=\"votelinks\"><center><a id='up_18692470' href='vote?id=18692470&amp;how=up&amp;goto=news'><div class='votearrow' title='upvote'></div></a></center></td><td class=\"title\"><a href=\"http://conal.net/blog/posts/can-functional-programming-be-liberated-from-the-von-neumann-paradigm\" class=\"storylink\">Can functional programming be liberated from the von Neumann paradigm? (2010)</a><span class=\"sitebit comhead\"> (<a href=\"from?site=conal.net\"><span class=\"sitestr\">conal.net</span></a>)</span></td></tr><tr><td colspan=\"2\"></td><td class=\"subtext\">\n",
      "        <span class=\"score\" id=\"score_18692470\">136 points</span> by <a href=\"user?id=stevekrouse\" class=\"hnuser\">stevekrouse</a> <span class=\"age\"><a href=\"item?id=18692470\">14 hours ago</a></span> <span id=\"unv_18692470\"></span> | <a href=\"hide?id=18692470&amp;goto=news\">hide</a> | <a href=\"item?id=18692470\">62&nbsp;comments</a>              </td></tr>\n",
      "      <tr class=\"spacer\" style=\"height:5px\"></tr>\n",
      "                <tr class='athing' id='18694310'>\n",
      "      <td align=\"right\" valign=\"top\" class=\"title\"><span class=\"rank\">25.</span></td>      <td valign=\"top\" class=\"votelinks\"><center><a id='up_18694310' href='vote?id=18694310&amp;how=up&amp;goto=news'><div class='votearrow' title='upvote'></div></a></center></td><td class=\"title\"><a href=\"https://www.nytimes.com/2018/12/13/health/genetics-brain-autism-schizophrenia.html\" class=\"storylink\">Mapping the Brain’s Genetic Landscape</a><span class=\"sitebit comhead\"> (<a href=\"from?site=nytimes.com\"><span class=\"sitestr\">nytimes.com</span></a>)</span></td></tr><tr><td colspan=\"2\"></td><td class=\"subtext\">\n",
      "        <span class=\"score\" id=\"score_18694310\">15 points</span> by <a href=\"user?id=rbanffy\" class=\"hnuser\">rbanffy</a> <span class=\"age\"><a href=\"item?id=18694310\">5 hours ago</a></span> <span id=\"unv_18694310\"></span> | <a href=\"hide?id=18694310&amp;goto=news\">hide</a> | <a href=\"item?id=18694310\">discuss</a>              </td></tr>\n",
      "      <tr class=\"spacer\" style=\"height:5px\"></tr>\n",
      "                <tr class='athing' id='18692746'>\n",
      "      <td align=\"right\" valign=\"top\" class=\"title\"><span class=\"rank\">26.</span></td>      <td valign=\"top\" class=\"votelinks\"><center><a id='up_18692746' href='vote?id=18692746&amp;how=up&amp;goto=news'><div class='votearrow' title='upvote'></div></a></center></td><td class=\"title\"><a href=\"https://www.theguardian.com/cities/2018/dec/12/silence-shenzhen-world-first-electric-bus-fleet\" class=\"storylink\">World's first fully electric bus fleet quietens Chinese megacity</a><span class=\"sitebit comhead\"> (<a href=\"from?site=theguardian.com\"><span class=\"sitestr\">theguardian.com</span></a>)</span></td></tr><tr><td colspan=\"2\"></td><td class=\"subtext\">\n",
      "        <span class=\"score\" id=\"score_18692746\">75 points</span> by <a href=\"user?id=pseudolus\" class=\"hnuser\">pseudolus</a> <span class=\"age\"><a href=\"item?id=18692746\">12 hours ago</a></span> <span id=\"unv_18692746\"></span> | <a href=\"hide?id=18692746&amp;goto=news\">hide</a> | <a href=\"item?id=18692746\">40&nbsp;comments</a>              </td></tr>\n",
      "      <tr class=\"spacer\" style=\"height:5px\"></tr>\n",
      "                <tr class='athing' id='18693938'>\n",
      "      <td align=\"right\" valign=\"top\" class=\"title\"><span class=\"rank\">27.</span></td>      <td valign=\"top\" class=\"votelinks\"><center><a id='up_18693938' href='vote?id=18693938&amp;how=up&amp;goto=news'><div class='votearrow' title='upvote'></div></a></center></td><td class=\"title\"><a href=\"https://threader.app/thread/1074063712254857218\" class=\"storylink\">A lesson on thinking and acting long term</a><span class=\"sitebit comhead\"> (<a href=\"from?site=threader.app\"><span class=\"sitestr\">threader.app</span></a>)</span></td></tr><tr><td colspan=\"2\"></td><td class=\"subtext\">\n",
      "        <span class=\"score\" id=\"score_18693938\">43 points</span> by <a href=\"user?id=seapunk\" class=\"hnuser\">seapunk</a> <span class=\"age\"><a href=\"item?id=18693938\">6 hours ago</a></span> <span id=\"unv_18693938\"></span> | <a href=\"hide?id=18693938&amp;goto=news\">hide</a> | <a href=\"item?id=18693938\">7&nbsp;comments</a>              </td></tr>\n",
      "      <tr class=\"spacer\" style=\"height:5px\"></tr>\n",
      "                <tr class='athing' id='18694908'>\n",
      "      <td align=\"right\" valign=\"top\" class=\"title\"><span class=\"rank\">28.</span></td>      <td valign=\"top\" class=\"votelinks\"><center><a id='up_18694908' href='vote?id=18694908&amp;how=up&amp;goto=news'><div class='votearrow' title='upvote'></div></a></center></td><td class=\"title\"><a href=\"https://github.com/ellailan/ColourMeCards\" class=\"storylink\">Show HN: My 7th Grade Young Entrepreneur Project -- interactive holiday cards</a><span class=\"sitebit comhead\"> (<a href=\"from?site=github.com\"><span class=\"sitestr\">github.com</span></a>)</span></td></tr><tr><td colspan=\"2\"></td><td class=\"subtext\">\n",
      "        <span class=\"score\" id=\"score_18694908\">32 points</span> by <a href=\"user?id=ellailan\" class=\"hnuser\">ellailan</a> <span class=\"age\"><a href=\"item?id=18694908\">4 hours ago</a></span> <span id=\"unv_18694908\"></span> | <a href=\"hide?id=18694908&amp;goto=news\">hide</a> | <a href=\"item?id=18694908\">12&nbsp;comments</a>              </td></tr>\n",
      "      <tr class=\"spacer\" style=\"height:5px\"></tr>\n",
      "                <tr class='athing' id='18693462'>\n",
      "      <td align=\"right\" valign=\"top\" class=\"title\"><span class=\"rank\">29.</span></td>      <td valign=\"top\" class=\"votelinks\"><center><a id='up_18693462' href='vote?id=18693462&amp;how=up&amp;goto=news'><div class='votearrow' title='upvote'></div></a></center></td><td class=\"title\"><a href=\"http://robert.muth.org/refactoring-large-functions.html\" class=\"storylink\">Refactoring Large Functions</a><span class=\"sitebit comhead\"> (<a href=\"from?site=muth.org\"><span class=\"sitestr\">muth.org</span></a>)</span></td></tr><tr><td colspan=\"2\"></td><td class=\"subtext\">\n",
      "        <span class=\"score\" id=\"score_18693462\">50 points</span> by <a href=\"user?id=muth02446\" class=\"hnuser\">muth02446</a> <span class=\"age\"><a href=\"item?id=18693462\">8 hours ago</a></span> <span id=\"unv_18693462\"></span> | <a href=\"hide?id=18693462&amp;goto=news\">hide</a> | <a href=\"item?id=18693462\">29&nbsp;comments</a>              </td></tr>\n",
      "      <tr class=\"spacer\" style=\"height:5px\"></tr>\n",
      "                <tr class='athing' id='18692170'>\n",
      "      <td align=\"right\" valign=\"top\" class=\"title\"><span class=\"rank\">30.</span></td>      <td valign=\"top\" class=\"votelinks\"><center><a id='up_18692170' href='vote?id=18692170&amp;how=up&amp;goto=news'><div class='votearrow' title='upvote'></div></a></center></td><td class=\"title\"><a href=\"https://www.minneapolisfed.org/research/qr/qr2142.pdf\" class=\"storylink\">The Debasement Puzzle: an Essay on Medieval Monetary History (1997) [pdf]</a><span class=\"sitebit comhead\"> (<a href=\"from?site=minneapolisfed.org\"><span class=\"sitestr\">minneapolisfed.org</span></a>)</span></td></tr><tr><td colspan=\"2\"></td><td class=\"subtext\">\n",
      "        <span class=\"score\" id=\"score_18692170\">15 points</span> by <a href=\"user?id=jpelecanos\" class=\"hnuser\">jpelecanos</a> <span class=\"age\"><a href=\"item?id=18692170\">5 hours ago</a></span> <span id=\"unv_18692170\"></span> | <a href=\"hide?id=18692170&amp;goto=news\">hide</a> | <a href=\"item?id=18692170\">4&nbsp;comments</a>              </td></tr>\n",
      "      <tr class=\"spacer\" style=\"height:5px\"></tr>\n",
      "            <tr class=\"morespace\" style=\"height:10px\"></tr><tr><td colspan=\"2\"></td><td class=\"title\"><a href=\"news?p=2\" class=\"morelink\" rel=\"nofollow\">More</a></td></tr>\n",
      "  </table>\n",
      "</td></tr>\n",
      "<tr><td><img src=\"s.gif\" height=\"10\" width=\"0\"><table width=\"100%\" cellspacing=\"0\" cellpadding=\"1\"><tr><td bgcolor=\"#ff6600\"></td></tr></table><br><center><span class=\"yclinks\"><a href=\"newsguidelines.html\">Guidelines</a>\n",
      "        | <a href=\"newsfaq.html\">FAQ</a>\n",
      "        | <a href=\"mailto:hn@ycombinator.com\">Support</a>\n",
      "        | <a href=\"https://github.com/HackerNews/API\">API</a>\n",
      "        | <a href=\"security.html\">Security</a>\n",
      "        | <a href=\"lists\">Lists</a>\n",
      "        | <a href=\"bookmarklet.html\" rel=\"nofollow\">Bookmarklet</a>\n",
      "        | <a href=\"http://www.ycombinator.com/legal/\">Legal</a>\n",
      "        | <a href=\"http://www.ycombinator.com/apply/\">Apply to YC</a>\n",
      "        | <a href=\"mailto:hn@ycombinator.com\">Contact</a></span><br><br><form method=\"get\" action=\"//hn.algolia.com/\">Search:\n",
      "          <input type=\"text\" name=\"q\" value=\"\" size=\"17\" autocorrect=\"off\" spellcheck=\"false\" autocapitalize=\"off\" autocomplete=\"false\"></form>\n",
      "            </center></td></tr>\n",
      "      </table></center></body><script type='text/javascript' src='hn.js?i3QZFyQGGgTNEupNTrnX'></script>\n",
      "  </html>\n",
      "\n"
     ]
    }
   ],
   "source": [
    "import requests\n",
    "\n",
    "# Fetch a web page\n",
    "r = requests.get(\"https://news.ycombinator.com\")\n",
    "print(r.text)"
   ]
  },
  {
   "cell_type": "code",
   "execution_count": 7,
   "metadata": {},
   "outputs": [
    {
     "name": "stdout",
     "output_type": "stream",
     "text": [
      "\n",
      "            \n",
      "          \n",
      "        Hacker News\n",
      "        \n",
      "                  Hacker News\n",
      "              new | comments | show | ask | jobs | submit            \n",
      "                              login\n",
      "                          \n",
      "              \n",
      "\n",
      "              \n",
      "      1.      Why Design Thinking Works (hbr.org)\n",
      "        37 points by helloworld 1 hour ago  | hide | 11&nbsp;comments              \n",
      "      \n",
      "                \n",
      "      2.      Amazon Targets Unprofitable Items, with a Sharper Focus on the Bottom Line (wsj.com)\n",
      "        29 points by JumpCrisscross 2 hours ago  | hide | 23&nbsp;comments              \n",
      "      \n",
      "                \n",
      "      3.      Can Repelling Magnets Replace the Spring in a Pogo Stick? (kjmagnetics.com)\n",
      "        213 points by mhb 6 hours ago  | hide | 115&nbsp;comments              \n",
      "      \n",
      "                \n",
      "      4.      My Dad's Friendship with Charles Barkley (wbur.org)\n",
      "        256 points by weitingliu 6 hours ago  | hide | 26&nbsp;comments              \n",
      "      \n",
      "                \n",
      "      5.      Thoughts on, and pictures of, the original Macintosh User Manual (peterme.com)\n",
      "        110 points by tosh 5 hours ago  | hide | 40&nbsp;comments              \n",
      "      \n",
      "                \n",
      "      6.      Show HN: Single-header C++11 HTML document constructor (github.com)\n",
      "        43 points by tinfoilboy 3 hours ago  | hide | 6&nbsp;comments              \n",
      "      \n",
      "                \n",
      "      7.      4,400 year old Egyptian tomb discovered in the Saqqara pyramid complex (bbc.co.uk)\n",
      "        217 points by open-source-ux 10 hours ago  | hide | 39&nbsp;comments              \n",
      "      \n",
      "                \n",
      "      8.      LiveAgent: Making +$250K/month with a Spin-Off Project (failory.com)\n",
      "        19 points by nicoserdeir 2 hours ago  | hide | discuss              \n",
      "      \n",
      "                \n",
      "      9.      Leonard Susskind on Feynman, the Holographic Principle, and Unanswered Physics (ycombinator.com)\n",
      "        18 points by 4ad 2 hours ago  | hide | 1&nbsp;comment              \n",
      "      \n",
      "                \n",
      "      10.      Organizational Debt (boats.gitlab.io)\n",
      "        84 points by ingve 5 hours ago  | hide | 16&nbsp;comments              \n",
      "      \n",
      "                \n",
      "      11.      Google AMP case study: leads dropped by 59% (kinsta.com)\n",
      "        238 points by krn 11 hours ago  | hide | 119&nbsp;comments              \n",
      "      \n",
      "                \n",
      "      12.      German exclaves in Belgium separated by a bicycle path from the rest of Germany (fascinatingmaps.com)\n",
      "        213 points by rwmj 10 hours ago  | hide | 137&nbsp;comments              \n",
      "      \n",
      "                \n",
      "      13.      Announcing flyio, an R package to interact with data in the cloud (socialcops.com)\n",
      "        7 points by akashtndn 1 hour ago  | hide | discuss              \n",
      "      \n",
      "                \n",
      "      14.      1980s Amiga has been running the AC and heat in 19 schools for 30 years (geek.com)\n",
      "        172 points by flippyhead 11 hours ago  | hide | 124&nbsp;comments              \n",
      "      \n",
      "                \n",
      "      15.      Two Chinese Stalagmites Are a 'Holy Grail' for Accurate Radiocarbon Dating (gizmodo.com)\n",
      "        65 points by curtis 7 hours ago  | hide | 18&nbsp;comments              \n",
      "      \n",
      "                \n",
      "      16.      Owner who demolished famed San Francisco house must build replica (bbc.com)\n",
      "        19 points by skookum 3 hours ago  | hide | 4&nbsp;comments              \n",
      "      \n",
      "                \n",
      "      17.      Moral Machine (mit.edu)\n",
      "        11 points by based2 2 hours ago  | hide | 4&nbsp;comments              \n",
      "      \n",
      "                \n",
      "      18.      Typewriter Cartography (somethingaboutmaps.wordpress.com)\n",
      "        21 points by Jureko 3 hours ago  | hide | 2&nbsp;comments              \n",
      "      \n",
      "                \n",
      "      19.      Breaking Into Android Phones with a 3D-Printed Head (forbes.com)\n",
      "        55 points by rexbee 7 hours ago  | hide | 48&nbsp;comments              \n",
      "      \n",
      "                \n",
      "      20.      Linux: IO without entering the kernel (kernel.dk)\n",
      "        184 points by pplonski86 14 hours ago  | hide | 70&nbsp;comments              \n",
      "      \n",
      "                \n",
      "      21.      Show HN: PuBilling – Embeddable billing portal for your SaaS app (pubilling.io)\n",
      "        47 points by raphaelcosta 6 hours ago  | hide | 39&nbsp;comments              \n",
      "      \n",
      "                \n",
      "      22.      Nvidia's $1,100 AI brain for robots goes on sale (engadget.com)\n",
      "        111 points by elorant 10 hours ago  | hide | 75&nbsp;comments              \n",
      "      \n",
      "                \n",
      "      23.      An Illustrated Theory of Numbers (2017) (illustratedtheoryofnumbers.com)\n",
      "        139 points by earthicus 14 hours ago  | hide | 33&nbsp;comments              \n",
      "      \n",
      "                \n",
      "      24.      Can functional programming be liberated from the von Neumann paradigm? (2010) (conal.net)\n",
      "        136 points by stevekrouse 14 hours ago  | hide | 62&nbsp;comments              \n",
      "      \n",
      "                \n",
      "      25.      Mapping the Brain’s Genetic Landscape (nytimes.com)\n",
      "        15 points by rbanffy 5 hours ago  | hide | discuss              \n",
      "      \n",
      "                \n",
      "      26.      World's first fully electric bus fleet quietens Chinese megacity (theguardian.com)\n",
      "        75 points by pseudolus 12 hours ago  | hide | 40&nbsp;comments              \n",
      "      \n",
      "                \n",
      "      27.      A lesson on thinking and acting long term (threader.app)\n",
      "        43 points by seapunk 6 hours ago  | hide | 7&nbsp;comments              \n",
      "      \n",
      "                \n",
      "      28.      Show HN: My 7th Grade Young Entrepreneur Project -- interactive holiday cards (github.com)\n",
      "        32 points by ellailan 4 hours ago  | hide | 12&nbsp;comments              \n",
      "      \n",
      "                \n",
      "      29.      Refactoring Large Functions (muth.org)\n",
      "        50 points by muth02446 8 hours ago  | hide | 29&nbsp;comments              \n",
      "      \n",
      "                \n",
      "      30.      The Debasement Puzzle: an Essay on Medieval Monetary History (1997) [pdf] (minneapolisfed.org)\n",
      "        15 points by jpelecanos 5 hours ago  | hide | 4&nbsp;comments              \n",
      "      \n",
      "            More\n",
      "  \n",
      "\n",
      "Guidelines\n",
      "        | FAQ\n",
      "        | Support\n",
      "        | API\n",
      "        | Security\n",
      "        | Lists\n",
      "        | Bookmarklet\n",
      "        | Legal\n",
      "        | Apply to YC\n",
      "        | ContactSearch:\n",
      "          \n",
      "            \n",
      "      \n",
      "  \n",
      "\n"
     ]
    }
   ],
   "source": [
    "import re\n",
    "\n",
    "# Remove HTML tags using RegEx\n",
    "pattern = re.compile(r'<.*?>')  # tags look like <...>\n",
    "print(pattern.sub('', r.text))  # replace them with blank"
   ]
  },
  {
   "cell_type": "code",
   "execution_count": null,
   "metadata": {},
   "outputs": [],
   "source": [
    "from bs4 import BeautifulSoup\n",
    "\n",
    "# Remove HTML tags using Beautiful Soup library\n",
    "soup = BeautifulSoup(r.text, \"html5lib\")\n",
    "print(soup.get_text())"
   ]
  },
  {
   "cell_type": "code",
   "execution_count": null,
   "metadata": {
    "scrolled": true
   },
   "outputs": [],
   "source": [
    "# Find all articles\n",
    "summaries = soup.find_all(\"tr\", class_=\"athing\")\n",
    "summaries[0]"
   ]
  },
  {
   "cell_type": "code",
   "execution_count": null,
   "metadata": {},
   "outputs": [],
   "source": [
    "# Extract title\n",
    "summaries[0].find(\"a\", class_=\"storylink\").get_text().strip()"
   ]
  },
  {
   "cell_type": "code",
   "execution_count": null,
   "metadata": {},
   "outputs": [],
   "source": [
    "# Find all articles, extract titles\n",
    "articles = []\n",
    "summaries = soup.find_all(\"tr\", class_=\"athing\")\n",
    "for summary in summaries:\n",
    "    title = summary.find(\"a\", class_=\"storylink\").get_text().strip()\n",
    "    articles.append((title))\n",
    "\n",
    "print(len(articles), \"Article summaries found. Sample:\")\n",
    "print(articles[0])"
   ]
  },
  {
   "cell_type": "markdown",
   "metadata": {},
   "source": [
    "## Normalization"
   ]
  },
  {
   "cell_type": "markdown",
   "metadata": {},
   "source": [
    "### Case Normalization"
   ]
  },
  {
   "cell_type": "code",
   "execution_count": null,
   "metadata": {},
   "outputs": [],
   "source": [
    "# Sample text\n",
    "text = \"The first time you see The Second Renaissance it may look boring. Look at it at least twice and definitely watch part 2. It will change your view of the matrix. Are the human people the ones who started the war ? Is AI a bad thing ?\"\n",
    "print(text)"
   ]
  },
  {
   "cell_type": "code",
   "execution_count": null,
   "metadata": {},
   "outputs": [],
   "source": [
    "# Convert to lowercase\n",
    "text = text.lower() \n",
    "print(text)"
   ]
  },
  {
   "cell_type": "markdown",
   "metadata": {},
   "source": [
    "### Punctuation Removal"
   ]
  },
  {
   "cell_type": "code",
   "execution_count": null,
   "metadata": {},
   "outputs": [],
   "source": [
    "import re\n",
    "\n",
    "# Remove punctuation characters\n",
    "text = re.sub(r\"[^a-zA-Z0-9]\", \" \", text) \n",
    "print(text)"
   ]
  },
  {
   "cell_type": "markdown",
   "metadata": {},
   "source": [
    "## Tokenization"
   ]
  },
  {
   "cell_type": "code",
   "execution_count": null,
   "metadata": {},
   "outputs": [],
   "source": [
    "# Split text into tokens (words)\n",
    "words = text.split()\n",
    "print(words)"
   ]
  },
  {
   "cell_type": "markdown",
   "metadata": {},
   "source": [
    "### NLTK: Natural Language ToolKit"
   ]
  },
  {
   "cell_type": "code",
   "execution_count": null,
   "metadata": {},
   "outputs": [],
   "source": [
    "import os\n",
    "import nltk\n",
    "nltk.data.path.append(os.path.join(os.getcwd(), \"nltk_data\"))"
   ]
  },
  {
   "cell_type": "code",
   "execution_count": null,
   "metadata": {},
   "outputs": [],
   "source": [
    "# Another sample text\n",
    "text = \"Dr. Smith graduated from the University of Washington. He later started an analytics firm called Lux, which catered to enterprise customers.\"\n",
    "print(text)"
   ]
  },
  {
   "cell_type": "code",
   "execution_count": null,
   "metadata": {},
   "outputs": [],
   "source": [
    "from nltk.tokenize import word_tokenize\n",
    "\n",
    "# Split text into words using NLTK\n",
    "words = word_tokenize(text)\n",
    "print(words)"
   ]
  },
  {
   "cell_type": "code",
   "execution_count": null,
   "metadata": {},
   "outputs": [],
   "source": [
    "from nltk.tokenize import sent_tokenize\n",
    "\n",
    "# Split text into sentences\n",
    "sentences = sent_tokenize(text)\n",
    "print(sentences)"
   ]
  },
  {
   "cell_type": "code",
   "execution_count": null,
   "metadata": {},
   "outputs": [],
   "source": [
    "# List stop words\n",
    "from nltk.corpus import stopwords\n",
    "print(stopwords.words(\"english\"))"
   ]
  },
  {
   "cell_type": "code",
   "execution_count": null,
   "metadata": {},
   "outputs": [],
   "source": [
    "# Reset text\n",
    "text = \"The first time you see The Second Renaissance it may look boring. Look at it at least twice and definitely watch part 2. It will change your view of the matrix. Are the human people the ones who started the war ? Is AI a bad thing ?\"\n",
    "\n",
    "# Normalize it\n",
    "text = re.sub(r\"[^a-zA-Z0-9]\", \" \", text.lower())\n",
    "\n",
    "# Tokenize it\n",
    "words = text.split()\n",
    "print(words)"
   ]
  },
  {
   "cell_type": "code",
   "execution_count": null,
   "metadata": {},
   "outputs": [],
   "source": [
    "# Remove stop words\n",
    "words = [w for w in words if w not in stopwords.words(\"english\")]\n",
    "print(words)"
   ]
  },
  {
   "cell_type": "markdown",
   "metadata": {},
   "source": [
    "### Sentence Parsing"
   ]
  },
  {
   "cell_type": "code",
   "execution_count": null,
   "metadata": {},
   "outputs": [],
   "source": [
    "import nltk\n",
    "\n",
    "# Define a custom grammar\n",
    "my_grammar = nltk.CFG.fromstring(\"\"\"\n",
    "S -> NP VP\n",
    "PP -> P NP\n",
    "NP -> Det N | Det N PP | 'I'\n",
    "VP -> V NP | VP PP\n",
    "Det -> 'an' | 'my'\n",
    "N -> 'elephant' | 'pajamas'\n",
    "V -> 'shot'\n",
    "P -> 'in'\n",
    "\"\"\")\n",
    "parser = nltk.ChartParser(my_grammar)\n",
    "\n",
    "# Parse a sentence\n",
    "sentence = word_tokenize(\"I shot an elephant in my pajamas\")\n",
    "for tree in parser.parse(sentence):\n",
    "    print(tree)"
   ]
  },
  {
   "cell_type": "markdown",
   "metadata": {},
   "source": [
    "## Stemming & Lemmatization\n",
    "\n",
    "### Stemming"
   ]
  },
  {
   "cell_type": "code",
   "execution_count": null,
   "metadata": {},
   "outputs": [],
   "source": [
    "from nltk.stem.porter import PorterStemmer\n",
    "\n",
    "# Reduce words to their stems\n",
    "stemmed = [PorterStemmer().stem(w) for w in words]\n",
    "print(stemmed)"
   ]
  },
  {
   "cell_type": "markdown",
   "metadata": {},
   "source": [
    "### Lemmatization"
   ]
  },
  {
   "cell_type": "code",
   "execution_count": null,
   "metadata": {},
   "outputs": [],
   "source": [
    "from nltk.stem.wordnet import WordNetLemmatizer\n",
    "\n",
    "# Reduce words to their root form\n",
    "lemmed = [WordNetLemmatizer().lemmatize(w) for w in words]\n",
    "print(lemmed)"
   ]
  },
  {
   "cell_type": "code",
   "execution_count": null,
   "metadata": {},
   "outputs": [],
   "source": [
    "# Lemmatize verbs by specifying pos\n",
    "lemmed = [WordNetLemmatizer().lemmatize(w, pos='v') for w in lemmed]\n",
    "print(lemmed)"
   ]
  },
  {
   "cell_type": "code",
   "execution_count": null,
   "metadata": {},
   "outputs": [],
   "source": []
  }
 ],
 "metadata": {
  "kernelspec": {
   "display_name": "Python [conda env:anaconda3]",
   "language": "python",
   "name": "conda-env-anaconda3-py"
  },
  "language_info": {
   "codemirror_mode": {
    "name": "ipython",
    "version": 3
   },
   "file_extension": ".py",
   "mimetype": "text/x-python",
   "name": "python",
   "nbconvert_exporter": "python",
   "pygments_lexer": "ipython3",
   "version": "3.6.7"
  }
 },
 "nbformat": 4,
 "nbformat_minor": 2
}
