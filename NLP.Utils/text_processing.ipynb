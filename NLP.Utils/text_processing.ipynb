{
 "cells": [
  {
   "cell_type": "markdown",
   "metadata": {},
   "source": [
    "# Text Processing\n",
    "\n",
    "## Capturing Text Data\n",
    "\n",
    "### Plain Text"
   ]
  },
  {
   "cell_type": "code",
   "execution_count": 22,
   "metadata": {},
   "outputs": [
    {
     "name": "stdout",
     "output_type": "stream",
     "text": [
      "Hieroglyphic writing dates from c. 3000 BC, and is composed of hundreds of symbols. A hieroglyph can represent a word, a sound, or a silent determinative; and the same symbol can serve different purposes in different contexts. Hieroglyphs were a formal script, used on stone monuments and in tombs, that could be as detailed as individual works of art.\n",
      "\n"
     ]
    }
   ],
   "source": [
    "import os\n",
    "\n",
    "# Read in a plain text file\n",
    "with open(os.path.join(\"data\", \"hieroglyph.txt\"), \"r\") as f:\n",
    "    text = f.read()\n",
    "    print(text)"
   ]
  },
  {
   "cell_type": "markdown",
   "metadata": {},
   "source": [
    "### Tabular Data"
   ]
  },
  {
   "cell_type": "code",
   "execution_count": 23,
   "metadata": {
    "scrolled": true
   },
   "outputs": [
    {
     "data": {
      "text/html": [
       "<div>\n",
       "<style scoped>\n",
       "    .dataframe tbody tr th:only-of-type {\n",
       "        vertical-align: middle;\n",
       "    }\n",
       "\n",
       "    .dataframe tbody tr th {\n",
       "        vertical-align: top;\n",
       "    }\n",
       "\n",
       "    .dataframe thead th {\n",
       "        text-align: right;\n",
       "    }\n",
       "</style>\n",
       "<table border=\"1\" class=\"dataframe\">\n",
       "  <thead>\n",
       "    <tr style=\"text-align: right;\">\n",
       "      <th></th>\n",
       "      <th>publisher</th>\n",
       "      <th>title</th>\n",
       "    </tr>\n",
       "  </thead>\n",
       "  <tbody>\n",
       "    <tr>\n",
       "      <th>0</th>\n",
       "      <td>Livemint</td>\n",
       "      <td>fed's charles plosser sees high bar for change...</td>\n",
       "    </tr>\n",
       "    <tr>\n",
       "      <th>1</th>\n",
       "      <td>IFA Magazine</td>\n",
       "      <td>us open: stocks fall after fed official hints ...</td>\n",
       "    </tr>\n",
       "    <tr>\n",
       "      <th>2</th>\n",
       "      <td>IFA Magazine</td>\n",
       "      <td>fed risks falling 'behind the curve', charles ...</td>\n",
       "    </tr>\n",
       "    <tr>\n",
       "      <th>3</th>\n",
       "      <td>Moneynews</td>\n",
       "      <td>fed's plosser: nasty weather has curbed job gr...</td>\n",
       "    </tr>\n",
       "    <tr>\n",
       "      <th>4</th>\n",
       "      <td>NASDAQ</td>\n",
       "      <td>plosser: fed may have to accelerate tapering pace</td>\n",
       "    </tr>\n",
       "  </tbody>\n",
       "</table>\n",
       "</div>"
      ],
      "text/plain": [
       "      publisher                                              title\n",
       "0      Livemint  fed's charles plosser sees high bar for change...\n",
       "1  IFA Magazine  us open: stocks fall after fed official hints ...\n",
       "2  IFA Magazine  fed risks falling 'behind the curve', charles ...\n",
       "3     Moneynews  fed's plosser: nasty weather has curbed job gr...\n",
       "4        NASDAQ  plosser: fed may have to accelerate tapering pace"
      ]
     },
     "execution_count": 23,
     "metadata": {},
     "output_type": "execute_result"
    }
   ],
   "source": [
    "import pandas as pd\n",
    "\n",
    "# Extract text column from a dataframe\n",
    "df = pd.read_csv(os.path.join(\"data\", \"news.csv\"))\n",
    "df.head()[['publisher', 'title']]\n",
    "\n",
    "# Convert text column to lowercase\n",
    "df['title'] = df['title'].str.lower()\n",
    "df.head()[['publisher', 'title']]"
   ]
  },
  {
   "cell_type": "markdown",
   "metadata": {},
   "source": [
    "### Online Resource"
   ]
  },
  {
   "cell_type": "code",
   "execution_count": 24,
   "metadata": {
    "scrolled": true
   },
   "outputs": [
    {
     "name": "stdout",
     "output_type": "stream",
     "text": [
      "{\n",
      "    \"success\": {\n",
      "        \"total\": 1\n",
      "    },\n",
      "    \"contents\": {\n",
      "        \"quotes\": [\n",
      "            {\n",
      "                \"quote\": \"Stop complaining. Start creating.\",\n",
      "                \"author\": \"Dale Patridge\",\n",
      "                \"length\": null,\n",
      "                \"tags\": [\n",
      "                    \"complain\",\n",
      "                    \"create\",\n",
      "                    \"inspire\"\n",
      "                ],\n",
      "                \"category\": \"inspire\",\n",
      "                \"title\": \"Inspiring Quote of the day\",\n",
      "                \"date\": \"2019-03-23\",\n",
      "                \"id\": null\n",
      "            }\n",
      "        ],\n",
      "        \"copyright\": \"2017-19 theysaidso.com\"\n",
      "    }\n",
      "}\n",
      "Stop complaining. Start creating. \n",
      "-- Dale Patridge\n"
     ]
    }
   ],
   "source": [
    "import requests\n",
    "import json\n",
    "\n",
    "# Fetch data from a REST API\n",
    "r = requests.get(\n",
    "    \"https://quotes.rest/qod.json\")\n",
    "res = r.json()\n",
    "print(json.dumps(res, indent=4))\n",
    "\n",
    "# Extract relevant object and field\n",
    "q = res[\"contents\"][\"quotes\"][0]\n",
    "print(q[\"quote\"], \"\\n--\", q[\"author\"])"
   ]
  },
  {
   "cell_type": "markdown",
   "metadata": {},
   "source": [
    "## Cleaning"
   ]
  },
  {
   "cell_type": "code",
   "execution_count": 25,
   "metadata": {
    "scrolled": true
   },
   "outputs": [
    {
     "name": "stdout",
     "output_type": "stream",
     "text": [
      "<html op=\"news\"><head><meta name=\"referrer\" content=\"origin\"><meta name=\"viewport\" content=\"width=device-width, initial-scale=1.0\"><link rel=\"stylesheet\" type=\"text/css\" href=\"news.css?SQfqA2xbTzsMRwoDFk4N\">\n",
      "            <link rel=\"shortcut icon\" href=\"favicon.ico\">\n",
      "          <link rel=\"alternate\" type=\"application/rss+xml\" title=\"RSS\" href=\"rss\">\n",
      "        <title>Hacker News</title></head><body><center><table id=\"hnmain\" border=\"0\" cellpadding=\"0\" cellspacing=\"0\" width=\"85%\" bgcolor=\"#f6f6ef\">\n",
      "        <tr><td bgcolor=\"#ff6600\"><table border=\"0\" cellpadding=\"0\" cellspacing=\"0\" width=\"100%\" style=\"padding:2px\"><tr><td style=\"width:18px;padding-right:4px\"><a href=\"https://news.ycombinator.com\"><img src=\"y18.gif\" width=\"18\" height=\"18\" style=\"border:1px white solid;\"></a></td>\n",
      "                  <td style=\"line-height:12pt; height:10px;\"><span class=\"pagetop\"><b class=\"hnname\"><a href=\"news\">Hacker News</a></b>\n",
      "              <a href=\"newest\">new</a> | <a href=\"front\">past</a> | <a href=\"newcomments\">comments</a> | <a href=\"ask\">ask</a> | <a href=\"show\">show</a> | <a href=\"jobs\">jobs</a> | <a href=\"submit\">submit</a>            </span></td><td style=\"text-align:right;padding-right:4px;\"><span class=\"pagetop\">\n",
      "                              <a href=\"login?goto=news\">login</a>\n",
      "                          </span></td>\n",
      "              </tr></table></td></tr>\n",
      "<tr id=\"pagespace\" title=\"\" style=\"height:10px\"></tr><tr><td><table border=\"0\" cellpadding=\"0\" cellspacing=\"0\" class=\"itemlist\">\n",
      "              <tr class='athing' id='19470945'>\n",
      "      <td align=\"right\" valign=\"top\" class=\"title\"><span class=\"rank\">1.</span></td>      <td valign=\"top\" class=\"votelinks\"><center><a id='up_19470945' href='vote?id=19470945&amp;how=up&amp;goto=news'><div class='votearrow' title='upvote'></div></a></center></td><td class=\"title\"><a href=\"https://hypothesis.works/articles/calculating-the-mean/\" class=\"storylink\">Calculating the mean of a list of numbers (2016)</a><span class=\"sitebit comhead\"> (<a href=\"from?site=hypothesis.works\"><span class=\"sitestr\">hypothesis.works</span></a>)</span></td></tr><tr><td colspan=\"2\"></td><td class=\"subtext\">\n",
      "        <span class=\"score\" id=\"score_19470945\">153 points</span> by <a href=\"user?id=GregBuchholz\" class=\"hnuser\">GregBuchholz</a> <span class=\"age\"><a href=\"item?id=19470945\">4 hours ago</a></span> <span id=\"unv_19470945\"></span> | <a href=\"hide?id=19470945&amp;goto=news\">hide</a> | <a href=\"item?id=19470945\">60&nbsp;comments</a>              </td></tr>\n",
      "      <tr class=\"spacer\" style=\"height:5px\"></tr>\n",
      "                <tr class='athing' id='19471239'>\n",
      "      <td align=\"right\" valign=\"top\" class=\"title\"><span class=\"rank\">2.</span></td>      <td valign=\"top\" class=\"votelinks\"><center><a id='up_19471239' href='vote?id=19471239&amp;how=up&amp;goto=news'><div class='votearrow' title='upvote'></div></a></center></td><td class=\"title\"><a href=\"http://burakkanber.com/blog/machine-learning-full-text-search-in-javascript-relevance-scoring/\" class=\"storylink\">Machine Learning: Full-Text Search in JavaScript – Relevance Scoring</a><span class=\"sitebit comhead\"> (<a href=\"from?site=burakkanber.com\"><span class=\"sitestr\">burakkanber.com</span></a>)</span></td></tr><tr><td colspan=\"2\"></td><td class=\"subtext\">\n",
      "        <span class=\"score\" id=\"score_19471239\">62 points</span> by <a href=\"user?id=octosphere\" class=\"hnuser\">octosphere</a> <span class=\"age\"><a href=\"item?id=19471239\">3 hours ago</a></span> <span id=\"unv_19471239\"></span> | <a href=\"hide?id=19471239&amp;goto=news\">hide</a> | <a href=\"item?id=19471239\">10&nbsp;comments</a>              </td></tr>\n",
      "      <tr class=\"spacer\" style=\"height:5px\"></tr>\n",
      "                <tr class='athing' id='19471312'>\n",
      "      <td align=\"right\" valign=\"top\" class=\"title\"><span class=\"rank\">3.</span></td>      <td valign=\"top\" class=\"votelinks\"><center><a id='up_19471312' href='vote?id=19471312&amp;how=up&amp;goto=news'><div class='votearrow' title='upvote'></div></a></center></td><td class=\"title\"><a href=\"https://www.nytimes.com/2019/03/22/nyregion/boxing-vhs-archive.html\" class=\"storylink\">An Archive of 55k Boxing Matches on VHS</a><span class=\"sitebit comhead\"> (<a href=\"from?site=nytimes.com\"><span class=\"sitestr\">nytimes.com</span></a>)</span></td></tr><tr><td colspan=\"2\"></td><td class=\"subtext\">\n",
      "        <span class=\"score\" id=\"score_19471312\">46 points</span> by <a href=\"user?id=typographer\" class=\"hnuser\">typographer</a> <span class=\"age\"><a href=\"item?id=19471312\">3 hours ago</a></span> <span id=\"unv_19471312\"></span> | <a href=\"hide?id=19471312&amp;goto=news\">hide</a> | <a href=\"item?id=19471312\">16&nbsp;comments</a>              </td></tr>\n",
      "      <tr class=\"spacer\" style=\"height:5px\"></tr>\n",
      "                <tr class='athing' id='19469323'>\n",
      "      <td align=\"right\" valign=\"top\" class=\"title\"><span class=\"rank\">4.</span></td>      <td valign=\"top\" class=\"votelinks\"><center><a id='up_19469323' href='vote?id=19469323&amp;how=up&amp;goto=news'><div class='votearrow' title='upvote'></div></a></center></td><td class=\"title\"><a href=\"https://thebaffler.com/latest/fuck-the-vessel-wagner\" class=\"storylink\">Fuck The Vessel</a><span class=\"sitebit comhead\"> (<a href=\"from?site=thebaffler.com\"><span class=\"sitestr\">thebaffler.com</span></a>)</span></td></tr><tr><td colspan=\"2\"></td><td class=\"subtext\">\n",
      "        <span class=\"score\" id=\"score_19469323\">21 points</span> by <a href=\"user?id=portobello\" class=\"hnuser\">portobello</a> <span class=\"age\"><a href=\"item?id=19469323\">1 hour ago</a></span> <span id=\"unv_19469323\"></span> | <a href=\"hide?id=19469323&amp;goto=news\">hide</a> | <a href=\"item?id=19469323\">6&nbsp;comments</a>              </td></tr>\n",
      "      <tr class=\"spacer\" style=\"height:5px\"></tr>\n",
      "                <tr class='athing' id='19471879'>\n",
      "      <td align=\"right\" valign=\"top\" class=\"title\"><span class=\"rank\">5.</span></td>      <td valign=\"top\" class=\"votelinks\"><center><a id='up_19471879' href='vote?id=19471879&amp;how=up&amp;goto=news'><div class='votearrow' title='upvote'></div></a></center></td><td class=\"title\"><a href=\"http://replete-repl.org/\" class=\"storylink\">Replete 2.0 (Clojure REPL for iOS and Android)</a><span class=\"sitebit comhead\"> (<a href=\"from?site=replete-repl.org\"><span class=\"sitestr\">replete-repl.org</span></a>)</span></td></tr><tr><td colspan=\"2\"></td><td class=\"subtext\">\n",
      "        <span class=\"score\" id=\"score_19471879\">16 points</span> by <a href=\"user?id=tosh\" class=\"hnuser\">tosh</a> <span class=\"age\"><a href=\"item?id=19471879\">1 hour ago</a></span> <span id=\"unv_19471879\"></span> | <a href=\"hide?id=19471879&amp;goto=news\">hide</a> | <a href=\"item?id=19471879\">discuss</a>              </td></tr>\n",
      "      <tr class=\"spacer\" style=\"height:5px\"></tr>\n",
      "                <tr class='athing' id='19470064'>\n",
      "      <td align=\"right\" valign=\"top\" class=\"title\"><span class=\"rank\">6.</span></td>      <td valign=\"top\" class=\"votelinks\"><center><a id='up_19470064' href='vote?id=19470064&amp;how=up&amp;goto=news'><div class='votearrow' title='upvote'></div></a></center></td><td class=\"title\"><a href=\"https://github.com/qri-io/qri\" class=\"storylink\">Qri: A global dataset version control system built on the distributed web</a><span class=\"sitebit comhead\"> (<a href=\"from?site=github.com\"><span class=\"sitestr\">github.com</span></a>)</span></td></tr><tr><td colspan=\"2\"></td><td class=\"subtext\">\n",
      "        <span class=\"score\" id=\"score_19470064\">158 points</span> by <a href=\"user?id=anewhnaccount2\" class=\"hnuser\">anewhnaccount2</a> <span class=\"age\"><a href=\"item?id=19470064\">8 hours ago</a></span> <span id=\"unv_19470064\"></span> | <a href=\"hide?id=19470064&amp;goto=news\">hide</a> | <a href=\"item?id=19470064\">31&nbsp;comments</a>              </td></tr>\n",
      "      <tr class=\"spacer\" style=\"height:5px\"></tr>\n",
      "                <tr class='athing' id='19456971'>\n",
      "      <td align=\"right\" valign=\"top\" class=\"title\"><span class=\"rank\">7.</span></td>      <td valign=\"top\" class=\"votelinks\"><center><a id='up_19456971' href='vote?id=19456971&amp;how=up&amp;goto=news'><div class='votearrow' title='upvote'></div></a></center></td><td class=\"title\"><a href=\"https://www.theverge.com/2019/3/21/18275670/mpaa-report-streaming-video-cable-subscription-worldwide\" class=\"storylink\">Streaming video has surpassed cable subscriptions worldwide</a><span class=\"sitebit comhead\"> (<a href=\"from?site=theverge.com\"><span class=\"sitestr\">theverge.com</span></a>)</span></td></tr><tr><td colspan=\"2\"></td><td class=\"subtext\">\n",
      "        <span class=\"score\" id=\"score_19456971\">43 points</span> by <a href=\"user?id=prostoalex\" class=\"hnuser\">prostoalex</a> <span class=\"age\"><a href=\"item?id=19456971\">4 hours ago</a></span> <span id=\"unv_19456971\"></span> | <a href=\"hide?id=19456971&amp;goto=news\">hide</a> | <a href=\"item?id=19456971\">18&nbsp;comments</a>              </td></tr>\n",
      "      <tr class=\"spacer\" style=\"height:5px\"></tr>\n",
      "                <tr class='athing' id='19444309'>\n",
      "      <td align=\"right\" valign=\"top\" class=\"title\"><span class=\"rank\">8.</span></td>      <td valign=\"top\" class=\"votelinks\"><center><a id='up_19444309' href='vote?id=19444309&amp;how=up&amp;goto=news'><div class='votearrow' title='upvote'></div></a></center></td><td class=\"title\"><a href=\"https://www.hodinkee.com/articles/interview-meet-dan-spitz-anthrax-guitarist-turned-master-watchmaker\" class=\"storylink\">Anthrax Guitarist Turned Master Watchmaker (2012)</a><span class=\"sitebit comhead\"> (<a href=\"from?site=hodinkee.com\"><span class=\"sitestr\">hodinkee.com</span></a>)</span></td></tr><tr><td colspan=\"2\"></td><td class=\"subtext\">\n",
      "        <span class=\"score\" id=\"score_19444309\">106 points</span> by <a href=\"user?id=wglb\" class=\"hnuser\">wglb</a> <span class=\"age\"><a href=\"item?id=19444309\">8 hours ago</a></span> <span id=\"unv_19444309\"></span> | <a href=\"hide?id=19444309&amp;goto=news\">hide</a> | <a href=\"item?id=19444309\">33&nbsp;comments</a>              </td></tr>\n",
      "      <tr class=\"spacer\" style=\"height:5px\"></tr>\n",
      "                <tr class='athing' id='19469930'>\n",
      "      <td align=\"right\" valign=\"top\" class=\"title\"><span class=\"rank\">9.</span></td>      <td valign=\"top\" class=\"votelinks\"><center><a id='up_19469930' href='vote?id=19469930&amp;how=up&amp;goto=news'><div class='votearrow' title='upvote'></div></a></center></td><td class=\"title\"><a href=\"https://www.washingtonpost.com/news/local/wp/2019/03/22/feature/this-is-not-me/\" class=\"storylink\">Homeless, living in a tent and employed: The changing face of homelessness</a><span class=\"sitebit comhead\"> (<a href=\"from?site=washingtonpost.com\"><span class=\"sitestr\">washingtonpost.com</span></a>)</span></td></tr><tr><td colspan=\"2\"></td><td class=\"subtext\">\n",
      "        <span class=\"score\" id=\"score_19469930\">110 points</span> by <a href=\"user?id=dankohn1\" class=\"hnuser\">dankohn1</a> <span class=\"age\"><a href=\"item?id=19469930\">9 hours ago</a></span> <span id=\"unv_19469930\"></span> | <a href=\"hide?id=19469930&amp;goto=news\">hide</a> | <a href=\"item?id=19469930\">86&nbsp;comments</a>              </td></tr>\n",
      "      <tr class=\"spacer\" style=\"height:5px\"></tr>\n",
      "                <tr class='athing' id='19471291'>\n",
      "      <td align=\"right\" valign=\"top\" class=\"title\"><span class=\"rank\">10.</span></td>      <td valign=\"top\" class=\"votelinks\"><center><a id='up_19471291' href='vote?id=19471291&amp;how=up&amp;goto=news'><div class='votearrow' title='upvote'></div></a></center></td><td class=\"title\"><a href=\"https://www.bloomberg.com/news/articles/2019-03-23/apple-s-reinvention-as-a-services-company-starts-for-real-monday\" class=\"storylink\">Apple's Reinvention as a Services Company Starts for Real Monday</a><span class=\"sitebit comhead\"> (<a href=\"from?site=bloomberg.com\"><span class=\"sitestr\">bloomberg.com</span></a>)</span></td></tr><tr><td colspan=\"2\"></td><td class=\"subtext\">\n",
      "        <span class=\"score\" id=\"score_19471291\">88 points</span> by <a href=\"user?id=__ralston3\" class=\"hnuser\">__ralston3</a> <span class=\"age\"><a href=\"item?id=19471291\">3 hours ago</a></span> <span id=\"unv_19471291\"></span> | <a href=\"hide?id=19471291&amp;goto=news\">hide</a> | <a href=\"item?id=19471291\">102&nbsp;comments</a>              </td></tr>\n",
      "      <tr class=\"spacer\" style=\"height:5px\"></tr>\n",
      "                <tr class='athing' id='19471547'>\n",
      "      <td align=\"right\" valign=\"top\" class=\"title\"><span class=\"rank\">11.</span></td>      <td valign=\"top\" class=\"votelinks\"><center><a id='up_19471547' href='vote?id=19471547&amp;how=up&amp;goto=news'><div class='votearrow' title='upvote'></div></a></center></td><td class=\"title\"><a href=\"https://www.nhs.uk/news/cancer/fish-oil-supplements-linked-to-prostate-cancer/\" class=\"storylink\">Fish oil supplements linked to prostate cancer (2013)</a><span class=\"sitebit comhead\"> (<a href=\"from?site=nhs.uk\"><span class=\"sitestr\">nhs.uk</span></a>)</span></td></tr><tr><td colspan=\"2\"></td><td class=\"subtext\">\n",
      "        <span class=\"score\" id=\"score_19471547\">76 points</span> by <a href=\"user?id=leib\" class=\"hnuser\">leib</a> <span class=\"age\"><a href=\"item?id=19471547\">2 hours ago</a></span> <span id=\"unv_19471547\"></span> | <a href=\"hide?id=19471547&amp;goto=news\">hide</a> | <a href=\"item?id=19471547\">43&nbsp;comments</a>              </td></tr>\n",
      "      <tr class=\"spacer\" style=\"height:5px\"></tr>\n",
      "                <tr class='athing' id='19471903'>\n",
      "      <td align=\"right\" valign=\"top\" class=\"title\"><span class=\"rank\">12.</span></td>      <td valign=\"top\" class=\"votelinks\"><center><a id='up_19471903' href='vote?id=19471903&amp;how=up&amp;goto=news'><div class='votearrow' title='upvote'></div></a></center></td><td class=\"title\"><a href=\"https://cra.org/ccc/wp-content/uploads/sites/2/2019/03/AI_Roadmap_Exec_Summary-FINAL-.pdf\" class=\"storylink\" rel=\"nofollow\">A 20-Year Community Roadmap for Artificial Intelligence Research in the US [pdf]</a><span class=\"sitebit comhead\"> (<a href=\"from?site=cra.org\"><span class=\"sitestr\">cra.org</span></a>)</span></td></tr><tr><td colspan=\"2\"></td><td class=\"subtext\">\n",
      "        <span class=\"score\" id=\"score_19471903\">7 points</span> by <a href=\"user?id=infodocket\" class=\"hnuser\">infodocket</a> <span class=\"age\"><a href=\"item?id=19471903\">1 hour ago</a></span> <span id=\"unv_19471903\"></span> | <a href=\"hide?id=19471903&amp;goto=news\">hide</a> | <a href=\"item?id=19471903\">discuss</a>              </td></tr>\n",
      "      <tr class=\"spacer\" style=\"height:5px\"></tr>\n",
      "                <tr class='athing' id='19466393'>\n",
      "      <td align=\"right\" valign=\"top\" class=\"title\"><span class=\"rank\">13.</span></td>      <td valign=\"top\" class=\"votelinks\"><center><a id='up_19466393' href='vote?id=19466393&amp;how=up&amp;goto=news'><div class='votearrow' title='upvote'></div></a></center></td><td class=\"title\"><a href=\"https://www.youtube.com/watch?v=OR2Gc6_Le2U\" class=\"storylink\">Operable Erlang and Elixir [video]</a><span class=\"sitebit comhead\"> (<a href=\"from?site=youtube.com\"><span class=\"sitestr\">youtube.com</span></a>)</span></td></tr><tr><td colspan=\"2\"></td><td class=\"subtext\">\n",
      "        <span class=\"score\" id=\"score_19466393\">161 points</span> by <a href=\"user?id=okket\" class=\"hnuser\">okket</a> <span class=\"age\"><a href=\"item?id=19466393\">11 hours ago</a></span> <span id=\"unv_19466393\"></span> | <a href=\"hide?id=19466393&amp;goto=news\">hide</a> | <a href=\"item?id=19466393\">9&nbsp;comments</a>              </td></tr>\n",
      "      <tr class=\"spacer\" style=\"height:5px\"></tr>\n",
      "                <tr class='athing' id='19468987'>\n",
      "      <td align=\"right\" valign=\"top\" class=\"title\"><span class=\"rank\">14.</span></td>      <td valign=\"top\" class=\"votelinks\"><center><a id='up_19468987' href='vote?id=19468987&amp;how=up&amp;goto=news'><div class='votearrow' title='upvote'></div></a></center></td><td class=\"title\"><a href=\"https://www.bloomberg.com/news/articles/2019-03-22/alzheimer-s-drug-fails-and-scientists-ask-is-it-time-to-move-on\" class=\"storylink\">Alzheimer’s Drug Failure Leaves Scientists Seeking New Direction</a><span class=\"sitebit comhead\"> (<a href=\"from?site=bloomberg.com\"><span class=\"sitestr\">bloomberg.com</span></a>)</span></td></tr><tr><td colspan=\"2\"></td><td class=\"subtext\">\n",
      "        <span class=\"score\" id=\"score_19468987\">52 points</span> by <a href=\"user?id=shadykiller\" class=\"hnuser\">shadykiller</a> <span class=\"age\"><a href=\"item?id=19468987\">7 hours ago</a></span> <span id=\"unv_19468987\"></span> | <a href=\"hide?id=19468987&amp;goto=news\">hide</a> | <a href=\"item?id=19468987\">45&nbsp;comments</a>              </td></tr>\n",
      "      <tr class=\"spacer\" style=\"height:5px\"></tr>\n",
      "                <tr class='athing' id='19468993'>\n",
      "      <td align=\"right\" valign=\"top\" class=\"title\"><span class=\"rank\">15.</span></td>      <td valign=\"top\" class=\"votelinks\"><center><a id='up_19468993' href='vote?id=19468993&amp;how=up&amp;goto=news'><div class='votearrow' title='upvote'></div></a></center></td><td class=\"title\"><a href=\"https://wiki.nikitavoloboev.xyz\" class=\"storylink\">Show HN: Everything I Know Wiki</a><span class=\"sitebit comhead\"> (<a href=\"from?site=nikitavoloboev.xyz\"><span class=\"sitestr\">nikitavoloboev.xyz</span></a>)</span></td></tr><tr><td colspan=\"2\"></td><td class=\"subtext\">\n",
      "        <span class=\"score\" id=\"score_19468993\">337 points</span> by <a href=\"user?id=nikivi\" class=\"hnuser\">nikivi</a> <span class=\"age\"><a href=\"item?id=19468993\">14 hours ago</a></span> <span id=\"unv_19468993\"></span> | <a href=\"hide?id=19468993&amp;goto=news\">hide</a> | <a href=\"item?id=19468993\">95&nbsp;comments</a>              </td></tr>\n",
      "      <tr class=\"spacer\" style=\"height:5px\"></tr>\n",
      "                <tr class='athing' id='19451797'>\n",
      "      <td align=\"right\" valign=\"top\" class=\"title\"><span class=\"rank\">16.</span></td>      <td valign=\"top\" class=\"votelinks\"><center><a id='up_19451797' href='vote?id=19451797&amp;how=up&amp;goto=news'><div class='votearrow' title='upvote'></div></a></center></td><td class=\"title\"><a href=\"https://news.microsoft.com/innovation-stories/hello-data-dna-storage/\" class=\"storylink\">Microsoft, UW demonstrate first fully automated DNA data storage</a><span class=\"sitebit comhead\"> (<a href=\"from?site=microsoft.com\"><span class=\"sitestr\">microsoft.com</span></a>)</span></td></tr><tr><td colspan=\"2\"></td><td class=\"subtext\">\n",
      "        <span class=\"score\" id=\"score_19451797\">141 points</span> by <a href=\"user?id=myinnerbanjo\" class=\"hnuser\">myinnerbanjo</a> <span class=\"age\"><a href=\"item?id=19451797\">13 hours ago</a></span> <span id=\"unv_19451797\"></span> | <a href=\"hide?id=19451797&amp;goto=news\">hide</a> | <a href=\"item?id=19451797\">41&nbsp;comments</a>              </td></tr>\n",
      "      <tr class=\"spacer\" style=\"height:5px\"></tr>\n",
      "                <tr class='athing' id='19466929'>\n",
      "      <td align=\"right\" valign=\"top\" class=\"title\"><span class=\"rank\">17.</span></td>      <td valign=\"top\" class=\"votelinks\"><center><a id='up_19466929' href='vote?id=19466929&amp;how=up&amp;goto=news'><div class='votearrow' title='upvote'></div></a></center></td><td class=\"title\"><a href=\"https://blog.datproject.org/2019/03/22/three-protocols-and-a-future-of-the-decentralized-internet/\" class=\"storylink\">Three protocols and a future of the decentralized internet</a><span class=\"sitebit comhead\"> (<a href=\"from?site=datproject.org\"><span class=\"sitestr\">datproject.org</span></a>)</span></td></tr><tr><td colspan=\"2\"></td><td class=\"subtext\">\n",
      "        <span class=\"score\" id=\"score_19466929\">90 points</span> by <a href=\"user?id=dredmorbius\" class=\"hnuser\">dredmorbius</a> <span class=\"age\"><a href=\"item?id=19466929\">11 hours ago</a></span> <span id=\"unv_19466929\"></span> | <a href=\"hide?id=19466929&amp;goto=news\">hide</a> | <a href=\"item?id=19466929\">25&nbsp;comments</a>              </td></tr>\n",
      "      <tr class=\"spacer\" style=\"height:5px\"></tr>\n",
      "                <tr class='athing' id='19458768'>\n",
      "      <td align=\"right\" valign=\"top\" class=\"title\"><span class=\"rank\">18.</span></td>      <td valign=\"top\" class=\"votelinks\"><center><a id='up_19458768' href='vote?id=19458768&amp;how=up&amp;goto=news'><div class='votearrow' title='upvote'></div></a></center></td><td class=\"title\"><a href=\"https://dangerousminds.net/comments/out_there_the_transcendent_life_and_art_of_burt_shonberg\" class=\"storylink\">'Out There': The Transcendent Life and Art of Burt Shonberg (2018)</a><span class=\"sitebit comhead\"> (<a href=\"from?site=dangerousminds.net\"><span class=\"sitestr\">dangerousminds.net</span></a>)</span></td></tr><tr><td colspan=\"2\"></td><td class=\"subtext\">\n",
      "        <span class=\"score\" id=\"score_19458768\">7 points</span> by <a href=\"user?id=prismatic\" class=\"hnuser\">prismatic</a> <span class=\"age\"><a href=\"item?id=19458768\">3 hours ago</a></span> <span id=\"unv_19458768\"></span> | <a href=\"hide?id=19458768&amp;goto=news\">hide</a> | <a href=\"item?id=19458768\">discuss</a>              </td></tr>\n",
      "      <tr class=\"spacer\" style=\"height:5px\"></tr>\n",
      "                <tr class='athing' id='19459499'>\n",
      "      <td align=\"right\" valign=\"top\" class=\"title\"><span class=\"rank\">19.</span></td>      <td valign=\"top\" class=\"votelinks\"><center><a id='up_19459499' href='vote?id=19459499&amp;how=up&amp;goto=news'><div class='votearrow' title='upvote'></div></a></center></td><td class=\"title\"><a href=\"https://www.nasa.gov/feature/how-11-deaf-men-helped-shape-nasas-human-spaceflight-program\" class=\"storylink\">Deaf Men Helped Shape Nasa's Human Spaceflight Program</a><span class=\"sitebit comhead\"> (<a href=\"from?site=nasa.gov\"><span class=\"sitestr\">nasa.gov</span></a>)</span></td></tr><tr><td colspan=\"2\"></td><td class=\"subtext\">\n",
      "        <span class=\"score\" id=\"score_19459499\">24 points</span> by <a href=\"user?id=curtis\" class=\"hnuser\">curtis</a> <span class=\"age\"><a href=\"item?id=19459499\">5 hours ago</a></span> <span id=\"unv_19459499\"></span> | <a href=\"hide?id=19459499&amp;goto=news\">hide</a> | <a href=\"item?id=19459499\">2&nbsp;comments</a>              </td></tr>\n",
      "      <tr class=\"spacer\" style=\"height:5px\"></tr>\n",
      "                <tr class='athing' id='19462613'>\n",
      "      <td align=\"right\" valign=\"top\" class=\"title\"><span class=\"rank\">20.</span></td>      <td valign=\"top\" class=\"votelinks\"><center><a id='up_19462613' href='vote?id=19462613&amp;how=up&amp;goto=news'><div class='votearrow' title='upvote'></div></a></center></td><td class=\"title\"><a href=\"https://zygoloid.github.io/cppcontest2018.html\" class=\"storylink\">Esoteric C++ Contest 2018</a><span class=\"sitebit comhead\"> (<a href=\"from?site=zygoloid.github.io\"><span class=\"sitestr\">zygoloid.github.io</span></a>)</span></td></tr><tr><td colspan=\"2\"></td><td class=\"subtext\">\n",
      "        <span class=\"score\" id=\"score_19462613\">76 points</span> by <a href=\"user?id=lelf\" class=\"hnuser\">lelf</a> <span class=\"age\"><a href=\"item?id=19462613\">11 hours ago</a></span> <span id=\"unv_19462613\"></span> | <a href=\"hide?id=19462613&amp;goto=news\">hide</a> | <a href=\"item?id=19462613\">28&nbsp;comments</a>              </td></tr>\n",
      "      <tr class=\"spacer\" style=\"height:5px\"></tr>\n",
      "                <tr class='athing' id='19472076'>\n",
      "      <td align=\"right\" valign=\"top\" class=\"title\"><span class=\"rank\">21.</span></td>      <td valign=\"top\" class=\"votelinks\"><center><a id='up_19472076' href='vote?id=19472076&amp;how=up&amp;goto=news'><div class='votearrow' title='upvote'></div></a></center></td><td class=\"title\"><a href=\"https://www.theguardian.com/environment/2019/feb/22/boy-12-said-to-have-created-nuclear-reaction-in-playroom-lab\" class=\"storylink\">Boy, 12, said to have created nuclear reaction in playroom lab</a><span class=\"sitebit comhead\"> (<a href=\"from?site=theguardian.com\"><span class=\"sitestr\">theguardian.com</span></a>)</span></td></tr><tr><td colspan=\"2\"></td><td class=\"subtext\">\n",
      "        <span class=\"score\" id=\"score_19472076\">8 points</span> by <a href=\"user?id=em3rgent0rdr\" class=\"hnuser\">em3rgent0rdr</a> <span class=\"age\"><a href=\"item?id=19472076\">41 minutes ago</a></span> <span id=\"unv_19472076\"></span> | <a href=\"hide?id=19472076&amp;goto=news\">hide</a> | <a href=\"item?id=19472076\">2&nbsp;comments</a>              </td></tr>\n",
      "      <tr class=\"spacer\" style=\"height:5px\"></tr>\n",
      "                <tr class='athing' id='19469681'>\n",
      "      <td align=\"right\" valign=\"top\" class=\"title\"><span class=\"rank\">22.</span></td>      <td valign=\"top\" class=\"votelinks\"><center><a id='up_19469681' href='vote?id=19469681&amp;how=up&amp;goto=news'><div class='votearrow' title='upvote'></div></a></center></td><td class=\"title\"><a href=\"https://www.bbc.com/news/av/stories-47660347/tracing-child-abusers-where-was-this-picture-taken\" class=\"storylink\">Tracing child abusers: Where was this picture taken? [video]</a><span class=\"sitebit comhead\"> (<a href=\"from?site=bbc.com\"><span class=\"sitestr\">bbc.com</span></a>)</span></td></tr><tr><td colspan=\"2\"></td><td class=\"subtext\">\n",
      "        <span class=\"score\" id=\"score_19469681\">117 points</span> by <a href=\"user?id=cskau\" class=\"hnuser\">cskau</a> <span class=\"age\"><a href=\"item?id=19469681\">11 hours ago</a></span> <span id=\"unv_19469681\"></span> | <a href=\"hide?id=19469681&amp;goto=news\">hide</a> | <a href=\"item?id=19469681\">50&nbsp;comments</a>              </td></tr>\n",
      "      <tr class=\"spacer\" style=\"height:5px\"></tr>\n",
      "                <tr class='athing' id='19468283'>\n",
      "      <td align=\"right\" valign=\"top\" class=\"title\"><span class=\"rank\">23.</span></td>      <td valign=\"top\" class=\"votelinks\"><center><a id='up_19468283' href='vote?id=19468283&amp;how=up&amp;goto=news'><div class='votearrow' title='upvote'></div></a></center></td><td class=\"title\"><a href=\"https://www.economist.com/science-and-technology/2019/03/23/a-way-to-charge-pacemakers-using-the-hearts-own-muscle\" class=\"storylink\">A way to charge pacemakers using the heart’s own muscle</a><span class=\"sitebit comhead\"> (<a href=\"from?site=economist.com\"><span class=\"sitestr\">economist.com</span></a>)</span></td></tr><tr><td colspan=\"2\"></td><td class=\"subtext\">\n",
      "        <span class=\"score\" id=\"score_19468283\">47 points</span> by <a href=\"user?id=jkuria\" class=\"hnuser\">jkuria</a> <span class=\"age\"><a href=\"item?id=19468283\">12 hours ago</a></span> <span id=\"unv_19468283\"></span> | <a href=\"hide?id=19468283&amp;goto=news\">hide</a> | <a href=\"item?id=19468283\">11&nbsp;comments</a>              </td></tr>\n",
      "      <tr class=\"spacer\" style=\"height:5px\"></tr>\n",
      "                <tr class='athing' id='19470313'>\n",
      "      <td align=\"right\" valign=\"top\" class=\"title\"><span class=\"rank\">24.</span></td>      <td valign=\"top\" class=\"votelinks\"><center><a id='up_19470313' href='vote?id=19470313&amp;how=up&amp;goto=news'><div class='votearrow' title='upvote'></div></a></center></td><td class=\"title\"><a href=\"https://www.bbc.com/news/world-europe-47679760\" class=\"storylink\">Italy Joins China's New Silk Road Project</a><span class=\"sitebit comhead\"> (<a href=\"from?site=bbc.com\"><span class=\"sitestr\">bbc.com</span></a>)</span></td></tr><tr><td colspan=\"2\"></td><td class=\"subtext\">\n",
      "        <span class=\"score\" id=\"score_19470313\">101 points</span> by <a href=\"user?id=pseudolus\" class=\"hnuser\">pseudolus</a> <span class=\"age\"><a href=\"item?id=19470313\">7 hours ago</a></span> <span id=\"unv_19470313\"></span> | <a href=\"hide?id=19470313&amp;goto=news\">hide</a> | <a href=\"item?id=19470313\">108&nbsp;comments</a>              </td></tr>\n",
      "      <tr class=\"spacer\" style=\"height:5px\"></tr>\n",
      "                <tr class='athing' id='19468090'>\n",
      "      <td align=\"right\" valign=\"top\" class=\"title\"><span class=\"rank\">25.</span></td>      <td valign=\"top\" class=\"votelinks\"><center><a id='up_19468090' href='vote?id=19468090&amp;how=up&amp;goto=news'><div class='votearrow' title='upvote'></div></a></center></td><td class=\"title\"><a href=\"https://twitter.com/paulg/status/1109220781035307009\" class=\"storylink\">“Every minute I spent thinking about competitors was a minute wasted”</a><span class=\"sitebit comhead\"> (<a href=\"from?site=twitter.com\"><span class=\"sitestr\">twitter.com</span></a>)</span></td></tr><tr><td colspan=\"2\"></td><td class=\"subtext\">\n",
      "        <span class=\"score\" id=\"score_19468090\">387 points</span> by <a href=\"user?id=aboutruby\" class=\"hnuser\">aboutruby</a> <span class=\"age\"><a href=\"item?id=19468090\">20 hours ago</a></span> <span id=\"unv_19468090\"></span> | <a href=\"hide?id=19468090&amp;goto=news\">hide</a> | <a href=\"item?id=19468090\">139&nbsp;comments</a>              </td></tr>\n",
      "      <tr class=\"spacer\" style=\"height:5px\"></tr>\n",
      "                <tr class='athing' id='19468027'>\n",
      "      <td align=\"right\" valign=\"top\" class=\"title\"><span class=\"rank\">26.</span></td>      <td valign=\"top\" class=\"votelinks\"><center><a id='up_19468027' href='vote?id=19468027&amp;how=up&amp;goto=news'><div class='votearrow' title='upvote'></div></a></center></td><td class=\"title\"><a href=\"https://www.archaeology.org/issues/7368\" class=\"storylink\">Archaeologists resume the search for the home of drama in a Greek sanctuary</a><span class=\"sitebit comhead\"> (<a href=\"from?site=archaeology.org\"><span class=\"sitestr\">archaeology.org</span></a>)</span></td></tr><tr><td colspan=\"2\"></td><td class=\"subtext\">\n",
      "        <span class=\"score\" id=\"score_19468027\">36 points</span> by <a href=\"user?id=diodorus\" class=\"hnuser\">diodorus</a> <span class=\"age\"><a href=\"item?id=19468027\">13 hours ago</a></span> <span id=\"unv_19468027\"></span> | <a href=\"hide?id=19468027&amp;goto=news\">hide</a> | <a href=\"item?id=19468027\">discuss</a>              </td></tr>\n",
      "      <tr class=\"spacer\" style=\"height:5px\"></tr>\n",
      "                <tr class='athing' id='19471354'>\n",
      "      <td align=\"right\" valign=\"top\" class=\"title\"><span class=\"rank\">27.</span></td>      <td></td><td class=\"title\"><a href=\"https://www.workable.com/j/089F60DE31\" class=\"storylink\" rel=\"nofollow\">Jerry (YC S17) Is Hiring Senior Software Developers (Toronto/Markham or Remote)</a><span class=\"sitebit comhead\"> (<a href=\"from?site=workable.com\"><span class=\"sitestr\">workable.com</span></a>)</span></td></tr><tr><td colspan=\"2\"></td><td class=\"subtext\">\n",
      "        <span class=\"age\"><a href=\"item?id=19471354\">3 hours ago</a></span> | <a href=\"hide?id=19471354&amp;goto=news\">hide</a>      </td></tr>\n",
      "      <tr class=\"spacer\" style=\"height:5px\"></tr>\n",
      "                <tr class='athing' id='19466642'>\n",
      "      <td align=\"right\" valign=\"top\" class=\"title\"><span class=\"rank\">28.</span></td>      <td valign=\"top\" class=\"votelinks\"><center><a id='up_19466642' href='vote?id=19466642&amp;how=up&amp;goto=news'><div class='votearrow' title='upvote'></div></a></center></td><td class=\"title\"><a href=\"https://arstechnica.com/information-technology/2019/03/atts-5g-e-is-actually-slower-than-verizon-and-t-mobile-4g-study-finds/\" class=\"storylink\">AT&T’s “5G E” is slower than Verizon and T-Mobile 4G, study finds</a><span class=\"sitebit comhead\"> (<a href=\"from?site=arstechnica.com\"><span class=\"sitestr\">arstechnica.com</span></a>)</span></td></tr><tr><td colspan=\"2\"></td><td class=\"subtext\">\n",
      "        <span class=\"score\" id=\"score_19466642\">309 points</span> by <a href=\"user?id=sinak\" class=\"hnuser\">sinak</a> <span class=\"age\"><a href=\"item?id=19466642\">1 day ago</a></span> <span id=\"unv_19466642\"></span> | <a href=\"hide?id=19466642&amp;goto=news\">hide</a> | <a href=\"item?id=19466642\">96&nbsp;comments</a>              </td></tr>\n",
      "      <tr class=\"spacer\" style=\"height:5px\"></tr>\n",
      "                <tr class='athing' id='19465967'>\n",
      "      <td align=\"right\" valign=\"top\" class=\"title\"><span class=\"rank\">29.</span></td>      <td valign=\"top\" class=\"votelinks\"><center><a id='up_19465967' href='vote?id=19465967&amp;how=up&amp;goto=news'><div class='votearrow' title='upvote'></div></a></center></td><td class=\"title\"><a href=\"https://nullprogram.com/blog/2019/03/22/\" class=\"storylink\">Endlessh: An SSH Tarpit</a><span class=\"sitebit comhead\"> (<a href=\"from?site=nullprogram.com\"><span class=\"sitestr\">nullprogram.com</span></a>)</span></td></tr><tr><td colspan=\"2\"></td><td class=\"subtext\">\n",
      "        <span class=\"score\" id=\"score_19465967\">507 points</span> by <a href=\"user?id=stargrave\" class=\"hnuser\">stargrave</a> <span class=\"age\"><a href=\"item?id=19465967\">1 day ago</a></span> <span id=\"unv_19465967\"></span> | <a href=\"hide?id=19465967&amp;goto=news\">hide</a> | <a href=\"item?id=19465967\">103&nbsp;comments</a>              </td></tr>\n",
      "      <tr class=\"spacer\" style=\"height:5px\"></tr>\n",
      "                <tr class='athing' id='19467542'>\n",
      "      <td align=\"right\" valign=\"top\" class=\"title\"><span class=\"rank\">30.</span></td>      <td valign=\"top\" class=\"votelinks\"><center><a id='up_19467542' href='vote?id=19467542&amp;how=up&amp;goto=news'><div class='votearrow' title='upvote'></div></a></center></td><td class=\"title\"><a href=\"https://spectrum.ieee.org/nanoclast/semiconductors/optoelectronics/new-graphene-metamaterial-device-heats-to-160c-under-sunlight-in-seconds\" class=\"storylink\">Graphene Device Sops Up Sunlight, Heats to 160 Degrees Celsius in Seconds</a><span class=\"sitebit comhead\"> (<a href=\"from?site=ieee.org\"><span class=\"sitestr\">ieee.org</span></a>)</span></td></tr><tr><td colspan=\"2\"></td><td class=\"subtext\">\n",
      "        <span class=\"score\" id=\"score_19467542\">210 points</span> by <a href=\"user?id=Suenaga\" class=\"hnuser\">Suenaga</a> <span class=\"age\"><a href=\"item?id=19467542\">22 hours ago</a></span> <span id=\"unv_19467542\"></span> | <a href=\"hide?id=19467542&amp;goto=news\">hide</a> | <a href=\"item?id=19467542\">70&nbsp;comments</a>              </td></tr>\n",
      "      <tr class=\"spacer\" style=\"height:5px\"></tr>\n",
      "            <tr class=\"morespace\" style=\"height:10px\"></tr><tr><td colspan=\"2\"></td><td class=\"title\"><a href=\"news?p=2\" class=\"morelink\" rel=\"next\">More</a></td></tr>\n",
      "  </table>\n",
      "</td></tr>\n",
      "<tr><td><img src=\"s.gif\" height=\"10\" width=\"0\"><table width=\"100%\" cellspacing=\"0\" cellpadding=\"1\"><tr><td bgcolor=\"#ff6600\"></td></tr></table><br><center><a href=\"https://www.ycombinator.com/apply/\">\n",
      "        Applications are open for YC Summer 2019\n",
      "      </a></center><br><center><span class=\"yclinks\"><a href=\"newsguidelines.html\">Guidelines</a>\n",
      "        | <a href=\"newsfaq.html\">FAQ</a>\n",
      "        | <a href=\"mailto:hn@ycombinator.com\">Support</a>\n",
      "        | <a href=\"https://github.com/HackerNews/API\">API</a>\n",
      "        | <a href=\"security.html\">Security</a>\n",
      "        | <a href=\"lists\">Lists</a>\n",
      "        | <a href=\"bookmarklet.html\" rel=\"nofollow\">Bookmarklet</a>\n",
      "        | <a href=\"http://www.ycombinator.com/legal/\">Legal</a>\n",
      "        | <a href=\"http://www.ycombinator.com/apply/\">Apply to YC</a>\n",
      "        | <a href=\"mailto:hn@ycombinator.com\">Contact</a></span><br><br><form method=\"get\" action=\"//hn.algolia.com/\">Search:\n",
      "          <input type=\"text\" name=\"q\" value=\"\" size=\"17\" autocorrect=\"off\" spellcheck=\"false\" autocapitalize=\"off\" autocomplete=\"false\"></form>\n",
      "            </center></td></tr>\n",
      "      </table></center></body><script type='text/javascript' src='hn.js?SQfqA2xbTzsMRwoDFk4N'></script>\n",
      "  </html>\n",
      "\n"
     ]
    }
   ],
   "source": [
    "import requests\n",
    "\n",
    "# Fetch a web page\n",
    "r = requests.get(\"https://news.ycombinator.com\")\n",
    "print(r.text)"
   ]
  },
  {
   "cell_type": "code",
   "execution_count": 26,
   "metadata": {},
   "outputs": [
    {
     "name": "stdout",
     "output_type": "stream",
     "text": [
      "\n",
      "            \n",
      "          \n",
      "        Hacker News\n",
      "        \n",
      "                  Hacker News\n",
      "              new | past | comments | ask | show | jobs | submit            \n",
      "                              login\n",
      "                          \n",
      "              \n",
      "\n",
      "              \n",
      "      1.      Calculating the mean of a list of numbers (2016) (hypothesis.works)\n",
      "        153 points by GregBuchholz 4 hours ago  | hide | 60&nbsp;comments              \n",
      "      \n",
      "                \n",
      "      2.      Machine Learning: Full-Text Search in JavaScript – Relevance Scoring (burakkanber.com)\n",
      "        62 points by octosphere 3 hours ago  | hide | 10&nbsp;comments              \n",
      "      \n",
      "                \n",
      "      3.      An Archive of 55k Boxing Matches on VHS (nytimes.com)\n",
      "        46 points by typographer 3 hours ago  | hide | 16&nbsp;comments              \n",
      "      \n",
      "                \n",
      "      4.      Fuck The Vessel (thebaffler.com)\n",
      "        21 points by portobello 1 hour ago  | hide | 6&nbsp;comments              \n",
      "      \n",
      "                \n",
      "      5.      Replete 2.0 (Clojure REPL for iOS and Android) (replete-repl.org)\n",
      "        16 points by tosh 1 hour ago  | hide | discuss              \n",
      "      \n",
      "                \n",
      "      6.      Qri: A global dataset version control system built on the distributed web (github.com)\n",
      "        158 points by anewhnaccount2 8 hours ago  | hide | 31&nbsp;comments              \n",
      "      \n",
      "                \n",
      "      7.      Streaming video has surpassed cable subscriptions worldwide (theverge.com)\n",
      "        43 points by prostoalex 4 hours ago  | hide | 18&nbsp;comments              \n",
      "      \n",
      "                \n",
      "      8.      Anthrax Guitarist Turned Master Watchmaker (2012) (hodinkee.com)\n",
      "        106 points by wglb 8 hours ago  | hide | 33&nbsp;comments              \n",
      "      \n",
      "                \n",
      "      9.      Homeless, living in a tent and employed: The changing face of homelessness (washingtonpost.com)\n",
      "        110 points by dankohn1 9 hours ago  | hide | 86&nbsp;comments              \n",
      "      \n",
      "                \n",
      "      10.      Apple's Reinvention as a Services Company Starts for Real Monday (bloomberg.com)\n",
      "        88 points by __ralston3 3 hours ago  | hide | 102&nbsp;comments              \n",
      "      \n",
      "                \n",
      "      11.      Fish oil supplements linked to prostate cancer (2013) (nhs.uk)\n",
      "        76 points by leib 2 hours ago  | hide | 43&nbsp;comments              \n",
      "      \n",
      "                \n",
      "      12.      A 20-Year Community Roadmap for Artificial Intelligence Research in the US [pdf] (cra.org)\n",
      "        7 points by infodocket 1 hour ago  | hide | discuss              \n",
      "      \n",
      "                \n",
      "      13.      Operable Erlang and Elixir [video] (youtube.com)\n",
      "        161 points by okket 11 hours ago  | hide | 9&nbsp;comments              \n",
      "      \n",
      "                \n",
      "      14.      Alzheimer’s Drug Failure Leaves Scientists Seeking New Direction (bloomberg.com)\n",
      "        52 points by shadykiller 7 hours ago  | hide | 45&nbsp;comments              \n",
      "      \n",
      "                \n",
      "      15.      Show HN: Everything I Know Wiki (nikitavoloboev.xyz)\n",
      "        337 points by nikivi 14 hours ago  | hide | 95&nbsp;comments              \n",
      "      \n",
      "                \n",
      "      16.      Microsoft, UW demonstrate first fully automated DNA data storage (microsoft.com)\n",
      "        141 points by myinnerbanjo 13 hours ago  | hide | 41&nbsp;comments              \n",
      "      \n",
      "                \n",
      "      17.      Three protocols and a future of the decentralized internet (datproject.org)\n",
      "        90 points by dredmorbius 11 hours ago  | hide | 25&nbsp;comments              \n",
      "      \n",
      "                \n",
      "      18.      'Out There': The Transcendent Life and Art of Burt Shonberg (2018) (dangerousminds.net)\n",
      "        7 points by prismatic 3 hours ago  | hide | discuss              \n",
      "      \n",
      "                \n",
      "      19.      Deaf Men Helped Shape Nasa's Human Spaceflight Program (nasa.gov)\n",
      "        24 points by curtis 5 hours ago  | hide | 2&nbsp;comments              \n",
      "      \n",
      "                \n",
      "      20.      Esoteric C++ Contest 2018 (zygoloid.github.io)\n",
      "        76 points by lelf 11 hours ago  | hide | 28&nbsp;comments              \n",
      "      \n",
      "                \n",
      "      21.      Boy, 12, said to have created nuclear reaction in playroom lab (theguardian.com)\n",
      "        8 points by em3rgent0rdr 41 minutes ago  | hide | 2&nbsp;comments              \n",
      "      \n",
      "                \n",
      "      22.      Tracing child abusers: Where was this picture taken? [video] (bbc.com)\n",
      "        117 points by cskau 11 hours ago  | hide | 50&nbsp;comments              \n",
      "      \n",
      "                \n",
      "      23.      A way to charge pacemakers using the heart’s own muscle (economist.com)\n",
      "        47 points by jkuria 12 hours ago  | hide | 11&nbsp;comments              \n",
      "      \n",
      "                \n",
      "      24.      Italy Joins China's New Silk Road Project (bbc.com)\n",
      "        101 points by pseudolus 7 hours ago  | hide | 108&nbsp;comments              \n",
      "      \n",
      "                \n",
      "      25.      “Every minute I spent thinking about competitors was a minute wasted” (twitter.com)\n",
      "        387 points by aboutruby 20 hours ago  | hide | 139&nbsp;comments              \n",
      "      \n",
      "                \n",
      "      26.      Archaeologists resume the search for the home of drama in a Greek sanctuary (archaeology.org)\n",
      "        36 points by diodorus 13 hours ago  | hide | discuss              \n",
      "      \n",
      "                \n",
      "      27.      Jerry (YC S17) Is Hiring Senior Software Developers (Toronto/Markham or Remote) (workable.com)\n",
      "        3 hours ago | hide      \n",
      "      \n",
      "                \n",
      "      28.      AT&T’s “5G E” is slower than Verizon and T-Mobile 4G, study finds (arstechnica.com)\n",
      "        309 points by sinak 1 day ago  | hide | 96&nbsp;comments              \n",
      "      \n",
      "                \n",
      "      29.      Endlessh: An SSH Tarpit (nullprogram.com)\n",
      "        507 points by stargrave 1 day ago  | hide | 103&nbsp;comments              \n",
      "      \n",
      "                \n",
      "      30.      Graphene Device Sops Up Sunlight, Heats to 160 Degrees Celsius in Seconds (ieee.org)\n",
      "        210 points by Suenaga 22 hours ago  | hide | 70&nbsp;comments              \n",
      "      \n",
      "            More\n",
      "  \n",
      "\n",
      "\n",
      "        Applications are open for YC Summer 2019\n",
      "      Guidelines\n",
      "        | FAQ\n",
      "        | Support\n",
      "        | API\n",
      "        | Security\n",
      "        | Lists\n",
      "        | Bookmarklet\n",
      "        | Legal\n",
      "        | Apply to YC\n",
      "        | ContactSearch:\n",
      "          \n",
      "            \n",
      "      \n",
      "  \n",
      "\n"
     ]
    }
   ],
   "source": [
    "import re\n",
    "\n",
    "# Remove HTML tags using RegEx\n",
    "pattern = re.compile(r'<.*?>')  # tags look like <...>\n",
    "print(pattern.sub('', r.text))  # replace them with blank"
   ]
  },
  {
   "cell_type": "code",
   "execution_count": 27,
   "metadata": {},
   "outputs": [
    {
     "name": "stdout",
     "output_type": "stream",
     "text": [
      "\n",
      "            \n",
      "          \n",
      "        Hacker News\n",
      "        \n",
      "                  Hacker News\n",
      "              new | past | comments | ask | show | jobs | submit            \n",
      "                              login\n",
      "                          \n",
      "              \n",
      "\n",
      "              \n",
      "      1.      Calculating the mean of a list of numbers (2016) (hypothesis.works)\n",
      "        153 points by GregBuchholz 4 hours ago  | hide | 60 comments              \n",
      "      \n",
      "                \n",
      "      2.      Machine Learning: Full-Text Search in JavaScript – Relevance Scoring (burakkanber.com)\n",
      "        62 points by octosphere 3 hours ago  | hide | 10 comments              \n",
      "      \n",
      "                \n",
      "      3.      An Archive of 55k Boxing Matches on VHS (nytimes.com)\n",
      "        46 points by typographer 3 hours ago  | hide | 16 comments              \n",
      "      \n",
      "                \n",
      "      4.      Fuck The Vessel (thebaffler.com)\n",
      "        21 points by portobello 1 hour ago  | hide | 6 comments              \n",
      "      \n",
      "                \n",
      "      5.      Replete 2.0 (Clojure REPL for iOS and Android) (replete-repl.org)\n",
      "        16 points by tosh 1 hour ago  | hide | discuss              \n",
      "      \n",
      "                \n",
      "      6.      Qri: A global dataset version control system built on the distributed web (github.com)\n",
      "        158 points by anewhnaccount2 8 hours ago  | hide | 31 comments              \n",
      "      \n",
      "                \n",
      "      7.      Streaming video has surpassed cable subscriptions worldwide (theverge.com)\n",
      "        43 points by prostoalex 4 hours ago  | hide | 18 comments              \n",
      "      \n",
      "                \n",
      "      8.      Anthrax Guitarist Turned Master Watchmaker (2012) (hodinkee.com)\n",
      "        106 points by wglb 8 hours ago  | hide | 33 comments              \n",
      "      \n",
      "                \n",
      "      9.      Homeless, living in a tent and employed: The changing face of homelessness (washingtonpost.com)\n",
      "        110 points by dankohn1 9 hours ago  | hide | 86 comments              \n",
      "      \n",
      "                \n",
      "      10.      Apple's Reinvention as a Services Company Starts for Real Monday (bloomberg.com)\n",
      "        88 points by __ralston3 3 hours ago  | hide | 102 comments              \n",
      "      \n",
      "                \n",
      "      11.      Fish oil supplements linked to prostate cancer (2013) (nhs.uk)\n",
      "        76 points by leib 2 hours ago  | hide | 43 comments              \n",
      "      \n",
      "                \n",
      "      12.      A 20-Year Community Roadmap for Artificial Intelligence Research in the US [pdf] (cra.org)\n",
      "        7 points by infodocket 1 hour ago  | hide | discuss              \n",
      "      \n",
      "                \n",
      "      13.      Operable Erlang and Elixir [video] (youtube.com)\n",
      "        161 points by okket 11 hours ago  | hide | 9 comments              \n",
      "      \n",
      "                \n",
      "      14.      Alzheimer’s Drug Failure Leaves Scientists Seeking New Direction (bloomberg.com)\n",
      "        52 points by shadykiller 7 hours ago  | hide | 45 comments              \n",
      "      \n",
      "                \n",
      "      15.      Show HN: Everything I Know Wiki (nikitavoloboev.xyz)\n",
      "        337 points by nikivi 14 hours ago  | hide | 95 comments              \n",
      "      \n",
      "                \n",
      "      16.      Microsoft, UW demonstrate first fully automated DNA data storage (microsoft.com)\n",
      "        141 points by myinnerbanjo 13 hours ago  | hide | 41 comments              \n",
      "      \n",
      "                \n",
      "      17.      Three protocols and a future of the decentralized internet (datproject.org)\n",
      "        90 points by dredmorbius 11 hours ago  | hide | 25 comments              \n",
      "      \n",
      "                \n",
      "      18.      'Out There': The Transcendent Life and Art of Burt Shonberg (2018) (dangerousminds.net)\n",
      "        7 points by prismatic 3 hours ago  | hide | discuss              \n",
      "      \n",
      "                \n",
      "      19.      Deaf Men Helped Shape Nasa's Human Spaceflight Program (nasa.gov)\n",
      "        24 points by curtis 5 hours ago  | hide | 2 comments              \n",
      "      \n",
      "                \n",
      "      20.      Esoteric C++ Contest 2018 (zygoloid.github.io)\n",
      "        76 points by lelf 11 hours ago  | hide | 28 comments              \n",
      "      \n",
      "                \n",
      "      21.      Boy, 12, said to have created nuclear reaction in playroom lab (theguardian.com)\n",
      "        8 points by em3rgent0rdr 41 minutes ago  | hide | 2 comments              \n",
      "      \n",
      "                \n",
      "      22.      Tracing child abusers: Where was this picture taken? [video] (bbc.com)\n",
      "        117 points by cskau 11 hours ago  | hide | 50 comments              \n",
      "      \n",
      "                \n",
      "      23.      A way to charge pacemakers using the heart’s own muscle (economist.com)\n",
      "        47 points by jkuria 12 hours ago  | hide | 11 comments              \n",
      "      \n",
      "                \n",
      "      24.      Italy Joins China's New Silk Road Project (bbc.com)\n",
      "        101 points by pseudolus 7 hours ago  | hide | 108 comments              \n",
      "      \n",
      "                \n",
      "      25.      “Every minute I spent thinking about competitors was a minute wasted” (twitter.com)\n",
      "        387 points by aboutruby 20 hours ago  | hide | 139 comments              \n",
      "      \n",
      "                \n",
      "      26.      Archaeologists resume the search for the home of drama in a Greek sanctuary (archaeology.org)\n",
      "        36 points by diodorus 13 hours ago  | hide | discuss              \n",
      "      \n",
      "                \n",
      "      27.      Jerry (YC S17) Is Hiring Senior Software Developers (Toronto/Markham or Remote) (workable.com)\n",
      "        3 hours ago | hide      \n",
      "      \n",
      "                \n",
      "      28.      AT&T’s “5G E” is slower than Verizon and T-Mobile 4G, study finds (arstechnica.com)\n",
      "        309 points by sinak 1 day ago  | hide | 96 comments              \n",
      "      \n",
      "                \n",
      "      29.      Endlessh: An SSH Tarpit (nullprogram.com)\n",
      "        507 points by stargrave 1 day ago  | hide | 103 comments              \n",
      "      \n",
      "                \n",
      "      30.      Graphene Device Sops Up Sunlight, Heats to 160 Degrees Celsius in Seconds (ieee.org)\n",
      "        210 points by Suenaga 22 hours ago  | hide | 70 comments              \n",
      "      \n",
      "            More\n",
      "  \n",
      "\n",
      "\n",
      "        Applications are open for YC Summer 2019\n",
      "      Guidelines\n",
      "        | FAQ\n",
      "        | Support\n",
      "        | API\n",
      "        | Security\n",
      "        | Lists\n",
      "        | Bookmarklet\n",
      "        | Legal\n",
      "        | Apply to YC\n",
      "        | ContactSearch:\n",
      "          \n",
      "            \n",
      "      \n",
      "  \n",
      "\n"
     ]
    }
   ],
   "source": [
    "from bs4 import BeautifulSoup\n",
    "\n",
    "# Remove HTML tags using Beautiful Soup library\n",
    "soup = BeautifulSoup(r.text, \"html5lib\")\n",
    "print(soup.get_text())"
   ]
  },
  {
   "cell_type": "code",
   "execution_count": 28,
   "metadata": {
    "scrolled": true
   },
   "outputs": [
    {
     "data": {
      "text/plain": [
       "<tr class=\"athing\" id=\"19470945\">\n",
       "      <td align=\"right\" class=\"title\" valign=\"top\"><span class=\"rank\">1.</span></td>      <td class=\"votelinks\" valign=\"top\"><center><a href=\"vote?id=19470945&amp;how=up&amp;goto=news\" id=\"up_19470945\"><div class=\"votearrow\" title=\"upvote\"></div></a></center></td><td class=\"title\"><a class=\"storylink\" href=\"https://hypothesis.works/articles/calculating-the-mean/\">Calculating the mean of a list of numbers (2016)</a><span class=\"sitebit comhead\"> (<a href=\"from?site=hypothesis.works\"><span class=\"sitestr\">hypothesis.works</span></a>)</span></td></tr>"
      ]
     },
     "execution_count": 28,
     "metadata": {},
     "output_type": "execute_result"
    }
   ],
   "source": [
    "# Find all articles\n",
    "summaries = soup.find_all(\"tr\", class_=\"athing\")\n",
    "summaries[0]"
   ]
  },
  {
   "cell_type": "code",
   "execution_count": 29,
   "metadata": {},
   "outputs": [
    {
     "data": {
      "text/plain": [
       "'Calculating the mean of a list of numbers (2016)'"
      ]
     },
     "execution_count": 29,
     "metadata": {},
     "output_type": "execute_result"
    }
   ],
   "source": [
    "# Extract title\n",
    "summaries[0].find(\"a\", class_=\"storylink\").get_text().strip()"
   ]
  },
  {
   "cell_type": "code",
   "execution_count": 30,
   "metadata": {},
   "outputs": [
    {
     "name": "stdout",
     "output_type": "stream",
     "text": [
      "30 Article summaries found. Sample:\n",
      "Calculating the mean of a list of numbers (2016)\n"
     ]
    }
   ],
   "source": [
    "# Find all articles, extract titles\n",
    "articles = []\n",
    "summaries = soup.find_all(\"tr\", class_=\"athing\")\n",
    "for summary in summaries:\n",
    "    title = summary.find(\"a\", class_=\"storylink\").get_text().strip()\n",
    "    articles.append((title))\n",
    "\n",
    "print(len(articles), \"Article summaries found. Sample:\")\n",
    "print(articles[0])"
   ]
  },
  {
   "cell_type": "markdown",
   "metadata": {},
   "source": [
    "## Normalization"
   ]
  },
  {
   "cell_type": "markdown",
   "metadata": {},
   "source": [
    "### Case Normalization"
   ]
  },
  {
   "cell_type": "code",
   "execution_count": 3,
   "metadata": {},
   "outputs": [
    {
     "name": "stdout",
     "output_type": "stream",
     "text": [
      "The first time you see The Second Renaissance it may look boring. Look at it at least twice and definitely watch part 2. It will change your view of the matrix. Are the human people the ones who started the war ? Is AI a bad thing ?\n"
     ]
    }
   ],
   "source": [
    "# Sample text\n",
    "text = \"The first time you see The Second Renaissance it may look boring. Look at it at least twice and definitely watch part 2. It will change your view of the matrix. Are the human people the ones who started the war ? Is AI a bad thing ?\"\n",
    "print(text)"
   ]
  },
  {
   "cell_type": "code",
   "execution_count": 4,
   "metadata": {},
   "outputs": [
    {
     "name": "stdout",
     "output_type": "stream",
     "text": [
      "the first time you see the second renaissance it may look boring. look at it at least twice and definitely watch part 2. it will change your view of the matrix. are the human people the ones who started the war ? is ai a bad thing ?\n"
     ]
    }
   ],
   "source": [
    "# Convert to lowercase\n",
    "text = text.lower() \n",
    "print(text)"
   ]
  },
  {
   "cell_type": "markdown",
   "metadata": {},
   "source": [
    "### Punctuation Removal"
   ]
  },
  {
   "cell_type": "code",
   "execution_count": 5,
   "metadata": {},
   "outputs": [
    {
     "name": "stdout",
     "output_type": "stream",
     "text": [
      "the first time you see the second renaissance it may look boring  look at it at least twice and definitely watch part 2  it will change your view of the matrix  are the human people the ones who started the war   is ai a bad thing  \n"
     ]
    }
   ],
   "source": [
    "import re\n",
    "\n",
    "# Remove punctuation characters\n",
    "text = re.sub(r\"[^a-zA-Z0-9]\", \" \", text) \n",
    "print(text)"
   ]
  },
  {
   "cell_type": "markdown",
   "metadata": {},
   "source": [
    "## Tokenization"
   ]
  },
  {
   "cell_type": "code",
   "execution_count": 6,
   "metadata": {},
   "outputs": [
    {
     "name": "stdout",
     "output_type": "stream",
     "text": [
      "['the', 'first', 'time', 'you', 'see', 'the', 'second', 'renaissance', 'it', 'may', 'look', 'boring', 'look', 'at', 'it', 'at', 'least', 'twice', 'and', 'definitely', 'watch', 'part', '2', 'it', 'will', 'change', 'your', 'view', 'of', 'the', 'matrix', 'are', 'the', 'human', 'people', 'the', 'ones', 'who', 'started', 'the', 'war', 'is', 'ai', 'a', 'bad', 'thing']\n"
     ]
    }
   ],
   "source": [
    "# Split text into tokens (words)\n",
    "words = text.split()\n",
    "print(words)"
   ]
  },
  {
   "cell_type": "markdown",
   "metadata": {},
   "source": [
    "### NLTK: Natural Language ToolKit"
   ]
  },
  {
   "cell_type": "code",
   "execution_count": 7,
   "metadata": {},
   "outputs": [],
   "source": [
    "import os\n",
    "import nltk\n",
    "nltk.data.path.append(os.path.join(os.getcwd(), \"nltk_data\"))"
   ]
  },
  {
   "cell_type": "code",
   "execution_count": 8,
   "metadata": {},
   "outputs": [
    {
     "name": "stdout",
     "output_type": "stream",
     "text": [
      "Dr. Smith graduated from the University of Washington. He later started an analytics firm called Lux, which catered to enterprise customers.\n"
     ]
    }
   ],
   "source": [
    "# Another sample text\n",
    "text = \"Dr. Smith graduated from the University of Washington. He later started an analytics firm called Lux, which catered to enterprise customers.\"\n",
    "print(text)"
   ]
  },
  {
   "cell_type": "code",
   "execution_count": 9,
   "metadata": {},
   "outputs": [
    {
     "name": "stdout",
     "output_type": "stream",
     "text": [
      "['Dr.', 'Smith', 'graduated', 'from', 'the', 'University', 'of', 'Washington', '.', 'He', 'later', 'started', 'an', 'analytics', 'firm', 'called', 'Lux', ',', 'which', 'catered', 'to', 'enterprise', 'customers', '.']\n"
     ]
    }
   ],
   "source": [
    "from nltk.tokenize import word_tokenize\n",
    "\n",
    "# Split text into words using NLTK\n",
    "words = word_tokenize(text)\n",
    "print(words)"
   ]
  },
  {
   "cell_type": "code",
   "execution_count": 10,
   "metadata": {},
   "outputs": [
    {
     "name": "stdout",
     "output_type": "stream",
     "text": [
      "['Dr. Smith graduated from the University of Washington.', 'He later started an analytics firm called Lux, which catered to enterprise customers.']\n"
     ]
    }
   ],
   "source": [
    "from nltk.tokenize import sent_tokenize\n",
    "\n",
    "# Split text into sentences\n",
    "sentences = sent_tokenize(text)\n",
    "print(sentences)"
   ]
  },
  {
   "cell_type": "code",
   "execution_count": 11,
   "metadata": {},
   "outputs": [
    {
     "name": "stdout",
     "output_type": "stream",
     "text": [
      "['i', 'me', 'my', 'myself', 'we', 'our', 'ours', 'ourselves', 'you', \"you're\", \"you've\", \"you'll\", \"you'd\", 'your', 'yours', 'yourself', 'yourselves', 'he', 'him', 'his', 'himself', 'she', \"she's\", 'her', 'hers', 'herself', 'it', \"it's\", 'its', 'itself', 'they', 'them', 'their', 'theirs', 'themselves', 'what', 'which', 'who', 'whom', 'this', 'that', \"that'll\", 'these', 'those', 'am', 'is', 'are', 'was', 'were', 'be', 'been', 'being', 'have', 'has', 'had', 'having', 'do', 'does', 'did', 'doing', 'a', 'an', 'the', 'and', 'but', 'if', 'or', 'because', 'as', 'until', 'while', 'of', 'at', 'by', 'for', 'with', 'about', 'against', 'between', 'into', 'through', 'during', 'before', 'after', 'above', 'below', 'to', 'from', 'up', 'down', 'in', 'out', 'on', 'off', 'over', 'under', 'again', 'further', 'then', 'once', 'here', 'there', 'when', 'where', 'why', 'how', 'all', 'any', 'both', 'each', 'few', 'more', 'most', 'other', 'some', 'such', 'no', 'nor', 'not', 'only', 'own', 'same', 'so', 'than', 'too', 'very', 's', 't', 'can', 'will', 'just', 'don', \"don't\", 'should', \"should've\", 'now', 'd', 'll', 'm', 'o', 're', 've', 'y', 'ain', 'aren', \"aren't\", 'couldn', \"couldn't\", 'didn', \"didn't\", 'doesn', \"doesn't\", 'hadn', \"hadn't\", 'hasn', \"hasn't\", 'haven', \"haven't\", 'isn', \"isn't\", 'ma', 'mightn', \"mightn't\", 'mustn', \"mustn't\", 'needn', \"needn't\", 'shan', \"shan't\", 'shouldn', \"shouldn't\", 'wasn', \"wasn't\", 'weren', \"weren't\", 'won', \"won't\", 'wouldn', \"wouldn't\"]\n"
     ]
    }
   ],
   "source": [
    "# List stop words\n",
    "from nltk.corpus import stopwords\n",
    "print(stopwords.words(\"english\"))"
   ]
  },
  {
   "cell_type": "code",
   "execution_count": 12,
   "metadata": {},
   "outputs": [
    {
     "name": "stdout",
     "output_type": "stream",
     "text": [
      "['the', 'first', 'time', 'you', 'see', 'the', 'second', 'renaissance', 'it', 'may', 'look', 'boring', 'look', 'at', 'it', 'at', 'least', 'twice', 'and', 'definitely', 'watch', 'part', '2', 'it', 'will', 'change', 'your', 'view', 'of', 'the', 'matrix', 'are', 'the', 'human', 'people', 'the', 'ones', 'who', 'started', 'the', 'war', 'is', 'ai', 'a', 'bad', 'thing']\n"
     ]
    }
   ],
   "source": [
    "# Reset text\n",
    "text = \"The first time you see The Second Renaissance it may look boring. Look at it at least twice and definitely watch part 2. It will change your view of the matrix. Are the human people the ones who started the war ? Is AI a bad thing ?\"\n",
    "\n",
    "# Normalize it\n",
    "text = re.sub(r\"[^a-zA-Z0-9]\", \" \", text.lower())\n",
    "\n",
    "# Tokenize it\n",
    "words = text.split()\n",
    "print(words)"
   ]
  },
  {
   "cell_type": "code",
   "execution_count": 13,
   "metadata": {},
   "outputs": [
    {
     "name": "stdout",
     "output_type": "stream",
     "text": [
      "['first', 'time', 'see', 'second', 'renaissance', 'may', 'look', 'boring', 'look', 'least', 'twice', 'definitely', 'watch', 'part', '2', 'change', 'view', 'matrix', 'human', 'people', 'ones', 'started', 'war', 'ai', 'bad', 'thing']\n"
     ]
    }
   ],
   "source": [
    "# Remove stop words\n",
    "words = [w for w in words if w not in stopwords.words(\"english\")]\n",
    "print(words)"
   ]
  },
  {
   "cell_type": "markdown",
   "metadata": {},
   "source": [
    "### Sentence Parsing"
   ]
  },
  {
   "cell_type": "code",
   "execution_count": 14,
   "metadata": {},
   "outputs": [
    {
     "name": "stdout",
     "output_type": "stream",
     "text": [
      "(S\n",
      "  (NP I)\n",
      "  (VP\n",
      "    (VP (V shot) (NP (Det an) (N elephant)))\n",
      "    (PP (P in) (NP (Det my) (N pajamas)))))\n",
      "(S\n",
      "  (NP I)\n",
      "  (VP\n",
      "    (V shot)\n",
      "    (NP (Det an) (N elephant) (PP (P in) (NP (Det my) (N pajamas))))))\n"
     ]
    }
   ],
   "source": [
    "import nltk\n",
    "\n",
    "# Define a custom grammar\n",
    "my_grammar = nltk.CFG.fromstring(\"\"\"\n",
    "S -> NP VP\n",
    "PP -> P NP\n",
    "NP -> Det N | Det N PP | 'I'\n",
    "VP -> V NP | VP PP\n",
    "Det -> 'an' | 'my'\n",
    "N -> 'elephant' | 'pajamas'\n",
    "V -> 'shot'\n",
    "P -> 'in'\n",
    "\"\"\")\n",
    "parser = nltk.ChartParser(my_grammar)\n",
    "\n",
    "# Parse a sentence\n",
    "sentence = word_tokenize(\"I shot an elephant in my pajamas\")\n",
    "for tree in parser.parse(sentence):\n",
    "    print(tree)"
   ]
  },
  {
   "cell_type": "code",
   "execution_count": 15,
   "metadata": {},
   "outputs": [],
   "source": [
    "for tree in parser.parse(sentence):\n",
    "    tree.draw()"
   ]
  },
  {
   "cell_type": "markdown",
   "metadata": {},
   "source": [
    "# Named Entity Recognition"
   ]
  },
  {
   "cell_type": "code",
   "execution_count": 16,
   "metadata": {},
   "outputs": [
    {
     "name": "stderr",
     "output_type": "stream",
     "text": [
      "[nltk_data] Downloading package maxent_ne_chunker to\n",
      "[nltk_data]     /Users/yudzhi/nltk_data...\n",
      "[nltk_data]   Package maxent_ne_chunker is already up-to-date!\n",
      "[nltk_data] Downloading package words to /Users/yudzhi/nltk_data...\n",
      "[nltk_data]   Package words is already up-to-date!\n",
      "[nltk_data] Downloading package punkt to /Users/yudzhi/nltk_data...\n",
      "[nltk_data]   Package punkt is already up-to-date!\n"
     ]
    },
    {
     "ename": "LookupError",
     "evalue": "\n\n===========================================================================\nNLTK was unable to find the gs file!\nUse software specific configuration paramaters or set the PATH environment variable.\n===========================================================================",
     "output_type": "error",
     "traceback": [
      "\u001b[0;31m---------------------------------------------------------------------------\u001b[0m",
      "\u001b[0;31mLookupError\u001b[0m                               Traceback (most recent call last)",
      "\u001b[0;32m/anaconda3/lib/python3.6/site-packages/IPython/core/formatters.py\u001b[0m in \u001b[0;36m__call__\u001b[0;34m(self, obj)\u001b[0m\n\u001b[1;32m    343\u001b[0m             \u001b[0mmethod\u001b[0m \u001b[0;34m=\u001b[0m \u001b[0mget_real_method\u001b[0m\u001b[0;34m(\u001b[0m\u001b[0mobj\u001b[0m\u001b[0;34m,\u001b[0m \u001b[0mself\u001b[0m\u001b[0;34m.\u001b[0m\u001b[0mprint_method\u001b[0m\u001b[0;34m)\u001b[0m\u001b[0;34m\u001b[0m\u001b[0;34m\u001b[0m\u001b[0m\n\u001b[1;32m    344\u001b[0m             \u001b[0;32mif\u001b[0m \u001b[0mmethod\u001b[0m \u001b[0;32mis\u001b[0m \u001b[0;32mnot\u001b[0m \u001b[0;32mNone\u001b[0m\u001b[0;34m:\u001b[0m\u001b[0;34m\u001b[0m\u001b[0;34m\u001b[0m\u001b[0m\n\u001b[0;32m--> 345\u001b[0;31m                 \u001b[0;32mreturn\u001b[0m \u001b[0mmethod\u001b[0m\u001b[0;34m(\u001b[0m\u001b[0;34m)\u001b[0m\u001b[0;34m\u001b[0m\u001b[0;34m\u001b[0m\u001b[0m\n\u001b[0m\u001b[1;32m    346\u001b[0m             \u001b[0;32mreturn\u001b[0m \u001b[0;32mNone\u001b[0m\u001b[0;34m\u001b[0m\u001b[0;34m\u001b[0m\u001b[0m\n\u001b[1;32m    347\u001b[0m         \u001b[0;32melse\u001b[0m\u001b[0;34m:\u001b[0m\u001b[0;34m\u001b[0m\u001b[0;34m\u001b[0m\u001b[0m\n",
      "\u001b[0;32m/anaconda3/lib/python3.6/site-packages/nltk/tree.py\u001b[0m in \u001b[0;36m_repr_png_\u001b[0;34m(self)\u001b[0m\n\u001b[1;32m    795\u001b[0m                         \u001b[0mbinary_names\u001b[0m\u001b[0;34m=\u001b[0m\u001b[0;34m[\u001b[0m\u001b[0;34m'gswin32c.exe'\u001b[0m\u001b[0;34m,\u001b[0m \u001b[0;34m'gswin64c.exe'\u001b[0m\u001b[0;34m]\u001b[0m\u001b[0;34m,\u001b[0m\u001b[0;34m\u001b[0m\u001b[0;34m\u001b[0m\u001b[0m\n\u001b[1;32m    796\u001b[0m                         \u001b[0menv_vars\u001b[0m\u001b[0;34m=\u001b[0m\u001b[0;34m[\u001b[0m\u001b[0;34m'PATH'\u001b[0m\u001b[0;34m]\u001b[0m\u001b[0;34m,\u001b[0m\u001b[0;34m\u001b[0m\u001b[0;34m\u001b[0m\u001b[0m\n\u001b[0;32m--> 797\u001b[0;31m                         \u001b[0mverbose\u001b[0m\u001b[0;34m=\u001b[0m\u001b[0;32mFalse\u001b[0m\u001b[0;34m,\u001b[0m\u001b[0;34m\u001b[0m\u001b[0;34m\u001b[0m\u001b[0m\n\u001b[0m\u001b[1;32m    798\u001b[0m                     )\n\u001b[1;32m    799\u001b[0m                 ]\n",
      "\u001b[0;32m/anaconda3/lib/python3.6/site-packages/nltk/internals.py\u001b[0m in \u001b[0;36mfind_binary\u001b[0;34m(name, path_to_bin, env_vars, searchpath, binary_names, url, verbose)\u001b[0m\n\u001b[1;32m    694\u001b[0m     return next(\n\u001b[1;32m    695\u001b[0m         find_binary_iter(\n\u001b[0;32m--> 696\u001b[0;31m             \u001b[0mname\u001b[0m\u001b[0;34m,\u001b[0m \u001b[0mpath_to_bin\u001b[0m\u001b[0;34m,\u001b[0m \u001b[0menv_vars\u001b[0m\u001b[0;34m,\u001b[0m \u001b[0msearchpath\u001b[0m\u001b[0;34m,\u001b[0m \u001b[0mbinary_names\u001b[0m\u001b[0;34m,\u001b[0m \u001b[0murl\u001b[0m\u001b[0;34m,\u001b[0m \u001b[0mverbose\u001b[0m\u001b[0;34m\u001b[0m\u001b[0;34m\u001b[0m\u001b[0m\n\u001b[0m\u001b[1;32m    697\u001b[0m         )\n\u001b[1;32m    698\u001b[0m     )\n",
      "\u001b[0;32m/anaconda3/lib/python3.6/site-packages/nltk/internals.py\u001b[0m in \u001b[0;36mfind_binary_iter\u001b[0;34m(name, path_to_bin, env_vars, searchpath, binary_names, url, verbose)\u001b[0m\n\u001b[1;32m    678\u001b[0m     \"\"\"\n\u001b[1;32m    679\u001b[0m     for file in find_file_iter(\n\u001b[0;32m--> 680\u001b[0;31m         \u001b[0mpath_to_bin\u001b[0m \u001b[0;32mor\u001b[0m \u001b[0mname\u001b[0m\u001b[0;34m,\u001b[0m \u001b[0menv_vars\u001b[0m\u001b[0;34m,\u001b[0m \u001b[0msearchpath\u001b[0m\u001b[0;34m,\u001b[0m \u001b[0mbinary_names\u001b[0m\u001b[0;34m,\u001b[0m \u001b[0murl\u001b[0m\u001b[0;34m,\u001b[0m \u001b[0mverbose\u001b[0m\u001b[0;34m\u001b[0m\u001b[0;34m\u001b[0m\u001b[0m\n\u001b[0m\u001b[1;32m    681\u001b[0m     ):\n\u001b[1;32m    682\u001b[0m         \u001b[0;32myield\u001b[0m \u001b[0mfile\u001b[0m\u001b[0;34m\u001b[0m\u001b[0;34m\u001b[0m\u001b[0m\n",
      "\u001b[0;32m/anaconda3/lib/python3.6/site-packages/nltk/internals.py\u001b[0m in \u001b[0;36mfind_file_iter\u001b[0;34m(filename, env_vars, searchpath, file_names, url, verbose, finding_dir)\u001b[0m\n\u001b[1;32m    636\u001b[0m             \u001b[0mmsg\u001b[0m \u001b[0;34m+=\u001b[0m \u001b[0;34m'\\n\\n  For more information on %s, see:\\n    <%s>'\u001b[0m \u001b[0;34m%\u001b[0m \u001b[0;34m(\u001b[0m\u001b[0mfilename\u001b[0m\u001b[0;34m,\u001b[0m \u001b[0murl\u001b[0m\u001b[0;34m)\u001b[0m\u001b[0;34m\u001b[0m\u001b[0;34m\u001b[0m\u001b[0m\n\u001b[1;32m    637\u001b[0m         \u001b[0mdiv\u001b[0m \u001b[0;34m=\u001b[0m \u001b[0;34m'='\u001b[0m \u001b[0;34m*\u001b[0m \u001b[0;36m75\u001b[0m\u001b[0;34m\u001b[0m\u001b[0;34m\u001b[0m\u001b[0m\n\u001b[0;32m--> 638\u001b[0;31m         \u001b[0;32mraise\u001b[0m \u001b[0mLookupError\u001b[0m\u001b[0;34m(\u001b[0m\u001b[0;34m'\\n\\n%s\\n%s\\n%s'\u001b[0m \u001b[0;34m%\u001b[0m \u001b[0;34m(\u001b[0m\u001b[0mdiv\u001b[0m\u001b[0;34m,\u001b[0m \u001b[0mmsg\u001b[0m\u001b[0;34m,\u001b[0m \u001b[0mdiv\u001b[0m\u001b[0;34m)\u001b[0m\u001b[0;34m)\u001b[0m\u001b[0;34m\u001b[0m\u001b[0;34m\u001b[0m\u001b[0m\n\u001b[0m\u001b[1;32m    639\u001b[0m \u001b[0;34m\u001b[0m\u001b[0m\n\u001b[1;32m    640\u001b[0m \u001b[0;34m\u001b[0m\u001b[0m\n",
      "\u001b[0;31mLookupError\u001b[0m: \n\n===========================================================================\nNLTK was unable to find the gs file!\nUse software specific configuration paramaters or set the PATH environment variable.\n==========================================================================="
     ]
    },
    {
     "data": {
      "text/plain": [
       "Tree('S', [Tree('PERSON', [('Yulia', 'NNS')]), ('joined', 'VBD'), Tree('ORGANIZATION', [('Udacity', 'NNP'), ('Inc.', 'NNP')]), ('in', 'IN'), Tree('GPE', [('California', 'NNP')]), ('.', '.')])"
      ]
     },
     "execution_count": 16,
     "metadata": {},
     "output_type": "execute_result"
    }
   ],
   "source": [
    "import nltk\n",
    "from nltk import pos_tag, ne_chunk\n",
    "from nltk.tokenize import word_tokenize\n",
    "nltk.download('maxent_ne_chunker')\n",
    "nltk.download('words')\n",
    "nltk.download('punkt')\n",
    "# Recognize named entities in a tagged sentence\n",
    "ne_chunk(pos_tag(word_tokenize('Yulia joined Udacity Inc. in California.')))"
   ]
  },
  {
   "cell_type": "markdown",
   "metadata": {},
   "source": [
    "## Stemming & Lemmatization\n",
    "\n",
    "### Stemming"
   ]
  },
  {
   "cell_type": "code",
   "execution_count": 17,
   "metadata": {},
   "outputs": [
    {
     "name": "stdout",
     "output_type": "stream",
     "text": [
      "['first', 'time', 'see', 'second', 'renaiss', 'may', 'look', 'bore', 'look', 'least', 'twice', 'definit', 'watch', 'part', '2', 'chang', 'view', 'matrix', 'human', 'peopl', 'one', 'start', 'war', 'ai', 'bad', 'thing']\n"
     ]
    }
   ],
   "source": [
    "from nltk.stem.porter import PorterStemmer\n",
    "\n",
    "# Reduce words to their stems\n",
    "stemmed = [PorterStemmer().stem(w) for w in words]\n",
    "print(stemmed)"
   ]
  },
  {
   "cell_type": "markdown",
   "metadata": {},
   "source": [
    "### Lemmatization"
   ]
  },
  {
   "cell_type": "code",
   "execution_count": 18,
   "metadata": {},
   "outputs": [
    {
     "name": "stdout",
     "output_type": "stream",
     "text": [
      "['first', 'time', 'see', 'second', 'renaissance', 'may', 'look', 'boring', 'look', 'least', 'twice', 'definitely', 'watch', 'part', '2', 'change', 'view', 'matrix', 'human', 'people', 'one', 'started', 'war', 'ai', 'bad', 'thing']\n"
     ]
    }
   ],
   "source": [
    "from nltk.stem.wordnet import WordNetLemmatizer\n",
    "\n",
    "# Reduce words to their root form\n",
    "lemmed = [WordNetLemmatizer().lemmatize(w) for w in words]\n",
    "print(lemmed)"
   ]
  },
  {
   "cell_type": "code",
   "execution_count": 19,
   "metadata": {},
   "outputs": [
    {
     "name": "stdout",
     "output_type": "stream",
     "text": [
      "['first', 'time', 'see', 'second', 'renaissance', 'may', 'look', 'boring', 'look', 'least', 'twice', 'definitely', 'watch', 'part', '2', 'change', 'view', 'matrix', 'human', 'people', 'one', 'started', 'war', 'ai', 'bad', 'thing']\n"
     ]
    }
   ],
   "source": [
    "lemmed_verb = [WordNetLemmatizer().lemmatize(w, pos='v') for w in words]\n",
    "print(lemmed)"
   ]
  },
  {
   "cell_type": "code",
   "execution_count": 45,
   "metadata": {},
   "outputs": [
    {
     "name": "stdout",
     "output_type": "stream",
     "text": [
      "['first', 'time', 'see', 'second', 'renaissance', 'may', 'look', 'bore', 'look', 'least', 'twice', 'definitely', 'watch', 'part', '2', 'change', 'view', 'matrix', 'human', 'people', 'one', 'start', 'war', 'ai', 'bad', 'thing']\n"
     ]
    }
   ],
   "source": [
    "# Lemmatize verbs by specifying pos\n",
    "lemmed = [WordNetLemmatizer().lemmatize(w, pos='v') for w in lemmed]\n",
    "print(lemmed)"
   ]
  },
  {
   "cell_type": "code",
   "execution_count": 47,
   "metadata": {},
   "outputs": [],
   "source": [
    "# Copying lines from a lecture\n",
    "r = requests.get(\"https://www.udacity.com/courses/all\")\n",
    "# You don't want to print it out. Really\n",
    "# print(r.text)"
   ]
  },
  {
   "cell_type": "code",
   "execution_count": 49,
   "metadata": {},
   "outputs": [],
   "source": [
    "# Skipped comparing with other methods, they don't work anyway\n",
    "soup = BeautifulSoup(r.text, 'html5')\n",
    "# You don't want it either. Leaves all the Java-script and spaces\n",
    "# print(soup.get_text())"
   ]
  },
  {
   "cell_type": "code",
   "execution_count": 52,
   "metadata": {},
   "outputs": [
    {
     "data": {
      "text/plain": [
       "<div _ngcontent-sc272=\"\" class=\"course-summary-card row row-gap-medium catalog-card nanodegree-card ng-star-inserted\"><ir-catalog-card _ngcontent-sc272=\"\" _nghost-sc275=\"\"><div _ngcontent-sc275=\"\" class=\"card-wrapper is-collapsed\"><div _ngcontent-sc275=\"\" class=\"card__inner card mb-0\"><div _ngcontent-sc275=\"\" class=\"card__inner--upper\"><div _ngcontent-sc275=\"\" class=\"image_wrapper hidden-md-down\"><a _ngcontent-sc275=\"\" href=\"/course/data-engineer-nanodegree--nd027\"><!----><div _ngcontent-sc275=\"\" class=\"image-container ng-star-inserted\" style=\"background-image:url(https://d20vrrgs8k4bvw.cloudfront.net/images/degrees/nd027/nd-card.jpg);\"><div _ngcontent-sc275=\"\" class=\"image-overlay\"></div></div></a><!----></div><div _ngcontent-sc275=\"\" class=\"card-content\"><!----><span _ngcontent-sc275=\"\" class=\"tag tag--new card ng-star-inserted\">New</span><!----><div _ngcontent-sc275=\"\" class=\"category-wrapper\"><span _ngcontent-sc275=\"\" class=\"mobile-icon\"></span><!----><h4 _ngcontent-sc275=\"\" class=\"category ng-star-inserted\"> School of Data Science </h4></div><h3 _ngcontent-sc275=\"\" class=\"card-heading\"><a _ngcontent-sc275=\"\" class=\"capitalize\" href=\"/course/data-engineer-nanodegree--nd027\">Data Engineer</a></h3><div _ngcontent-sc275=\"\" class=\"right-sub\"><!----><div _ngcontent-sc275=\"\" class=\"skills ng-star-inserted\"><h4 _ngcontent-sc275=\"\">Skills Covered</h4><span _ngcontent-sc275=\"\" class=\"truncate-content\"><!----><span _ngcontent-sc275=\"\" class=\"ng-star-inserted\">Data Modeling, </span><span _ngcontent-sc275=\"\" class=\"ng-star-inserted\">Data Pipelines, </span><span _ngcontent-sc275=\"\" class=\"ng-star-inserted\">Data Lakes, </span><span _ngcontent-sc275=\"\" class=\"ng-star-inserted\">Spark, </span><span _ngcontent-sc275=\"\" class=\"ng-star-inserted\">Airflow</span></span></div><!----><div _ngcontent-sc275=\"\" class=\"hidden-md-up level\"><span _ngcontent-sc275=\"\" class=\"course-level course-level-intermediate\" classname=\"course-level course-level-intermediate\"></span><span _ngcontent-sc275=\"\" class=\"capitalize\">intermediate</span></div></div></div></div><div _ngcontent-sc275=\"\" class=\"card__inner--lower hidden-sm-down\"><div _ngcontent-sc275=\"\" class=\"left uppercase blue expander pointer\"><!----><span _ngcontent-sc275=\"\" class=\"ng-star-inserted\">Nanodegree Details</span><!----></div><div _ngcontent-sc275=\"\" class=\"right\"><!----><span _ngcontent-sc275=\"\" class=\"caption text-right level ng-star-inserted\"><span _ngcontent-sc275=\"\" class=\"course-level course-level-intermediate\" classname=\"course-level course-level-intermediate\"></span><span _ngcontent-sc275=\"\" class=\"capitalize\">intermediate</span></span></div></div></div><div _ngcontent-sc275=\"\" class=\"card__expander\"><div _ngcontent-sc275=\"\" class=\"card__expander--summary mb-1\"><!----><span _ngcontent-sc275=\"\" class=\"ng-star-inserted\">Data Engineering is the foundation for the new world of Big Data. Enroll now to build production-ready data infrastructure, an essential skill for advancing your data career.</span></div><hr _ngcontent-sc275=\"\"/><div _ngcontent-sc275=\"\" class=\"card__expander--details\"><div _ngcontent-sc275=\"\" class=\"rating\"><!----></div><a _ngcontent-sc275=\"\" class=\"button--primary btn\" href=\"/course/data-engineer-nanodegree--nd027\">Learn More</a></div></div></div></ir-catalog-card></div>"
      ]
     },
     "execution_count": 52,
     "metadata": {},
     "output_type": "execute_result"
    }
   ],
   "source": [
    "# Inspect or view page source\n",
    "# find all course summaries\n",
    "div_summaries= soup.find_all(\"div\", class_=\"course-summary-card\")\n",
    "div_summaries[0]"
   ]
  },
  {
   "cell_type": "code",
   "execution_count": 54,
   "metadata": {},
   "outputs": [
    {
     "data": {
      "text/plain": [
       "<a _ngcontent-sc275=\"\" class=\"capitalize\" href=\"/course/data-engineer-nanodegree--nd027\">Data Engineer</a>"
      ]
     },
     "execution_count": 54,
     "metadata": {},
     "output_type": "execute_result"
    }
   ],
   "source": [
    "# Using CSS selector, finds only the first tag that matches a selector\n",
    "div_summaries[0].select_one(\"h3 a\")"
   ]
  },
  {
   "cell_type": "code",
   "execution_count": 56,
   "metadata": {},
   "outputs": [
    {
     "data": {
      "text/plain": [
       "'Data Engineer'"
      ]
     },
     "execution_count": 56,
     "metadata": {},
     "output_type": "execute_result"
    }
   ],
   "source": [
    "# Extract title and strip extra white space\n",
    "div_summaries[0].select_one(\"h3 a\").get_text()"
   ]
  },
  {
   "cell_type": "code",
   "execution_count": 57,
   "metadata": {},
   "outputs": [
    {
     "data": {
      "text/plain": [
       "'Data Engineer'"
      ]
     },
     "execution_count": 57,
     "metadata": {},
     "output_type": "execute_result"
    }
   ],
   "source": [
    "div_summaries[0].select_one(\"h3 a\").get_text().strip()"
   ]
  },
  {
   "cell_type": "code",
   "execution_count": 76,
   "metadata": {},
   "outputs": [
    {
     "data": {
      "text/plain": [
       "<div _ngcontent-sc275=\"\" class=\"card__expander\"><div _ngcontent-sc275=\"\" class=\"card__expander--summary mb-1\"><!----><span _ngcontent-sc275=\"\" class=\"ng-star-inserted\">Data Engineering is the foundation for the new world of Big Data. Enroll now to build production-ready data infrastructure, an essential skill for advancing your data career.</span></div><hr _ngcontent-sc275=\"\"/><div _ngcontent-sc275=\"\" class=\"card__expander--details\"><div _ngcontent-sc275=\"\" class=\"rating\"><!----></div><a _ngcontent-sc275=\"\" class=\"button--primary btn\" href=\"/course/data-engineer-nanodegree--nd027\">Learn More</a></div></div>"
      ]
     },
     "execution_count": 76,
     "metadata": {},
     "output_type": "execute_result"
    }
   ],
   "source": [
    "# Extract description\n",
    "div_summaries[0].select_one(\"div.card__expander\")"
   ]
  },
  {
   "cell_type": "code",
   "execution_count": 77,
   "metadata": {},
   "outputs": [
    {
     "data": {
      "text/plain": [
       "'Data Engineering is the foundation for the new world of Big Data. Enroll now to build production-ready data infrastructure, an essential skill for advancing your data career.Learn More'"
      ]
     },
     "execution_count": 77,
     "metadata": {},
     "output_type": "execute_result"
    }
   ],
   "source": [
    "#That was weird, but anyway\n",
    "div_summaries[0].select_one(\"div.card__expander\").get_text()"
   ]
  },
  {
   "cell_type": "code",
   "execution_count": 81,
   "metadata": {},
   "outputs": [
    {
     "name": "stdout",
     "output_type": "stream",
     "text": [
      "233 Courses summaries found. Sample:\n",
      "Data Engineer\n",
      "Data Engineering is the foundation for the new world of Big Data. Enroll now to build production-ready data infrastructure, an essential skill for advancing your data career.Learn More\n"
     ]
    }
   ],
   "source": [
    "#Find all course summaries, Extract name and description\n",
    "courses = []\n",
    "div_summaries = soup.find_all(\"div\", class_=\"course-summary-card\")\n",
    "for summary in div_summaries:\n",
    "    title = summary.select_one(\"h3 a\").get_text().strip()\n",
    "    description = summary.select_one(\"div.card__expander\").get_text().strip()\n",
    "#     print('***', title, '***')\n",
    "#     print(description)\n",
    "    courses.append((title, description))\n",
    "    \n",
    "print(len(courses), \"Courses summaries found. Sample:\")\n",
    "print(courses[0][0])\n",
    "print(courses[0][1])"
   ]
  },
  {
   "cell_type": "markdown",
   "metadata": {},
   "source": [
    "# Part-of-Speech Tagging\n",
    "\n",
    "Note: Part-of-speech tagging using a predefined grammar like this is a simple, but limited solution. It can be very tedious and error-prone for a large corpus of text, since you have to account for all possible sentence structures and tags!\n",
    "\n",
    "There are other more advanced forms of POS tagging that can learn sentence structures and tags from given data, including Hidden Markov Models (HMMs) and Recurrent Neural Networks (RNNs)."
   ]
  },
  {
   "cell_type": "code",
   "execution_count": 84,
   "metadata": {},
   "outputs": [
    {
     "name": "stderr",
     "output_type": "stream",
     "text": [
      "[nltk_data] Downloading package averaged_perceptron_tagger to\n",
      "[nltk_data]     /Users/yudzhi/nltk_data...\n",
      "[nltk_data]   Unzipping taggers/averaged_perceptron_tagger.zip.\n"
     ]
    },
    {
     "data": {
      "text/plain": [
       "[('I', 'PRP'),\n",
       " ('always', 'RB'),\n",
       " ('lie', 'VBP'),\n",
       " ('down', 'RP'),\n",
       " ('to', 'TO'),\n",
       " ('tell', 'VB'),\n",
       " ('a', 'DT'),\n",
       " ('lie', 'NN'),\n",
       " ('.', '.')]"
      ]
     },
     "execution_count": 84,
     "metadata": {},
     "output_type": "execute_result"
    }
   ],
   "source": [
    "from nltk import pos_tag\n",
    "# Tag part of speech (PoS)\n",
    "sentence = word_tokenize('I always lie down to tell a lie.')\n",
    "nltk.download('averaged_perceptron_tagger')\n",
    "pos_tag(sentence)"
   ]
  },
  {
   "cell_type": "code",
   "execution_count": null,
   "metadata": {},
   "outputs": [],
   "source": []
  }
 ],
 "metadata": {
  "kernelspec": {
   "display_name": "Python [conda env:anaconda3]",
   "language": "python",
   "name": "conda-env-anaconda3-py"
  },
  "language_info": {
   "codemirror_mode": {
    "name": "ipython",
    "version": 3
   },
   "file_extension": ".py",
   "mimetype": "text/x-python",
   "name": "python",
   "nbconvert_exporter": "python",
   "pygments_lexer": "ipython3",
   "version": "3.6.8"
  }
 },
 "nbformat": 4,
 "nbformat_minor": 2
}
