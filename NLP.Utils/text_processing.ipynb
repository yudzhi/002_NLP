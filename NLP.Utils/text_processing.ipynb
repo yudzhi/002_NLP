{
 "cells": [
  {
   "cell_type": "markdown",
   "metadata": {},
   "source": [
    "# Text Processing\n",
    "\n",
    "## Capturing Text Data\n",
    "\n",
    "### Plain Text"
   ]
  },
  {
   "cell_type": "code",
   "execution_count": 4,
   "metadata": {},
   "outputs": [
    {
     "name": "stdout",
     "output_type": "stream",
     "text": [
      "Hieroglyphic writing dates from c. 3000 BC, and is composed of hundreds of symbols. A hieroglyph can represent a word, a sound, or a silent determinative; and the same symbol can serve different purposes in different contexts. Hieroglyphs were a formal script, used on stone monuments and in tombs, that could be as detailed as individual works of art.\n",
      "\n"
     ]
    }
   ],
   "source": [
    "import os\n",
    "\n",
    "# Read in a plain text file\n",
    "with open(os.path.join(\"data\", \"hieroglyph.txt\"), \"r\") as f:\n",
    "    text = f.read()\n",
    "    print(text)"
   ]
  },
  {
   "cell_type": "markdown",
   "metadata": {},
   "source": [
    "### Tabular Data"
   ]
  },
  {
   "cell_type": "code",
   "execution_count": 5,
   "metadata": {
    "scrolled": true
   },
   "outputs": [
    {
     "data": {
      "text/html": [
       "<div>\n",
       "<style>\n",
       "    .dataframe thead tr:only-child th {\n",
       "        text-align: right;\n",
       "    }\n",
       "\n",
       "    .dataframe thead th {\n",
       "        text-align: left;\n",
       "    }\n",
       "\n",
       "    .dataframe tbody tr th {\n",
       "        vertical-align: top;\n",
       "    }\n",
       "</style>\n",
       "<table border=\"1\" class=\"dataframe\">\n",
       "  <thead>\n",
       "    <tr style=\"text-align: right;\">\n",
       "      <th></th>\n",
       "      <th>publisher</th>\n",
       "      <th>title</th>\n",
       "    </tr>\n",
       "  </thead>\n",
       "  <tbody>\n",
       "    <tr>\n",
       "      <th>0</th>\n",
       "      <td>Livemint</td>\n",
       "      <td>fed's charles plosser sees high bar for change...</td>\n",
       "    </tr>\n",
       "    <tr>\n",
       "      <th>1</th>\n",
       "      <td>IFA Magazine</td>\n",
       "      <td>us open: stocks fall after fed official hints ...</td>\n",
       "    </tr>\n",
       "    <tr>\n",
       "      <th>2</th>\n",
       "      <td>IFA Magazine</td>\n",
       "      <td>fed risks falling 'behind the curve', charles ...</td>\n",
       "    </tr>\n",
       "    <tr>\n",
       "      <th>3</th>\n",
       "      <td>Moneynews</td>\n",
       "      <td>fed's plosser: nasty weather has curbed job gr...</td>\n",
       "    </tr>\n",
       "    <tr>\n",
       "      <th>4</th>\n",
       "      <td>NASDAQ</td>\n",
       "      <td>plosser: fed may have to accelerate tapering pace</td>\n",
       "    </tr>\n",
       "  </tbody>\n",
       "</table>\n",
       "</div>"
      ],
      "text/plain": [
       "      publisher                                              title\n",
       "0      Livemint  fed's charles plosser sees high bar for change...\n",
       "1  IFA Magazine  us open: stocks fall after fed official hints ...\n",
       "2  IFA Magazine  fed risks falling 'behind the curve', charles ...\n",
       "3     Moneynews  fed's plosser: nasty weather has curbed job gr...\n",
       "4        NASDAQ  plosser: fed may have to accelerate tapering pace"
      ]
     },
     "execution_count": 5,
     "metadata": {},
     "output_type": "execute_result"
    }
   ],
   "source": [
    "import pandas as pd\n",
    "\n",
    "# Extract text column from a dataframe\n",
    "df = pd.read_csv(os.path.join(\"data\", \"news.csv\"))\n",
    "df.head()[['publisher', 'title']]\n",
    "\n",
    "# Convert text column to lowercase\n",
    "df['title'] = df['title'].str.lower()\n",
    "df.head()[['publisher', 'title']]"
   ]
  },
  {
   "cell_type": "markdown",
   "metadata": {},
   "source": [
    "### Online Resource"
   ]
  },
  {
   "cell_type": "code",
   "execution_count": 6,
   "metadata": {
    "scrolled": true
   },
   "outputs": [
    {
     "name": "stdout",
     "output_type": "stream",
     "text": [
      "{\n",
      "    \"success\": {\n",
      "        \"total\": 1\n",
      "    },\n",
      "    \"contents\": {\n",
      "        \"quotes\": [\n",
      "            {\n",
      "                \"quote\": \"If you can consciously let yourself get taken and see where you go, that's an exercise. That's discipline. To follow the scent. Let yourself go and see what happens, that takes a bit of courage.\",\n",
      "                \"author\": \"Bill Murray\",\n",
      "                \"length\": \"194\",\n",
      "                \"tags\": [\n",
      "                    \"dicipline\",\n",
      "                    \"inspire\"\n",
      "                ],\n",
      "                \"category\": \"inspire\",\n",
      "                \"title\": \"Inspiring Quote of the day\",\n",
      "                \"date\": \"2019-02-27\",\n",
      "                \"id\": null\n",
      "            }\n",
      "        ],\n",
      "        \"copyright\": \"2017-19 theysaidso.com\"\n",
      "    }\n",
      "}\n",
      "If you can consciously let yourself get taken and see where you go, that's an exercise. That's discipline. To follow the scent. Let yourself go and see what happens, that takes a bit of courage. \n",
      "-- Bill Murray\n"
     ]
    }
   ],
   "source": [
    "import requests\n",
    "import json\n",
    "\n",
    "# Fetch data from a REST API\n",
    "r = requests.get(\n",
    "    \"https://quotes.rest/qod.json\")\n",
    "res = r.json()\n",
    "print(json.dumps(res, indent=4))\n",
    "\n",
    "# Extract relevant object and field\n",
    "q = res[\"contents\"][\"quotes\"][0]\n",
    "print(q[\"quote\"], \"\\n--\", q[\"author\"])"
   ]
  },
  {
   "cell_type": "markdown",
   "metadata": {},
   "source": [
    "## Cleaning"
   ]
  },
  {
   "cell_type": "code",
   "execution_count": 7,
   "metadata": {
    "scrolled": true
   },
   "outputs": [
    {
     "name": "stdout",
     "output_type": "stream",
     "text": [
      "<html op=\"news\"><head><meta name=\"referrer\" content=\"origin\"><meta name=\"viewport\" content=\"width=device-width, initial-scale=1.0\"><link rel=\"stylesheet\" type=\"text/css\" href=\"news.css?bMmY7mEul72ASfiDZSEa\">\n",
      "            <link rel=\"shortcut icon\" href=\"favicon.ico\">\n",
      "          <link rel=\"alternate\" type=\"application/rss+xml\" title=\"RSS\" href=\"rss\">\n",
      "        <title>Hacker News</title></head><body><center><table id=\"hnmain\" border=\"0\" cellpadding=\"0\" cellspacing=\"0\" width=\"85%\" bgcolor=\"#f6f6ef\">\n",
      "        <tr><td bgcolor=\"#ff6600\"><table border=\"0\" cellpadding=\"0\" cellspacing=\"0\" width=\"100%\" style=\"padding:2px\"><tr><td style=\"width:18px;padding-right:4px\"><a href=\"https://news.ycombinator.com\"><img src=\"y18.gif\" width=\"18\" height=\"18\" style=\"border:1px white solid;\"></a></td>\n",
      "                  <td style=\"line-height:12pt; height:10px;\"><span class=\"pagetop\"><b class=\"hnname\"><a href=\"news\">Hacker News</a></b>\n",
      "              <a href=\"newest\">new</a> | <a href=\"front\">past</a> | <a href=\"newcomments\">comments</a> | <a href=\"ask\">ask</a> | <a href=\"show\">show</a> | <a href=\"jobs\">jobs</a> | <a href=\"submit\">submit</a>            </span></td><td style=\"text-align:right;padding-right:4px;\"><span class=\"pagetop\">\n",
      "                              <a href=\"login?goto=news\">login</a>\n",
      "                          </span></td>\n",
      "              </tr></table></td></tr>\n",
      "<tr id=\"pagespace\" title=\"\" style=\"height:10px\"></tr><tr><td><table border=\"0\" cellpadding=\"0\" cellspacing=\"0\" class=\"itemlist\">\n",
      "              <tr class='athing' id='19260306'>\n",
      "      <td align=\"right\" valign=\"top\" class=\"title\"><span class=\"rank\">1.</span></td>      <td valign=\"top\" class=\"votelinks\"><center><a id='up_19260306' href='vote?id=19260306&amp;how=up&amp;goto=news'><div class='votearrow' title='upvote'></div></a></center></td><td class=\"title\"><a href=\"https://redislabs.com/blog/redis-turns-10/\" class=\"storylink\">Redis Turns 10 – How it started with a single post on Hacker News</a><span class=\"sitebit comhead\"> (<a href=\"from?site=redislabs.com\"><span class=\"sitestr\">redislabs.com</span></a>)</span></td></tr><tr><td colspan=\"2\"></td><td class=\"subtext\">\n",
      "        <span class=\"score\" id=\"score_19260306\">571 points</span> by <a href=\"user?id=mrburton\" class=\"hnuser\">mrburton</a> <span class=\"age\"><a href=\"item?id=19260306\">11 hours ago</a></span> <span id=\"unv_19260306\"></span> | <a href=\"hide?id=19260306&amp;goto=news\">hide</a> | <a href=\"item?id=19260306\">140&nbsp;comments</a>              </td></tr>\n",
      "      <tr class=\"spacer\" style=\"height:5px\"></tr>\n",
      "                <tr class='athing' id='19261324'>\n",
      "      <td align=\"right\" valign=\"top\" class=\"title\"><span class=\"rank\">2.</span></td>      <td valign=\"top\" class=\"votelinks\"><center><a id='up_19261324' href='vote?id=19261324&amp;how=up&amp;goto=news'><div class='votearrow' title='upvote'></div></a></center></td><td class=\"title\"><a href=\"https://k3s.io\" class=\"storylink\">K3s – Lightweight Kubernetes</a><span class=\"sitebit comhead\"> (<a href=\"from?site=k3s.io\"><span class=\"sitestr\">k3s.io</span></a>)</span></td></tr><tr><td colspan=\"2\"></td><td class=\"subtext\">\n",
      "        <span class=\"score\" id=\"score_19261324\">244 points</span> by <a href=\"user?id=kadel\" class=\"hnuser\">kadel</a> <span class=\"age\"><a href=\"item?id=19261324\">7 hours ago</a></span> <span id=\"unv_19261324\"></span> | <a href=\"hide?id=19261324&amp;goto=news\">hide</a> | <a href=\"item?id=19261324\">97&nbsp;comments</a>              </td></tr>\n",
      "      <tr class=\"spacer\" style=\"height:5px\"></tr>\n",
      "                <tr class='athing' id='19249373'>\n",
      "      <td align=\"right\" valign=\"top\" class=\"title\"><span class=\"rank\">3.</span></td>      <td valign=\"top\" class=\"votelinks\"><center><a id='up_19249373' href='vote?id=19249373&amp;how=up&amp;goto=news'><div class='votearrow' title='upvote'></div></a></center></td><td class=\"title\"><a href=\"https://worldwideweb.cern.ch/\" class=\"storylink\">CERN 2019 WorldWideWeb Rebuild</a><span class=\"sitebit comhead\"> (<a href=\"from?site=cern.ch\"><span class=\"sitestr\">cern.ch</span></a>)</span></td></tr><tr><td colspan=\"2\"></td><td class=\"subtext\">\n",
      "        <span class=\"score\" id=\"score_19249373\">59 points</span> by <a href=\"user?id=lelf\" class=\"hnuser\">lelf</a> <span class=\"age\"><a href=\"item?id=19249373\">4 hours ago</a></span> <span id=\"unv_19249373\"></span> | <a href=\"hide?id=19249373&amp;goto=news\">hide</a> | <a href=\"item?id=19249373\">10&nbsp;comments</a>              </td></tr>\n",
      "      <tr class=\"spacer\" style=\"height:5px\"></tr>\n",
      "                <tr class='athing' id='19262529'>\n",
      "      <td align=\"right\" valign=\"top\" class=\"title\"><span class=\"rank\">4.</span></td>      <td valign=\"top\" class=\"votelinks\"><center><a id='up_19262529' href='vote?id=19262529&amp;how=up&amp;goto=news'><div class='votearrow' title='upvote'></div></a></center></td><td class=\"title\"><a href=\"http://www.p01.org/defender_of_the_favicon/\" class=\"storylink\">Defender of the Favicon (2008)</a><span class=\"sitebit comhead\"> (<a href=\"from?site=p01.org\"><span class=\"sitestr\">p01.org</span></a>)</span></td></tr><tr><td colspan=\"2\"></td><td class=\"subtext\">\n",
      "        <span class=\"score\" id=\"score_19262529\">26 points</span> by <a href=\"user?id=pplonski86\" class=\"hnuser\">pplonski86</a> <span class=\"age\"><a href=\"item?id=19262529\">2 hours ago</a></span> <span id=\"unv_19262529\"></span> | <a href=\"hide?id=19262529&amp;goto=news\">hide</a> | <a href=\"item?id=19262529\">9&nbsp;comments</a>              </td></tr>\n",
      "      <tr class=\"spacer\" style=\"height:5px\"></tr>\n",
      "                <tr class='athing' id='19262693'>\n",
      "      <td align=\"right\" valign=\"top\" class=\"title\"><span class=\"rank\">5.</span></td>      <td valign=\"top\" class=\"votelinks\"><center><a id='up_19262693' href='vote?id=19262693&amp;how=up&amp;goto=news'><div class='votearrow' title='upvote'></div></a></center></td><td class=\"title\"><a href=\"https://www.confluent.io/blog/noise-mapping-ksql-raspberry-pi-software-defined-radio\" class=\"storylink\">Noise Mapping with KSQL, a Raspberry Pi and a Software-Defined Radio</a><span class=\"sitebit comhead\"> (<a href=\"from?site=confluent.io\"><span class=\"sitestr\">confluent.io</span></a>)</span></td></tr><tr><td colspan=\"2\"></td><td class=\"subtext\">\n",
      "        <span class=\"score\" id=\"score_19262693\">20 points</span> by <a href=\"user?id=h3throw\" class=\"hnuser\">h3throw</a> <span class=\"age\"><a href=\"item?id=19262693\">1 hour ago</a></span> <span id=\"unv_19262693\"></span> | <a href=\"hide?id=19262693&amp;goto=news\">hide</a> | <a href=\"item?id=19262693\">1&nbsp;comment</a>              </td></tr>\n",
      "      <tr class=\"spacer\" style=\"height:5px\"></tr>\n",
      "                <tr class='athing' id='19260534'>\n",
      "      <td align=\"right\" valign=\"top\" class=\"title\"><span class=\"rank\">6.</span></td>      <td valign=\"top\" class=\"votelinks\"><center><a id='up_19260534' href='vote?id=19260534&amp;how=up&amp;goto=news'><div class='votearrow' title='upvote'></div></a></center></td><td class=\"title\"><a href=\"https://www.goodnewsnetwork.org/nasa-says-earth-is-greener-than-ever-thanks-to-china-and-india/\" class=\"storylink\">Nasa Happily Reports the Earth Is Greener</a><span class=\"sitebit comhead\"> (<a href=\"from?site=goodnewsnetwork.org\"><span class=\"sitestr\">goodnewsnetwork.org</span></a>)</span></td></tr><tr><td colspan=\"2\"></td><td class=\"subtext\">\n",
      "        <span class=\"score\" id=\"score_19260534\">264 points</span> by <a href=\"user?id=ph0rque\" class=\"hnuser\">ph0rque</a> <span class=\"age\"><a href=\"item?id=19260534\">10 hours ago</a></span> <span id=\"unv_19260534\"></span> | <a href=\"hide?id=19260534&amp;goto=news\">hide</a> | <a href=\"item?id=19260534\">99&nbsp;comments</a>              </td></tr>\n",
      "      <tr class=\"spacer\" style=\"height:5px\"></tr>\n",
      "                <tr class='athing' id='19262050'>\n",
      "      <td align=\"right\" valign=\"top\" class=\"title\"><span class=\"rank\">7.</span></td>      <td valign=\"top\" class=\"votelinks\"><center><a id='up_19262050' href='vote?id=19262050&amp;how=up&amp;goto=news'><div class='votearrow' title='upvote'></div></a></center></td><td class=\"title\"><a href=\"https://github.com/cablespaghetti/kubeadm-aws\" class=\"storylink\">Cheap Kubernetes Cluster on AWS with Kubeadm</a><span class=\"sitebit comhead\"> (<a href=\"from?site=github.com\"><span class=\"sitestr\">github.com</span></a>)</span></td></tr><tr><td colspan=\"2\"></td><td class=\"subtext\">\n",
      "        <span class=\"score\" id=\"score_19262050\">57 points</span> by <a href=\"user?id=unkoman\" class=\"hnuser\">unkoman</a> <span class=\"age\"><a href=\"item?id=19262050\">4 hours ago</a></span> <span id=\"unv_19262050\"></span> | <a href=\"hide?id=19262050&amp;goto=news\">hide</a> | <a href=\"item?id=19262050\">6&nbsp;comments</a>              </td></tr>\n",
      "      <tr class=\"spacer\" style=\"height:5px\"></tr>\n",
      "                <tr class='athing' id='19257267'>\n",
      "      <td align=\"right\" valign=\"top\" class=\"title\"><span class=\"rank\">8.</span></td>      <td valign=\"top\" class=\"votelinks\"><center><a id='up_19257267' href='vote?id=19257267&amp;how=up&amp;goto=news'><div class='votearrow' title='upvote'></div></a></center></td><td class=\"title\"><a href=\"http://blog.lareviewofbooks.org/essays/self-publishing-pleased-brief-glimpse-life-small-town-bookseller-writer/\" class=\"storylink\">The Life of a Small-Town Bookseller and Writer</a><span class=\"sitebit comhead\"> (<a href=\"from?site=lareviewofbooks.org\"><span class=\"sitestr\">lareviewofbooks.org</span></a>)</span></td></tr><tr><td colspan=\"2\"></td><td class=\"subtext\">\n",
      "        <span class=\"score\" id=\"score_19257267\">14 points</span> by <a href=\"user?id=jseliger\" class=\"hnuser\">jseliger</a> <span class=\"age\"><a href=\"item?id=19257267\">3 hours ago</a></span> <span id=\"unv_19257267\"></span> | <a href=\"hide?id=19257267&amp;goto=news\">hide</a> | <a href=\"item?id=19257267\">1&nbsp;comment</a>              </td></tr>\n",
      "      <tr class=\"spacer\" style=\"height:5px\"></tr>\n",
      "                <tr class='athing' id='19255215'>\n",
      "      <td align=\"right\" valign=\"top\" class=\"title\"><span class=\"rank\">9.</span></td>      <td valign=\"top\" class=\"votelinks\"><center><a id='up_19255215' href='vote?id=19255215&amp;how=up&amp;goto=news'><div class='votearrow' title='upvote'></div></a></center></td><td class=\"title\"><a href=\"https://www.scientificamerican.com/article/the-entertainer/\" class=\"storylink\">The Entertainer: In Praise of Raymond Smullyan</a><span class=\"sitebit comhead\"> (<a href=\"from?site=scientificamerican.com\"><span class=\"sitestr\">scientificamerican.com</span></a>)</span></td></tr><tr><td colspan=\"2\"></td><td class=\"subtext\">\n",
      "        <span class=\"score\" id=\"score_19255215\">46 points</span> by <a href=\"user?id=headalgorithm\" class=\"hnuser\">headalgorithm</a> <span class=\"age\"><a href=\"item?id=19255215\">6 hours ago</a></span> <span id=\"unv_19255215\"></span> | <a href=\"hide?id=19255215&amp;goto=news\">hide</a> | <a href=\"item?id=19255215\">6&nbsp;comments</a>              </td></tr>\n",
      "      <tr class=\"spacer\" style=\"height:5px\"></tr>\n",
      "                <tr class='athing' id='19260493'>\n",
      "      <td align=\"right\" valign=\"top\" class=\"title\"><span class=\"rank\">10.</span></td>      <td valign=\"top\" class=\"votelinks\"><center><a id='up_19260493' href='vote?id=19260493&amp;how=up&amp;goto=news'><div class='votearrow' title='upvote'></div></a></center></td><td class=\"title\"><a href=\"https://aws.amazon.com/personalize/\" class=\"storylink\">Amazon Personalize: Real-Time Recommendation</a><span class=\"sitebit comhead\"> (<a href=\"from?site=amazon.com\"><span class=\"sitestr\">amazon.com</span></a>)</span></td></tr><tr><td colspan=\"2\"></td><td class=\"subtext\">\n",
      "        <span class=\"score\" id=\"score_19260493\">140 points</span> by <a href=\"user?id=davidjnelson\" class=\"hnuser\">davidjnelson</a> <span class=\"age\"><a href=\"item?id=19260493\">11 hours ago</a></span> <span id=\"unv_19260493\"></span> | <a href=\"hide?id=19260493&amp;goto=news\">hide</a> | <a href=\"item?id=19260493\">79&nbsp;comments</a>              </td></tr>\n",
      "      <tr class=\"spacer\" style=\"height:5px\"></tr>\n",
      "                <tr class='athing' id='19261018'>\n",
      "      <td align=\"right\" valign=\"top\" class=\"title\"><span class=\"rank\">11.</span></td>      <td valign=\"top\" class=\"votelinks\"><center><a id='up_19261018' href='vote?id=19261018&amp;how=up&amp;goto=news'><div class='votearrow' title='upvote'></div></a></center></td><td class=\"title\"><a href=\"https://cpmaker.com\" class=\"storylink\">MakerLisp Machine</a><span class=\"sitebit comhead\"> (<a href=\"from?site=cpmaker.com\"><span class=\"sitestr\">cpmaker.com</span></a>)</span></td></tr><tr><td colspan=\"2\"></td><td class=\"subtext\">\n",
      "        <span class=\"score\" id=\"score_19261018\">49 points</span> by <a href=\"user?id=joubert\" class=\"hnuser\">joubert</a> <span class=\"age\"><a href=\"item?id=19261018\">8 hours ago</a></span> <span id=\"unv_19261018\"></span> | <a href=\"hide?id=19261018&amp;goto=news\">hide</a> | <a href=\"item?id=19261018\">5&nbsp;comments</a>              </td></tr>\n",
      "      <tr class=\"spacer\" style=\"height:5px\"></tr>\n",
      "                <tr class='athing' id='19248594'>\n",
      "      <td align=\"right\" valign=\"top\" class=\"title\"><span class=\"rank\">12.</span></td>      <td valign=\"top\" class=\"votelinks\"><center><a id='up_19248594' href='vote?id=19248594&amp;how=up&amp;goto=news'><div class='votearrow' title='upvote'></div></a></center></td><td class=\"title\"><a href=\"https://mubi.com/notebook/posts/interview-with-fritz-lang-beverley-hills-august-12-1972\" class=\"storylink\">Interview with Fritz Lang, Beverley Hills, August 12, 1972</a><span class=\"sitebit comhead\"> (<a href=\"from?site=mubi.com\"><span class=\"sitestr\">mubi.com</span></a>)</span></td></tr><tr><td colspan=\"2\"></td><td class=\"subtext\">\n",
      "        <span class=\"score\" id=\"score_19248594\">29 points</span> by <a href=\"user?id=benbreen\" class=\"hnuser\">benbreen</a> <span class=\"age\"><a href=\"item?id=19248594\">5 hours ago</a></span> <span id=\"unv_19248594\"></span> | <a href=\"hide?id=19248594&amp;goto=news\">hide</a> | <a href=\"item?id=19248594\">4&nbsp;comments</a>              </td></tr>\n",
      "      <tr class=\"spacer\" style=\"height:5px\"></tr>\n",
      "                <tr class='athing' id='19254318'>\n",
      "      <td align=\"right\" valign=\"top\" class=\"title\"><span class=\"rank\">13.</span></td>      <td valign=\"top\" class=\"votelinks\"><center><a id='up_19254318' href='vote?id=19254318&amp;how=up&amp;goto=news'><div class='votearrow' title='upvote'></div></a></center></td><td class=\"title\"><a href=\"http://darkerview.com/wordpress/?p=25813\" class=\"storylink\">Keeping the Keck Telescopes Running</a><span class=\"sitebit comhead\"> (<a href=\"from?site=darkerview.com\"><span class=\"sitestr\">darkerview.com</span></a>)</span></td></tr><tr><td colspan=\"2\"></td><td class=\"subtext\">\n",
      "        <span class=\"score\" id=\"score_19254318\">40 points</span> by <a href=\"user?id=sohkamyung\" class=\"hnuser\">sohkamyung</a> <span class=\"age\"><a href=\"item?id=19254318\">7 hours ago</a></span> <span id=\"unv_19254318\"></span> | <a href=\"hide?id=19254318&amp;goto=news\">hide</a> | <a href=\"item?id=19254318\">1&nbsp;comment</a>              </td></tr>\n",
      "      <tr class=\"spacer\" style=\"height:5px\"></tr>\n",
      "                <tr class='athing' id='19262998'>\n",
      "      <td align=\"right\" valign=\"top\" class=\"title\"><span class=\"rank\">14.</span></td>      <td valign=\"top\" class=\"votelinks\"><center><a id='up_19262998' href='vote?id=19262998&amp;how=up&amp;goto=news'><div class='votearrow' title='upvote'></div></a></center></td><td class=\"title\"><a href=\"https://www.theguardian.com/cities/2019/feb/21/philadelphia-covanta-incinerator-recyclables-china-ban-imports\" class=\"storylink\">'Moment of reckoning': US cities burn recyclables after China bans imports</a><span class=\"sitebit comhead\"> (<a href=\"from?site=theguardian.com\"><span class=\"sitestr\">theguardian.com</span></a>)</span></td></tr><tr><td colspan=\"2\"></td><td class=\"subtext\">\n",
      "        <span class=\"score\" id=\"score_19262998\">15 points</span> by <a href=\"user?id=chriskanan\" class=\"hnuser\">chriskanan</a> <span class=\"age\"><a href=\"item?id=19262998\">48 minutes ago</a></span> <span id=\"unv_19262998\"></span> | <a href=\"hide?id=19262998&amp;goto=news\">hide</a> | <a href=\"item?id=19262998\">5&nbsp;comments</a>              </td></tr>\n",
      "      <tr class=\"spacer\" style=\"height:5px\"></tr>\n",
      "                <tr class='athing' id='19261080'>\n",
      "      <td align=\"right\" valign=\"top\" class=\"title\"><span class=\"rank\">15.</span></td>      <td valign=\"top\" class=\"votelinks\"><center><a id='up_19261080' href='vote?id=19261080&amp;how=up&amp;goto=news'><div class='votearrow' title='upvote'></div></a></center></td><td class=\"title\"><a href=\"https://github.com/vishaltelangre/ff\" class=\"storylink\">Find Files (Ff) – File Search Utility in Rust</a><span class=\"sitebit comhead\"> (<a href=\"from?site=github.com\"><span class=\"sitestr\">github.com</span></a>)</span></td></tr><tr><td colspan=\"2\"></td><td class=\"subtext\">\n",
      "        <span class=\"score\" id=\"score_19261080\">41 points</span> by <a href=\"user?id=pvsukale3\" class=\"hnuser\">pvsukale3</a> <span class=\"age\"><a href=\"item?id=19261080\">8 hours ago</a></span> <span id=\"unv_19261080\"></span> | <a href=\"hide?id=19261080&amp;goto=news\">hide</a> | <a href=\"item?id=19261080\">38&nbsp;comments</a>              </td></tr>\n",
      "      <tr class=\"spacer\" style=\"height:5px\"></tr>\n",
      "                <tr class='athing' id='19261376'>\n",
      "      <td align=\"right\" valign=\"top\" class=\"title\"><span class=\"rank\">16.</span></td>      <td valign=\"top\" class=\"votelinks\"><center><a id='up_19261376' href='vote?id=19261376&amp;how=up&amp;goto=news'><div class='votearrow' title='upvote'></div></a></center></td><td class=\"title\"><a href=\"https://github.com/follow-github-organisation/follow-github-organisation\" class=\"storylink\">Show HN: Follow GitHub Organisations</a><span class=\"sitebit comhead\"> (<a href=\"from?site=github.com\"><span class=\"sitestr\">github.com</span></a>)</span></td></tr><tr><td colspan=\"2\"></td><td class=\"subtext\">\n",
      "        <span class=\"score\" id=\"score_19261376\">39 points</span> by <a href=\"user?id=amitmerchant\" class=\"hnuser\">amitmerchant</a> <span class=\"age\"><a href=\"item?id=19261376\">7 hours ago</a></span> <span id=\"unv_19261376\"></span> | <a href=\"hide?id=19261376&amp;goto=news\">hide</a> | <a href=\"item?id=19261376\">6&nbsp;comments</a>              </td></tr>\n",
      "      <tr class=\"spacer\" style=\"height:5px\"></tr>\n",
      "                <tr class='athing' id='19253435'>\n",
      "      <td align=\"right\" valign=\"top\" class=\"title\"><span class=\"rank\">17.</span></td>      <td valign=\"top\" class=\"votelinks\"><center><a id='up_19253435' href='vote?id=19253435&amp;how=up&amp;goto=news'><div class='votearrow' title='upvote'></div></a></center></td><td class=\"title\"><a href=\"https://vintageapple.org/macprogramming/pdf/HyperCard_Users_Guide_1987.pdf\" class=\"storylink\">HyperCard Users Guide (1987) [pdf]</a><span class=\"sitebit comhead\"> (<a href=\"from?site=vintageapple.org\"><span class=\"sitestr\">vintageapple.org</span></a>)</span></td></tr><tr><td colspan=\"2\"></td><td class=\"subtext\">\n",
      "        <span class=\"score\" id=\"score_19253435\">69 points</span> by <a href=\"user?id=tablet\" class=\"hnuser\">tablet</a> <span class=\"age\"><a href=\"item?id=19253435\">11 hours ago</a></span> <span id=\"unv_19253435\"></span> | <a href=\"hide?id=19253435&amp;goto=news\">hide</a> | <a href=\"item?id=19253435\">18&nbsp;comments</a>              </td></tr>\n",
      "      <tr class=\"spacer\" style=\"height:5px\"></tr>\n",
      "                <tr class='athing' id='19259364'>\n",
      "      <td align=\"right\" valign=\"top\" class=\"title\"><span class=\"rank\">18.</span></td>      <td valign=\"top\" class=\"votelinks\"><center><a id='up_19259364' href='vote?id=19259364&amp;how=up&amp;goto=news'><div class='votearrow' title='upvote'></div></a></center></td><td class=\"title\"><a href=\"https://www.nature.com/articles/s41467-019-08678-0\" class=\"storylink\">Additively manufacturable micro-mechanical logic gates</a><span class=\"sitebit comhead\"> (<a href=\"from?site=nature.com\"><span class=\"sitestr\">nature.com</span></a>)</span></td></tr><tr><td colspan=\"2\"></td><td class=\"subtext\">\n",
      "        <span class=\"score\" id=\"score_19259364\">108 points</span> by <a href=\"user?id=bobajeff\" class=\"hnuser\">bobajeff</a> <span class=\"age\"><a href=\"item?id=19259364\">14 hours ago</a></span> <span id=\"unv_19259364\"></span> | <a href=\"hide?id=19259364&amp;goto=news\">hide</a> | <a href=\"item?id=19259364\">42&nbsp;comments</a>              </td></tr>\n",
      "      <tr class=\"spacer\" style=\"height:5px\"></tr>\n",
      "                <tr class='athing' id='19252070'>\n",
      "      <td align=\"right\" valign=\"top\" class=\"title\"><span class=\"rank\">19.</span></td>      <td valign=\"top\" class=\"votelinks\"><center><a id='up_19252070' href='vote?id=19252070&amp;how=up&amp;goto=news'><div class='votearrow' title='upvote'></div></a></center></td><td class=\"title\"><a href=\"https://github.com/Luolc/AdaBound\" class=\"storylink\">Show HN: AdaBound, an optimizer that trains as fast as Adam and as good as SGD</a><span class=\"sitebit comhead\"> (<a href=\"from?site=github.com\"><span class=\"sitestr\">github.com</span></a>)</span></td></tr><tr><td colspan=\"2\"></td><td class=\"subtext\">\n",
      "        <span class=\"score\" id=\"score_19252070\">37 points</span> by <a href=\"user?id=Luolc\" class=\"hnuser\">Luolc</a> <span class=\"age\"><a href=\"item?id=19252070\">8 hours ago</a></span> <span id=\"unv_19252070\"></span> | <a href=\"hide?id=19252070&amp;goto=news\">hide</a> | <a href=\"item?id=19252070\">2&nbsp;comments</a>              </td></tr>\n",
      "      <tr class=\"spacer\" style=\"height:5px\"></tr>\n",
      "                <tr class='athing' id='19262561'>\n",
      "      <td align=\"right\" valign=\"top\" class=\"title\"><span class=\"rank\">20.</span></td>      <td></td><td class=\"title\"><a href=\"https://www.tesorio.com/careers/\" class=\"storylink\" rel=\"nofollow\">Tesorio (YC S15) Is Hiring Eng. Managers, Data Scientists, Designers, PMs and More</a><span class=\"sitebit comhead\"> (<a href=\"from?site=tesorio.com\"><span class=\"sitestr\">tesorio.com</span></a>)</span></td></tr><tr><td colspan=\"2\"></td><td class=\"subtext\">\n",
      "        <span class=\"age\"><a href=\"item?id=19262561\">2 hours ago</a></span> | <a href=\"hide?id=19262561&amp;goto=news\">hide</a>      </td></tr>\n",
      "      <tr class=\"spacer\" style=\"height:5px\"></tr>\n",
      "                <tr class='athing' id='19254640'>\n",
      "      <td align=\"right\" valign=\"top\" class=\"title\"><span class=\"rank\">21.</span></td>      <td valign=\"top\" class=\"votelinks\"><center><a id='up_19254640' href='vote?id=19254640&amp;how=up&amp;goto=news'><div class='votearrow' title='upvote'></div></a></center></td><td class=\"title\"><a href=\"https://eprint.iacr.org/2019/180.pdf\" class=\"storylink\">Disco: Modern Session Encryption [pdf]</a><span class=\"sitebit comhead\"> (<a href=\"from?site=iacr.org\"><span class=\"sitestr\">iacr.org</span></a>)</span></td></tr><tr><td colspan=\"2\"></td><td class=\"subtext\">\n",
      "        <span class=\"score\" id=\"score_19254640\">16 points</span> by <a href=\"user?id=lainon\" class=\"hnuser\">lainon</a> <span class=\"age\"><a href=\"item?id=19254640\">4 hours ago</a></span> <span id=\"unv_19254640\"></span> | <a href=\"hide?id=19254640&amp;goto=news\">hide</a> | <a href=\"item?id=19254640\">3&nbsp;comments</a>              </td></tr>\n",
      "      <tr class=\"spacer\" style=\"height:5px\"></tr>\n",
      "                <tr class='athing' id='19256435'>\n",
      "      <td align=\"right\" valign=\"top\" class=\"title\"><span class=\"rank\">22.</span></td>      <td valign=\"top\" class=\"votelinks\"><center><a id='up_19256435' href='vote?id=19256435&amp;how=up&amp;goto=news'><div class='votearrow' title='upvote'></div></a></center></td><td class=\"title\"><a href=\"https://www.usenix.org/system/files/fast19-kourtis.pdf\" class=\"storylink\" rel=\"nofollow\">Reaping the performance of fast NVM storage with uDepot [pdf]</a><span class=\"sitebit comhead\"> (<a href=\"from?site=usenix.org\"><span class=\"sitestr\">usenix.org</span></a>)</span></td></tr><tr><td colspan=\"2\"></td><td class=\"subtext\">\n",
      "        <span class=\"score\" id=\"score_19256435\">3 points</span> by <a href=\"user?id=Rafuino\" class=\"hnuser\">Rafuino</a> <span class=\"age\"><a href=\"item?id=19256435\">2 hours ago</a></span> <span id=\"unv_19256435\"></span> | <a href=\"hide?id=19256435&amp;goto=news\">hide</a> | <a href=\"item?id=19256435\">discuss</a>              </td></tr>\n",
      "      <tr class=\"spacer\" style=\"height:5px\"></tr>\n",
      "                <tr class='athing' id='19258461'>\n",
      "      <td align=\"right\" valign=\"top\" class=\"title\"><span class=\"rank\">23.</span></td>      <td valign=\"top\" class=\"votelinks\"><center><a id='up_19258461' href='vote?id=19258461&amp;how=up&amp;goto=news'><div class='votearrow' title='upvote'></div></a></center></td><td class=\"title\"><a href=\"http://yorke.umd.edu/papers/Li-Yorke%20Period%20Three%20Implies%20Chaos.pdf\" class=\"storylink\">Period Three Implies Chaos (1975) [pdf]</a><span class=\"sitebit comhead\"> (<a href=\"from?site=umd.edu\"><span class=\"sitestr\">umd.edu</span></a>)</span></td></tr><tr><td colspan=\"2\"></td><td class=\"subtext\">\n",
      "        <span class=\"score\" id=\"score_19258461\">32 points</span> by <a href=\"user?id=espeed\" class=\"hnuser\">espeed</a> <span class=\"age\"><a href=\"item?id=19258461\">9 hours ago</a></span> <span id=\"unv_19258461\"></span> | <a href=\"hide?id=19258461&amp;goto=news\">hide</a> | <a href=\"item?id=19258461\">4&nbsp;comments</a>              </td></tr>\n",
      "      <tr class=\"spacer\" style=\"height:5px\"></tr>\n",
      "                <tr class='athing' id='19260903'>\n",
      "      <td align=\"right\" valign=\"top\" class=\"title\"><span class=\"rank\">24.</span></td>      <td valign=\"top\" class=\"votelinks\"><center><a id='up_19260903' href='vote?id=19260903&amp;how=up&amp;goto=news'><div class='votearrow' title='upvote'></div></a></center></td><td class=\"title\"><a href=\"http://mailman.nginx.org/pipermail/nginx-announce/2019/000231.html\" class=\"storylink\">Nginx 1.15.9</a><span class=\"sitebit comhead\"> (<a href=\"from?site=nginx.org\"><span class=\"sitestr\">nginx.org</span></a>)</span></td></tr><tr><td colspan=\"2\"></td><td class=\"subtext\">\n",
      "        <span class=\"score\" id=\"score_19260903\">91 points</span> by <a href=\"user?id=runesoerensen\" class=\"hnuser\">runesoerensen</a> <span class=\"age\"><a href=\"item?id=19260903\">9 hours ago</a></span> <span id=\"unv_19260903\"></span> | <a href=\"hide?id=19260903&amp;goto=news\">hide</a> | <a href=\"item?id=19260903\">26&nbsp;comments</a>              </td></tr>\n",
      "      <tr class=\"spacer\" style=\"height:5px\"></tr>\n",
      "                <tr class='athing' id='19259099'>\n",
      "      <td align=\"right\" valign=\"top\" class=\"title\"><span class=\"rank\">25.</span></td>      <td valign=\"top\" class=\"votelinks\"><center><a id='up_19259099' href='vote?id=19259099&amp;how=up&amp;goto=news'><div class='votearrow' title='upvote'></div></a></center></td><td class=\"title\"><a href=\"https://github.com/wal-g/wal-g\" class=\"storylink\">WAL-G – fast archival and restoration for PostgreSQL</a><span class=\"sitebit comhead\"> (<a href=\"from?site=github.com\"><span class=\"sitestr\">github.com</span></a>)</span></td></tr><tr><td colspan=\"2\"></td><td class=\"subtext\">\n",
      "        <span class=\"score\" id=\"score_19259099\">86 points</span> by <a href=\"user?id=bjoko\" class=\"hnuser\">bjoko</a> <span class=\"age\"><a href=\"item?id=19259099\">15 hours ago</a></span> <span id=\"unv_19259099\"></span> | <a href=\"hide?id=19259099&amp;goto=news\">hide</a> | <a href=\"item?id=19259099\">9&nbsp;comments</a>              </td></tr>\n",
      "      <tr class=\"spacer\" style=\"height:5px\"></tr>\n",
      "                <tr class='athing' id='19256431'>\n",
      "      <td align=\"right\" valign=\"top\" class=\"title\"><span class=\"rank\">26.</span></td>      <td valign=\"top\" class=\"votelinks\"><center><a id='up_19256431' href='vote?id=19256431&amp;how=up&amp;goto=news'><div class='votearrow' title='upvote'></div></a></center></td><td class=\"title\"><a href=\"http://www.storiesofapple.net/the-jonathan-computer.html\" class=\"storylink\">The Jonathan Computer (2015)</a><span class=\"sitebit comhead\"> (<a href=\"from?site=storiesofapple.net\"><span class=\"sitestr\">storiesofapple.net</span></a>)</span></td></tr><tr><td colspan=\"2\"></td><td class=\"subtext\">\n",
      "        <span class=\"score\" id=\"score_19256431\">75 points</span> by <a href=\"user?id=erickhill\" class=\"hnuser\">erickhill</a> <span class=\"age\"><a href=\"item?id=19256431\">12 hours ago</a></span> <span id=\"unv_19256431\"></span> | <a href=\"hide?id=19256431&amp;goto=news\">hide</a> | <a href=\"item?id=19256431\">16&nbsp;comments</a>              </td></tr>\n",
      "      <tr class=\"spacer\" style=\"height:5px\"></tr>\n",
      "                <tr class='athing' id='19255802'>\n",
      "      <td align=\"right\" valign=\"top\" class=\"title\"><span class=\"rank\">27.</span></td>      <td valign=\"top\" class=\"votelinks\"><center><a id='up_19255802' href='vote?id=19255802&amp;how=up&amp;goto=news'><div class='votearrow' title='upvote'></div></a></center></td><td class=\"title\"><a href=\"https://www.huckmag.com/perspectives/activism-2/a-sold-out-city-the-fight-to-save-dublins-nightlife/\" class=\"storylink\">A sold-out city? The fight to save Dublin’s nightlife</a><span class=\"sitebit comhead\"> (<a href=\"from?site=huckmag.com\"><span class=\"sitestr\">huckmag.com</span></a>)</span></td></tr><tr><td colspan=\"2\"></td><td class=\"subtext\">\n",
      "        <span class=\"score\" id=\"score_19255802\">75 points</span> by <a href=\"user?id=coffeedrop\" class=\"hnuser\">coffeedrop</a> <span class=\"age\"><a href=\"item?id=19255802\">14 hours ago</a></span> <span id=\"unv_19255802\"></span> | <a href=\"hide?id=19255802&amp;goto=news\">hide</a> | <a href=\"item?id=19255802\">82&nbsp;comments</a>              </td></tr>\n",
      "      <tr class=\"spacer\" style=\"height:5px\"></tr>\n",
      "                <tr class='athing' id='19262154'>\n",
      "      <td align=\"right\" valign=\"top\" class=\"title\"><span class=\"rank\">28.</span></td>      <td valign=\"top\" class=\"votelinks\"><center><a id='up_19262154' href='vote?id=19262154&amp;how=up&amp;goto=news'><div class='votearrow' title='upvote'></div></a></center></td><td class=\"title\"><a href=\"https://docs.python.org/3.8/library/multiprocessing.shared_memory.html\" class=\"storylink\">Multiprocessing.shared_memory – Shared memory for direct access across processes</a><span class=\"sitebit comhead\"> (<a href=\"from?site=python.org\"><span class=\"sitestr\">python.org</span></a>)</span></td></tr><tr><td colspan=\"2\"></td><td class=\"subtext\">\n",
      "        <span class=\"score\" id=\"score_19262154\">53 points</span> by <a href=\"user?id=pjmlp\" class=\"hnuser\">pjmlp</a> <span class=\"age\"><a href=\"item?id=19262154\">4 hours ago</a></span> <span id=\"unv_19262154\"></span> | <a href=\"hide?id=19262154&amp;goto=news\">hide</a> | <a href=\"item?id=19262154\">7&nbsp;comments</a>              </td></tr>\n",
      "      <tr class=\"spacer\" style=\"height:5px\"></tr>\n",
      "                <tr class='athing' id='19257358'>\n",
      "      <td align=\"right\" valign=\"top\" class=\"title\"><span class=\"rank\">29.</span></td>      <td valign=\"top\" class=\"votelinks\"><center><a id='up_19257358' href='vote?id=19257358&amp;how=up&amp;goto=news'><div class='votearrow' title='upvote'></div></a></center></td><td class=\"title\"><a href=\"https://www.ftc.gov/news-events/press-releases/2019/02/ftc-brings-first-case-challenging-fake-paid-reviews-independent\" class=\"storylink\">FTC Brings First Case Challenging Fake Paid Reviews on an Indie Retail Website</a><span class=\"sitebit comhead\"> (<a href=\"from?site=ftc.gov\"><span class=\"sitestr\">ftc.gov</span></a>)</span></td></tr><tr><td colspan=\"2\"></td><td class=\"subtext\">\n",
      "        <span class=\"score\" id=\"score_19257358\">255 points</span> by <a href=\"user?id=minimaxir\" class=\"hnuser\">minimaxir</a> <span class=\"age\"><a href=\"item?id=19257358\">18 hours ago</a></span> <span id=\"unv_19257358\"></span> | <a href=\"hide?id=19257358&amp;goto=news\">hide</a> | <a href=\"item?id=19257358\">165&nbsp;comments</a>              </td></tr>\n",
      "      <tr class=\"spacer\" style=\"height:5px\"></tr>\n",
      "                <tr class='athing' id='19259081'>\n",
      "      <td align=\"right\" valign=\"top\" class=\"title\"><span class=\"rank\">30.</span></td>      <td valign=\"top\" class=\"votelinks\"><center><a id='up_19259081' href='vote?id=19259081&amp;how=up&amp;goto=news'><div class='votearrow' title='upvote'></div></a></center></td><td class=\"title\"><a href=\"http://stevesspace.com/2019/02/how-does-hololens2-matter/\" class=\"storylink\">How does the Hololens 2 matter?</a><span class=\"sitebit comhead\"> (<a href=\"from?site=stevesspace.com\"><span class=\"sitestr\">stevesspace.com</span></a>)</span></td></tr><tr><td colspan=\"2\"></td><td class=\"subtext\">\n",
      "        <span class=\"score\" id=\"score_19259081\">178 points</span> by <a href=\"user?id=xwipeoutx\" class=\"hnuser\">xwipeoutx</a> <span class=\"age\"><a href=\"item?id=19259081\">15 hours ago</a></span> <span id=\"unv_19259081\"></span> | <a href=\"hide?id=19259081&amp;goto=news\">hide</a> | <a href=\"item?id=19259081\">76&nbsp;comments</a>              </td></tr>\n",
      "      <tr class=\"spacer\" style=\"height:5px\"></tr>\n",
      "            <tr class=\"morespace\" style=\"height:10px\"></tr><tr><td colspan=\"2\"></td><td class=\"title\"><a href=\"news?p=2\" class=\"morelink\" rel=\"nofollow\">More</a></td></tr>\n",
      "  </table>\n",
      "</td></tr>\n",
      "<tr><td><img src=\"s.gif\" height=\"10\" width=\"0\"><table width=\"100%\" cellspacing=\"0\" cellpadding=\"1\"><tr><td bgcolor=\"#ff6600\"></td></tr></table><br><center><a href=\"https://www.ycombinator.com/apply/\">\n",
      "        Applications are open for YC Summer 2019\n",
      "      </a></center><br><center><span class=\"yclinks\"><a href=\"newsguidelines.html\">Guidelines</a>\n",
      "        | <a href=\"newsfaq.html\">FAQ</a>\n",
      "        | <a href=\"mailto:hn@ycombinator.com\">Support</a>\n",
      "        | <a href=\"https://github.com/HackerNews/API\">API</a>\n",
      "        | <a href=\"security.html\">Security</a>\n",
      "        | <a href=\"lists\">Lists</a>\n",
      "        | <a href=\"bookmarklet.html\" rel=\"nofollow\">Bookmarklet</a>\n",
      "        | <a href=\"http://www.ycombinator.com/legal/\">Legal</a>\n",
      "        | <a href=\"http://www.ycombinator.com/apply/\">Apply to YC</a>\n",
      "        | <a href=\"mailto:hn@ycombinator.com\">Contact</a></span><br><br><form method=\"get\" action=\"//hn.algolia.com/\">Search:\n",
      "          <input type=\"text\" name=\"q\" value=\"\" size=\"17\" autocorrect=\"off\" spellcheck=\"false\" autocapitalize=\"off\" autocomplete=\"false\"></form>\n",
      "            </center></td></tr>\n",
      "      </table></center></body><script type='text/javascript' src='hn.js?bMmY7mEul72ASfiDZSEa'></script>\n",
      "  </html>\n",
      "\n"
     ]
    }
   ],
   "source": [
    "import requests\n",
    "\n",
    "# Fetch a web page\n",
    "r = requests.get(\"https://news.ycombinator.com\")\n",
    "print(r.text)"
   ]
  },
  {
   "cell_type": "code",
   "execution_count": 8,
   "metadata": {},
   "outputs": [
    {
     "name": "stdout",
     "output_type": "stream",
     "text": [
      "\n",
      "            \n",
      "          \n",
      "        Hacker News\n",
      "        \n",
      "                  Hacker News\n",
      "              new | past | comments | ask | show | jobs | submit            \n",
      "                              login\n",
      "                          \n",
      "              \n",
      "\n",
      "              \n",
      "      1.      Redis Turns 10 – How it started with a single post on Hacker News (redislabs.com)\n",
      "        571 points by mrburton 11 hours ago  | hide | 140&nbsp;comments              \n",
      "      \n",
      "                \n",
      "      2.      K3s – Lightweight Kubernetes (k3s.io)\n",
      "        244 points by kadel 7 hours ago  | hide | 97&nbsp;comments              \n",
      "      \n",
      "                \n",
      "      3.      CERN 2019 WorldWideWeb Rebuild (cern.ch)\n",
      "        59 points by lelf 4 hours ago  | hide | 10&nbsp;comments              \n",
      "      \n",
      "                \n",
      "      4.      Defender of the Favicon (2008) (p01.org)\n",
      "        26 points by pplonski86 2 hours ago  | hide | 9&nbsp;comments              \n",
      "      \n",
      "                \n",
      "      5.      Noise Mapping with KSQL, a Raspberry Pi and a Software-Defined Radio (confluent.io)\n",
      "        20 points by h3throw 1 hour ago  | hide | 1&nbsp;comment              \n",
      "      \n",
      "                \n",
      "      6.      Nasa Happily Reports the Earth Is Greener (goodnewsnetwork.org)\n",
      "        264 points by ph0rque 10 hours ago  | hide | 99&nbsp;comments              \n",
      "      \n",
      "                \n",
      "      7.      Cheap Kubernetes Cluster on AWS with Kubeadm (github.com)\n",
      "        57 points by unkoman 4 hours ago  | hide | 6&nbsp;comments              \n",
      "      \n",
      "                \n",
      "      8.      The Life of a Small-Town Bookseller and Writer (lareviewofbooks.org)\n",
      "        14 points by jseliger 3 hours ago  | hide | 1&nbsp;comment              \n",
      "      \n",
      "                \n",
      "      9.      The Entertainer: In Praise of Raymond Smullyan (scientificamerican.com)\n",
      "        46 points by headalgorithm 6 hours ago  | hide | 6&nbsp;comments              \n",
      "      \n",
      "                \n",
      "      10.      Amazon Personalize: Real-Time Recommendation (amazon.com)\n",
      "        140 points by davidjnelson 11 hours ago  | hide | 79&nbsp;comments              \n",
      "      \n",
      "                \n",
      "      11.      MakerLisp Machine (cpmaker.com)\n",
      "        49 points by joubert 8 hours ago  | hide | 5&nbsp;comments              \n",
      "      \n",
      "                \n",
      "      12.      Interview with Fritz Lang, Beverley Hills, August 12, 1972 (mubi.com)\n",
      "        29 points by benbreen 5 hours ago  | hide | 4&nbsp;comments              \n",
      "      \n",
      "                \n",
      "      13.      Keeping the Keck Telescopes Running (darkerview.com)\n",
      "        40 points by sohkamyung 7 hours ago  | hide | 1&nbsp;comment              \n",
      "      \n",
      "                \n",
      "      14.      'Moment of reckoning': US cities burn recyclables after China bans imports (theguardian.com)\n",
      "        15 points by chriskanan 48 minutes ago  | hide | 5&nbsp;comments              \n",
      "      \n",
      "                \n",
      "      15.      Find Files (Ff) – File Search Utility in Rust (github.com)\n",
      "        41 points by pvsukale3 8 hours ago  | hide | 38&nbsp;comments              \n",
      "      \n",
      "                \n",
      "      16.      Show HN: Follow GitHub Organisations (github.com)\n",
      "        39 points by amitmerchant 7 hours ago  | hide | 6&nbsp;comments              \n",
      "      \n",
      "                \n",
      "      17.      HyperCard Users Guide (1987) [pdf] (vintageapple.org)\n",
      "        69 points by tablet 11 hours ago  | hide | 18&nbsp;comments              \n",
      "      \n",
      "                \n",
      "      18.      Additively manufacturable micro-mechanical logic gates (nature.com)\n",
      "        108 points by bobajeff 14 hours ago  | hide | 42&nbsp;comments              \n",
      "      \n",
      "                \n",
      "      19.      Show HN: AdaBound, an optimizer that trains as fast as Adam and as good as SGD (github.com)\n",
      "        37 points by Luolc 8 hours ago  | hide | 2&nbsp;comments              \n",
      "      \n",
      "                \n",
      "      20.      Tesorio (YC S15) Is Hiring Eng. Managers, Data Scientists, Designers, PMs and More (tesorio.com)\n",
      "        2 hours ago | hide      \n",
      "      \n",
      "                \n",
      "      21.      Disco: Modern Session Encryption [pdf] (iacr.org)\n",
      "        16 points by lainon 4 hours ago  | hide | 3&nbsp;comments              \n",
      "      \n",
      "                \n",
      "      22.      Reaping the performance of fast NVM storage with uDepot [pdf] (usenix.org)\n",
      "        3 points by Rafuino 2 hours ago  | hide | discuss              \n",
      "      \n",
      "                \n",
      "      23.      Period Three Implies Chaos (1975) [pdf] (umd.edu)\n",
      "        32 points by espeed 9 hours ago  | hide | 4&nbsp;comments              \n",
      "      \n",
      "                \n",
      "      24.      Nginx 1.15.9 (nginx.org)\n",
      "        91 points by runesoerensen 9 hours ago  | hide | 26&nbsp;comments              \n",
      "      \n",
      "                \n",
      "      25.      WAL-G – fast archival and restoration for PostgreSQL (github.com)\n",
      "        86 points by bjoko 15 hours ago  | hide | 9&nbsp;comments              \n",
      "      \n",
      "                \n",
      "      26.      The Jonathan Computer (2015) (storiesofapple.net)\n",
      "        75 points by erickhill 12 hours ago  | hide | 16&nbsp;comments              \n",
      "      \n",
      "                \n",
      "      27.      A sold-out city? The fight to save Dublin’s nightlife (huckmag.com)\n",
      "        75 points by coffeedrop 14 hours ago  | hide | 82&nbsp;comments              \n",
      "      \n",
      "                \n",
      "      28.      Multiprocessing.shared_memory – Shared memory for direct access across processes (python.org)\n",
      "        53 points by pjmlp 4 hours ago  | hide | 7&nbsp;comments              \n",
      "      \n",
      "                \n",
      "      29.      FTC Brings First Case Challenging Fake Paid Reviews on an Indie Retail Website (ftc.gov)\n",
      "        255 points by minimaxir 18 hours ago  | hide | 165&nbsp;comments              \n",
      "      \n",
      "                \n",
      "      30.      How does the Hololens 2 matter? (stevesspace.com)\n",
      "        178 points by xwipeoutx 15 hours ago  | hide | 76&nbsp;comments              \n",
      "      \n",
      "            More\n",
      "  \n",
      "\n",
      "\n",
      "        Applications are open for YC Summer 2019\n",
      "      Guidelines\n",
      "        | FAQ\n",
      "        | Support\n",
      "        | API\n",
      "        | Security\n",
      "        | Lists\n",
      "        | Bookmarklet\n",
      "        | Legal\n",
      "        | Apply to YC\n",
      "        | ContactSearch:\n",
      "          \n",
      "            \n",
      "      \n",
      "  \n",
      "\n"
     ]
    }
   ],
   "source": [
    "import re\n",
    "\n",
    "# Remove HTML tags using RegEx\n",
    "pattern = re.compile(r'<.*?>')  # tags look like <...>\n",
    "print(pattern.sub('', r.text))  # replace them with blank"
   ]
  },
  {
   "cell_type": "code",
   "execution_count": 9,
   "metadata": {},
   "outputs": [
    {
     "name": "stdout",
     "output_type": "stream",
     "text": [
      "\n",
      "            \n",
      "          \n",
      "        Hacker News\n",
      "        \n",
      "                  Hacker News\n",
      "              new | past | comments | ask | show | jobs | submit            \n",
      "                              login\n",
      "                          \n",
      "              \n",
      "\n",
      "              \n",
      "      1.      Redis Turns 10 – How it started with a single post on Hacker News (redislabs.com)\n",
      "        571 points by mrburton 11 hours ago  | hide | 140 comments              \n",
      "      \n",
      "                \n",
      "      2.      K3s – Lightweight Kubernetes (k3s.io)\n",
      "        244 points by kadel 7 hours ago  | hide | 97 comments              \n",
      "      \n",
      "                \n",
      "      3.      CERN 2019 WorldWideWeb Rebuild (cern.ch)\n",
      "        59 points by lelf 4 hours ago  | hide | 10 comments              \n",
      "      \n",
      "                \n",
      "      4.      Defender of the Favicon (2008) (p01.org)\n",
      "        26 points by pplonski86 2 hours ago  | hide | 9 comments              \n",
      "      \n",
      "                \n",
      "      5.      Noise Mapping with KSQL, a Raspberry Pi and a Software-Defined Radio (confluent.io)\n",
      "        20 points by h3throw 1 hour ago  | hide | 1 comment              \n",
      "      \n",
      "                \n",
      "      6.      Nasa Happily Reports the Earth Is Greener (goodnewsnetwork.org)\n",
      "        264 points by ph0rque 10 hours ago  | hide | 99 comments              \n",
      "      \n",
      "                \n",
      "      7.      Cheap Kubernetes Cluster on AWS with Kubeadm (github.com)\n",
      "        57 points by unkoman 4 hours ago  | hide | 6 comments              \n",
      "      \n",
      "                \n",
      "      8.      The Life of a Small-Town Bookseller and Writer (lareviewofbooks.org)\n",
      "        14 points by jseliger 3 hours ago  | hide | 1 comment              \n",
      "      \n",
      "                \n",
      "      9.      The Entertainer: In Praise of Raymond Smullyan (scientificamerican.com)\n",
      "        46 points by headalgorithm 6 hours ago  | hide | 6 comments              \n",
      "      \n",
      "                \n",
      "      10.      Amazon Personalize: Real-Time Recommendation (amazon.com)\n",
      "        140 points by davidjnelson 11 hours ago  | hide | 79 comments              \n",
      "      \n",
      "                \n",
      "      11.      MakerLisp Machine (cpmaker.com)\n",
      "        49 points by joubert 8 hours ago  | hide | 5 comments              \n",
      "      \n",
      "                \n",
      "      12.      Interview with Fritz Lang, Beverley Hills, August 12, 1972 (mubi.com)\n",
      "        29 points by benbreen 5 hours ago  | hide | 4 comments              \n",
      "      \n",
      "                \n",
      "      13.      Keeping the Keck Telescopes Running (darkerview.com)\n",
      "        40 points by sohkamyung 7 hours ago  | hide | 1 comment              \n",
      "      \n",
      "                \n",
      "      14.      'Moment of reckoning': US cities burn recyclables after China bans imports (theguardian.com)\n",
      "        15 points by chriskanan 48 minutes ago  | hide | 5 comments              \n",
      "      \n",
      "                \n",
      "      15.      Find Files (Ff) – File Search Utility in Rust (github.com)\n",
      "        41 points by pvsukale3 8 hours ago  | hide | 38 comments              \n",
      "      \n",
      "                \n",
      "      16.      Show HN: Follow GitHub Organisations (github.com)\n",
      "        39 points by amitmerchant 7 hours ago  | hide | 6 comments              \n",
      "      \n",
      "                \n",
      "      17.      HyperCard Users Guide (1987) [pdf] (vintageapple.org)\n",
      "        69 points by tablet 11 hours ago  | hide | 18 comments              \n",
      "      \n",
      "                \n",
      "      18.      Additively manufacturable micro-mechanical logic gates (nature.com)\n",
      "        108 points by bobajeff 14 hours ago  | hide | 42 comments              \n",
      "      \n",
      "                \n",
      "      19.      Show HN: AdaBound, an optimizer that trains as fast as Adam and as good as SGD (github.com)\n",
      "        37 points by Luolc 8 hours ago  | hide | 2 comments              \n",
      "      \n",
      "                \n",
      "      20.      Tesorio (YC S15) Is Hiring Eng. Managers, Data Scientists, Designers, PMs and More (tesorio.com)\n",
      "        2 hours ago | hide      \n",
      "      \n",
      "                \n",
      "      21.      Disco: Modern Session Encryption [pdf] (iacr.org)\n",
      "        16 points by lainon 4 hours ago  | hide | 3 comments              \n",
      "      \n",
      "                \n",
      "      22.      Reaping the performance of fast NVM storage with uDepot [pdf] (usenix.org)\n",
      "        3 points by Rafuino 2 hours ago  | hide | discuss              \n",
      "      \n",
      "                \n",
      "      23.      Period Three Implies Chaos (1975) [pdf] (umd.edu)\n",
      "        32 points by espeed 9 hours ago  | hide | 4 comments              \n",
      "      \n",
      "                \n",
      "      24.      Nginx 1.15.9 (nginx.org)\n",
      "        91 points by runesoerensen 9 hours ago  | hide | 26 comments              \n",
      "      \n",
      "                \n",
      "      25.      WAL-G – fast archival and restoration for PostgreSQL (github.com)\n",
      "        86 points by bjoko 15 hours ago  | hide | 9 comments              \n",
      "      \n",
      "                \n",
      "      26.      The Jonathan Computer (2015) (storiesofapple.net)\n",
      "        75 points by erickhill 12 hours ago  | hide | 16 comments              \n",
      "      \n",
      "                \n",
      "      27.      A sold-out city? The fight to save Dublin’s nightlife (huckmag.com)\n",
      "        75 points by coffeedrop 14 hours ago  | hide | 82 comments              \n",
      "      \n",
      "                \n",
      "      28.      Multiprocessing.shared_memory – Shared memory for direct access across processes (python.org)\n",
      "        53 points by pjmlp 4 hours ago  | hide | 7 comments              \n",
      "      \n",
      "                \n",
      "      29.      FTC Brings First Case Challenging Fake Paid Reviews on an Indie Retail Website (ftc.gov)\n",
      "        255 points by minimaxir 18 hours ago  | hide | 165 comments              \n",
      "      \n",
      "                \n",
      "      30.      How does the Hololens 2 matter? (stevesspace.com)\n",
      "        178 points by xwipeoutx 15 hours ago  | hide | 76 comments              \n",
      "      \n",
      "            More\n",
      "  \n",
      "\n",
      "\n",
      "        Applications are open for YC Summer 2019\n",
      "      Guidelines\n",
      "        | FAQ\n",
      "        | Support\n",
      "        | API\n",
      "        | Security\n",
      "        | Lists\n",
      "        | Bookmarklet\n",
      "        | Legal\n",
      "        | Apply to YC\n",
      "        | ContactSearch:\n",
      "          \n",
      "            \n",
      "      \n",
      "  \n",
      "\n"
     ]
    }
   ],
   "source": [
    "from bs4 import BeautifulSoup\n",
    "\n",
    "# Remove HTML tags using Beautiful Soup library\n",
    "soup = BeautifulSoup(r.text, \"html5lib\")\n",
    "print(soup.get_text())"
   ]
  },
  {
   "cell_type": "code",
   "execution_count": 10,
   "metadata": {
    "scrolled": true
   },
   "outputs": [
    {
     "data": {
      "text/plain": [
       "<tr class=\"athing\" id=\"19260306\">\n",
       "      <td align=\"right\" class=\"title\" valign=\"top\"><span class=\"rank\">1.</span></td>      <td class=\"votelinks\" valign=\"top\"><center><a href=\"vote?id=19260306&amp;how=up&amp;goto=news\" id=\"up_19260306\"><div class=\"votearrow\" title=\"upvote\"></div></a></center></td><td class=\"title\"><a class=\"storylink\" href=\"https://redislabs.com/blog/redis-turns-10/\">Redis Turns 10 – How it started with a single post on Hacker News</a><span class=\"sitebit comhead\"> (<a href=\"from?site=redislabs.com\"><span class=\"sitestr\">redislabs.com</span></a>)</span></td></tr>"
      ]
     },
     "execution_count": 10,
     "metadata": {},
     "output_type": "execute_result"
    }
   ],
   "source": [
    "# Find all articles\n",
    "summaries = soup.find_all(\"tr\", class_=\"athing\")\n",
    "summaries[0]"
   ]
  },
  {
   "cell_type": "code",
   "execution_count": 11,
   "metadata": {},
   "outputs": [
    {
     "data": {
      "text/plain": [
       "'Redis Turns 10 – How it started with a single post on Hacker News'"
      ]
     },
     "execution_count": 11,
     "metadata": {},
     "output_type": "execute_result"
    }
   ],
   "source": [
    "# Extract title\n",
    "summaries[0].find(\"a\", class_=\"storylink\").get_text().strip()"
   ]
  },
  {
   "cell_type": "code",
   "execution_count": 12,
   "metadata": {},
   "outputs": [
    {
     "name": "stdout",
     "output_type": "stream",
     "text": [
      "30 Article summaries found. Sample:\n",
      "Redis Turns 10 – How it started with a single post on Hacker News\n"
     ]
    }
   ],
   "source": [
    "# Find all articles, extract titles\n",
    "articles = []\n",
    "summaries = soup.find_all(\"tr\", class_=\"athing\")\n",
    "for summary in summaries:\n",
    "    title = summary.find(\"a\", class_=\"storylink\").get_text().strip()\n",
    "    articles.append((title))\n",
    "\n",
    "print(len(articles), \"Article summaries found. Sample:\")\n",
    "print(articles[0])"
   ]
  },
  {
   "cell_type": "markdown",
   "metadata": {
    "collapsed": true
   },
   "source": [
    "## Normalization"
   ]
  },
  {
   "cell_type": "markdown",
   "metadata": {},
   "source": [
    "### Case Normalization"
   ]
  },
  {
   "cell_type": "code",
   "execution_count": 13,
   "metadata": {},
   "outputs": [
    {
     "name": "stdout",
     "output_type": "stream",
     "text": [
      "The first time you see The Second Renaissance it may look boring. Look at it at least twice and definitely watch part 2. It will change your view of the matrix. Are the human people the ones who started the war ? Is AI a bad thing ?\n"
     ]
    }
   ],
   "source": [
    "# Sample text\n",
    "text = \"The first time you see The Second Renaissance it may look boring. Look at it at least twice and definitely watch part 2. It will change your view of the matrix. Are the human people the ones who started the war ? Is AI a bad thing ?\"\n",
    "print(text)"
   ]
  },
  {
   "cell_type": "code",
   "execution_count": 14,
   "metadata": {},
   "outputs": [
    {
     "name": "stdout",
     "output_type": "stream",
     "text": [
      "the first time you see the second renaissance it may look boring. look at it at least twice and definitely watch part 2. it will change your view of the matrix. are the human people the ones who started the war ? is ai a bad thing ?\n"
     ]
    }
   ],
   "source": [
    "# Convert to lowercase\n",
    "text = text.lower() \n",
    "print(text)"
   ]
  },
  {
   "cell_type": "markdown",
   "metadata": {},
   "source": [
    "### Punctuation Removal"
   ]
  },
  {
   "cell_type": "code",
   "execution_count": 15,
   "metadata": {},
   "outputs": [
    {
     "name": "stdout",
     "output_type": "stream",
     "text": [
      "the first time you see the second renaissance it may look boring  look at it at least twice and definitely watch part 2  it will change your view of the matrix  are the human people the ones who started the war   is ai a bad thing  \n"
     ]
    }
   ],
   "source": [
    "import re\n",
    "\n",
    "# Remove punctuation characters\n",
    "text = re.sub(r\"[^a-zA-Z0-9]\", \" \", text) \n",
    "print(text)"
   ]
  },
  {
   "cell_type": "markdown",
   "metadata": {},
   "source": [
    "## Tokenization"
   ]
  },
  {
   "cell_type": "code",
   "execution_count": 16,
   "metadata": {},
   "outputs": [
    {
     "name": "stdout",
     "output_type": "stream",
     "text": [
      "['the', 'first', 'time', 'you', 'see', 'the', 'second', 'renaissance', 'it', 'may', 'look', 'boring', 'look', 'at', 'it', 'at', 'least', 'twice', 'and', 'definitely', 'watch', 'part', '2', 'it', 'will', 'change', 'your', 'view', 'of', 'the', 'matrix', 'are', 'the', 'human', 'people', 'the', 'ones', 'who', 'started', 'the', 'war', 'is', 'ai', 'a', 'bad', 'thing']\n"
     ]
    }
   ],
   "source": [
    "# Split text into tokens (words)\n",
    "words = text.split()\n",
    "print(words)"
   ]
  },
  {
   "cell_type": "markdown",
   "metadata": {},
   "source": [
    "### NLTK: Natural Language ToolKit"
   ]
  },
  {
   "cell_type": "code",
   "execution_count": 17,
   "metadata": {},
   "outputs": [],
   "source": [
    "import os\n",
    "import nltk\n",
    "nltk.data.path.append(os.path.join(os.getcwd(), \"nltk_data\"))"
   ]
  },
  {
   "cell_type": "code",
   "execution_count": 18,
   "metadata": {},
   "outputs": [
    {
     "name": "stdout",
     "output_type": "stream",
     "text": [
      "Dr. Smith graduated from the University of Washington. He later started an analytics firm called Lux, which catered to enterprise customers.\n"
     ]
    }
   ],
   "source": [
    "# Another sample text\n",
    "text = \"Dr. Smith graduated from the University of Washington. He later started an analytics firm called Lux, which catered to enterprise customers.\"\n",
    "print(text)"
   ]
  },
  {
   "cell_type": "code",
   "execution_count": 19,
   "metadata": {},
   "outputs": [
    {
     "name": "stdout",
     "output_type": "stream",
     "text": [
      "['Dr.', 'Smith', 'graduated', 'from', 'the', 'University', 'of', 'Washington', '.', 'He', 'later', 'started', 'an', 'analytics', 'firm', 'called', 'Lux', ',', 'which', 'catered', 'to', 'enterprise', 'customers', '.']\n"
     ]
    }
   ],
   "source": [
    "from nltk.tokenize import word_tokenize\n",
    "\n",
    "# Split text into words using NLTK\n",
    "words = word_tokenize(text)\n",
    "print(words)"
   ]
  },
  {
   "cell_type": "code",
   "execution_count": 20,
   "metadata": {},
   "outputs": [
    {
     "name": "stdout",
     "output_type": "stream",
     "text": [
      "['Dr. Smith graduated from the University of Washington.', 'He later started an analytics firm called Lux, which catered to enterprise customers.']\n"
     ]
    }
   ],
   "source": [
    "from nltk.tokenize import sent_tokenize\n",
    "\n",
    "# Split text into sentences\n",
    "sentences = sent_tokenize(text)\n",
    "print(sentences)"
   ]
  },
  {
   "cell_type": "code",
   "execution_count": 23,
   "metadata": {},
   "outputs": [
    {
     "name": "stdout",
     "output_type": "stream",
     "text": [
      "['i', 'me', 'my', 'myself', 'we', 'our', 'ours', 'ourselves', 'you', \"you're\", \"you've\", \"you'll\", \"you'd\", 'your', 'yours', 'yourself', 'yourselves', 'he', 'him', 'his', 'himself', 'she', \"she's\", 'her', 'hers', 'herself', 'it', \"it's\", 'its', 'itself', 'they', 'them', 'their', 'theirs', 'themselves', 'what', 'which', 'who', 'whom', 'this', 'that', \"that'll\", 'these', 'those', 'am', 'is', 'are', 'was', 'were', 'be', 'been', 'being', 'have', 'has', 'had', 'having', 'do', 'does', 'did', 'doing', 'a', 'an', 'the', 'and', 'but', 'if', 'or', 'because', 'as', 'until', 'while', 'of', 'at', 'by', 'for', 'with', 'about', 'against', 'between', 'into', 'through', 'during', 'before', 'after', 'above', 'below', 'to', 'from', 'up', 'down', 'in', 'out', 'on', 'off', 'over', 'under', 'again', 'further', 'then', 'once', 'here', 'there', 'when', 'where', 'why', 'how', 'all', 'any', 'both', 'each', 'few', 'more', 'most', 'other', 'some', 'such', 'no', 'nor', 'not', 'only', 'own', 'same', 'so', 'than', 'too', 'very', 's', 't', 'can', 'will', 'just', 'don', \"don't\", 'should', \"should've\", 'now', 'd', 'll', 'm', 'o', 're', 've', 'y', 'ain', 'aren', \"aren't\", 'couldn', \"couldn't\", 'didn', \"didn't\", 'doesn', \"doesn't\", 'hadn', \"hadn't\", 'hasn', \"hasn't\", 'haven', \"haven't\", 'isn', \"isn't\", 'ma', 'mightn', \"mightn't\", 'mustn', \"mustn't\", 'needn', \"needn't\", 'shan', \"shan't\", 'shouldn', \"shouldn't\", 'wasn', \"wasn't\", 'weren', \"weren't\", 'won', \"won't\", 'wouldn', \"wouldn't\"]\n"
     ]
    }
   ],
   "source": [
    "# List stop words\n",
    "from nltk.corpus import stopwords\n",
    "print(stopwords.words(\"english\"))"
   ]
  },
  {
   "cell_type": "code",
   "execution_count": 24,
   "metadata": {},
   "outputs": [
    {
     "name": "stdout",
     "output_type": "stream",
     "text": [
      "['the', 'first', 'time', 'you', 'see', 'the', 'second', 'renaissance', 'it', 'may', 'look', 'boring', 'look', 'at', 'it', 'at', 'least', 'twice', 'and', 'definitely', 'watch', 'part', '2', 'it', 'will', 'change', 'your', 'view', 'of', 'the', 'matrix', 'are', 'the', 'human', 'people', 'the', 'ones', 'who', 'started', 'the', 'war', 'is', 'ai', 'a', 'bad', 'thing']\n"
     ]
    }
   ],
   "source": [
    "# Reset text\n",
    "text = \"The first time you see The Second Renaissance it may look boring. Look at it at least twice and definitely watch part 2. It will change your view of the matrix. Are the human people the ones who started the war ? Is AI a bad thing ?\"\n",
    "\n",
    "# Normalize it\n",
    "text = re.sub(r\"[^a-zA-Z0-9]\", \" \", text.lower())\n",
    "\n",
    "# Tokenize it\n",
    "words = text.split()\n",
    "print(words)"
   ]
  },
  {
   "cell_type": "code",
   "execution_count": 25,
   "metadata": {},
   "outputs": [
    {
     "name": "stdout",
     "output_type": "stream",
     "text": [
      "['first', 'time', 'see', 'second', 'renaissance', 'may', 'look', 'boring', 'look', 'least', 'twice', 'definitely', 'watch', 'part', '2', 'change', 'view', 'matrix', 'human', 'people', 'ones', 'started', 'war', 'ai', 'bad', 'thing']\n"
     ]
    }
   ],
   "source": [
    "# Remove stop words\n",
    "words = [w for w in words if w not in stopwords.words(\"english\")]\n",
    "print(words)"
   ]
  },
  {
   "cell_type": "markdown",
   "metadata": {},
   "source": [
    "### Sentence Parsing"
   ]
  },
  {
   "cell_type": "code",
   "execution_count": 27,
   "metadata": {},
   "outputs": [
    {
     "name": "stdout",
     "output_type": "stream",
     "text": [
      "(S\n",
      "  (NP I)\n",
      "  (VP\n",
      "    (VP (V shot) (NP (Det an) (N elephant)))\n",
      "    (PP (P in) (NP (Det my) (N pajamas)))))\n",
      "(S\n",
      "  (NP I)\n",
      "  (VP\n",
      "    (V shot)\n",
      "    (NP (Det an) (N elephant) (PP (P in) (NP (Det my) (N pajamas))))))\n"
     ]
    }
   ],
   "source": [
    "import nltk\n",
    "\n",
    "# Define a custom grammar\n",
    "my_grammar = nltk.CFG.fromstring(\"\"\"\n",
    "S -> NP VP\n",
    "PP -> P NP\n",
    "NP -> Det N | Det N PP | 'I'\n",
    "VP -> V NP | VP PP\n",
    "Det -> 'an' | 'my'\n",
    "N -> 'elephant' | 'pajamas'\n",
    "V -> 'shot'\n",
    "P -> 'in'\n",
    "\"\"\")\n",
    "parser = nltk.ChartParser(my_grammar)\n",
    "\n",
    "# Parse a sentence\n",
    "sentence = word_tokenize(\"I shot an elephant in my pajamas\")\n",
    "for tree in parser.parse(sentence):\n",
    "    print(tree)"
   ]
  },
  {
   "cell_type": "markdown",
   "metadata": {},
   "source": [
    "## Stemming & Lemmatization\n",
    "\n",
    "### Stemming"
   ]
  },
  {
   "cell_type": "code",
   "execution_count": 28,
   "metadata": {},
   "outputs": [
    {
     "name": "stdout",
     "output_type": "stream",
     "text": [
      "['first', 'time', 'see', 'second', 'renaiss', 'may', 'look', 'bore', 'look', 'least', 'twice', 'definit', 'watch', 'part', '2', 'chang', 'view', 'matrix', 'human', 'peopl', 'one', 'start', 'war', 'ai', 'bad', 'thing']\n"
     ]
    }
   ],
   "source": [
    "from nltk.stem.porter import PorterStemmer\n",
    "\n",
    "# Reduce words to their stems\n",
    "stemmed = [PorterStemmer().stem(w) for w in words]\n",
    "print(stemmed)"
   ]
  },
  {
   "cell_type": "markdown",
   "metadata": {},
   "source": [
    "### Lemmatization"
   ]
  },
  {
   "cell_type": "code",
   "execution_count": 29,
   "metadata": {},
   "outputs": [
    {
     "name": "stdout",
     "output_type": "stream",
     "text": [
      "['first', 'time', 'see', 'second', 'renaissance', 'may', 'look', 'boring', 'look', 'least', 'twice', 'definitely', 'watch', 'part', '2', 'change', 'view', 'matrix', 'human', 'people', 'one', 'started', 'war', 'ai', 'bad', 'thing']\n"
     ]
    }
   ],
   "source": [
    "from nltk.stem.wordnet import WordNetLemmatizer\n",
    "\n",
    "# Reduce words to their root form\n",
    "lemmed = [WordNetLemmatizer().lemmatize(w) for w in words]\n",
    "print(lemmed)"
   ]
  },
  {
   "cell_type": "code",
   "execution_count": 30,
   "metadata": {},
   "outputs": [
    {
     "name": "stdout",
     "output_type": "stream",
     "text": [
      "['first', 'time', 'see', 'second', 'renaissance', 'may', 'look', 'bore', 'look', 'least', 'twice', 'definitely', 'watch', 'part', '2', 'change', 'view', 'matrix', 'human', 'people', 'one', 'start', 'war', 'ai', 'bad', 'thing']\n"
     ]
    }
   ],
   "source": [
    "# Lemmatize verbs by specifying pos\n",
    "lemmed = [WordNetLemmatizer().lemmatize(w, pos='v') for w in lemmed]\n",
    "print(lemmed)"
   ]
  },
  {
   "cell_type": "code",
   "execution_count": null,
   "metadata": {},
   "outputs": [],
   "source": []
  }
 ],
 "metadata": {
  "kernelspec": {
   "display_name": "Python 3",
   "language": "python",
   "name": "python3"
  },
  "language_info": {
   "codemirror_mode": {
    "name": "ipython",
    "version": 3
   },
   "file_extension": ".py",
   "mimetype": "text/x-python",
   "name": "python",
   "nbconvert_exporter": "python",
   "pygments_lexer": "ipython3",
   "version": "3.6.3"
  }
 },
 "nbformat": 4,
 "nbformat_minor": 2
}
